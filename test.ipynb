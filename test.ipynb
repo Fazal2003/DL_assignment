{
 "cells": [
  {
   "cell_type": "code",
   "execution_count": 1,
   "metadata": {},
   "outputs": [
    {
     "name": "stderr",
     "output_type": "stream",
     "text": [
      "c:\\Users\\mfaza\\AppData\\Local\\Programs\\Python\\Python311\\Lib\\site-packages\\tqdm\\auto.py:21: TqdmWarning: IProgress not found. Please update jupyter and ipywidgets. See https://ipywidgets.readthedocs.io/en/stable/user_install.html\n",
      "  from .autonotebook import tqdm as notebook_tqdm\n"
     ]
    }
   ],
   "source": [
    "import numpy as np\n",
    "import wandb \n",
    "from layer import layer\n",
    "from activation import activation\n",
    "from keras.datasets import fashion_mnist\n",
    "from loss import loss\n",
    "from tqdm.auto import tqdm\n",
    "from optimizer import optimzer"
   ]
  },
  {
   "cell_type": "code",
   "execution_count": 7,
   "metadata": {},
   "outputs": [
    {
     "name": "stderr",
     "output_type": "stream",
     "text": [
      "\u001b[34m\u001b[1mwandb\u001b[0m: \u001b[33mWARNING\u001b[0m Calling wandb.login() after wandb.init() has no effect.\n"
     ]
    },
    {
     "data": {
      "text/plain": [
       "True"
      ]
     },
     "execution_count": 7,
     "metadata": {},
     "output_type": "execute_result"
    }
   ],
   "source": [
    "wandb.login()\n",
    "\n",
    "\n",
    "  "
   ]
  },
  {
   "cell_type": "code",
   "execution_count": 11,
   "metadata": {},
   "outputs": [],
   "source": [
    "wandb.init(project='deep learing assignment1 ',name='Mohammed Fazalullah')\n",
    "wandb.config.update({'learing_rate':0.001,\"epochs\":10})\n"
   ]
  },
  {
   "cell_type": "code",
   "execution_count": 8,
   "metadata": {},
   "outputs": [],
   "source": [
    "\n",
    "(train_images,train_labels),(test_images,test_labels)=fashion_mnist.load_data()\n",
    "train_images, test_images = train_images/255.0, test_images/255.0\n",
    "train_images, test_images = train_images.reshape(-1, 784), test_images.reshape(-1, 784)\n",
    "\n",
    "size=len(train_images)\n",
    "def one_hot_encode(labels,classes):\n",
    "    one_hot=np.zeros((size,classes))\n",
    "    one_hot[np.arange(labels.shape[0]),labels]=1\n",
    "    return one_hot\n",
    "\n",
    "\n",
    "y_true=one_hot_encode(train_labels,10)\n",
    "y_test = one_hot_encode(test_labels, 10)"
   ]
  },
  {
   "cell_type": "code",
   "execution_count": 9,
   "metadata": {},
   "outputs": [],
   "source": [
    "n=3 #number of layers\n",
    "layer1=layer(784,16)\n",
    "layer2=layer(16,16)\n",
    "layer3=layer(16,10)\n",
    "activ=activation()\n",
    "cost=loss()\n",
    "learning_rate=0.001\n"
   ]
  },
  {
   "cell_type": "code",
   "execution_count": 13,
   "metadata": {},
   "outputs": [
    {
     "name": "stderr",
     "output_type": "stream",
     "text": [
      "\u001b[34m\u001b[1mwandb\u001b[0m: \u001b[33mWARNING\u001b[0m Calling wandb.login() after wandb.init() has no effect.\n"
     ]
    },
    {
     "name": "stdout",
     "output_type": "stream",
     "text": [
      "Create sweep with ID: 7vfmomu0\n",
      "Sweep URL: https://wandb.ai/mfazal735-iit-madras-foundation/deep%20learing%20assignment1%20/sweeps/7vfmomu0\n"
     ]
    },
    {
     "name": "stderr",
     "output_type": "stream",
     "text": [
      "\u001b[34m\u001b[1mwandb\u001b[0m: Agent Starting Run: e5qyht29 with config:\n",
      "\u001b[34m\u001b[1mwandb\u001b[0m: \tactivation: ReLU\n",
      "\u001b[34m\u001b[1mwandb\u001b[0m: \tbatch_size: 64\n",
      "\u001b[34m\u001b[1mwandb\u001b[0m: \tepochs: 5\n",
      "\u001b[34m\u001b[1mwandb\u001b[0m: \thidden_layers: 4\n",
      "\u001b[34m\u001b[1mwandb\u001b[0m: \thidden_size: 128\n",
      "\u001b[34m\u001b[1mwandb\u001b[0m: \tlearning_rate: 0.0001\n",
      "\u001b[34m\u001b[1mwandb\u001b[0m: \toptimizer: nesterov\n",
      "\u001b[34m\u001b[1mwandb\u001b[0m: \tweight_decay: 0.0005\n",
      "\u001b[34m\u001b[1mwandb\u001b[0m: \tweight_init: random\n",
      "  0%|          | 0/10 [00:00<?, ?it/s]c:\\Users\\mfaza\\OneDrive\\Desktop\\DL\\DL_assignment\\activation.py:17: RuntimeWarning: overflow encountered in exp\n",
      "  return (1/(1+np.exp(-z)))\n",
      " 10%|█         | 1/10 [00:13<02:02, 13.58s/it]"
     ]
    },
    {
     "name": "stdout",
     "output_type": "stream",
     "text": [
      "Epoch 1/10 - Loss: 1.3254, Accuracy: 0.4389\n",
      "1.3254125427810663 0.4388840715048026\n"
     ]
    },
    {
     "name": "stderr",
     "output_type": "stream",
     "text": [
      " 20%|██        | 2/10 [00:33<02:18, 17.32s/it]"
     ]
    },
    {
     "name": "stdout",
     "output_type": "stream",
     "text": [
      "Epoch 2/10 - Loss: 1.3161, Accuracy: 0.4370\n",
      "1.3160912085628758 0.4370497598719317\n"
     ]
    },
    {
     "name": "stderr",
     "output_type": "stream",
     "text": [
      " 30%|███       | 3/10 [01:04<02:44, 23.47s/it]"
     ]
    },
    {
     "name": "stdout",
     "output_type": "stream",
     "text": [
      "Epoch 3/10 - Loss: 1.3179, Accuracy: 0.4398\n",
      "1.3178711448088118 0.4397512006403415\n"
     ]
    },
    {
     "name": "stderr",
     "output_type": "stream",
     "text": [
      " 40%|████      | 4/10 [01:36<02:41, 26.86s/it]"
     ]
    },
    {
     "name": "stdout",
     "output_type": "stream",
     "text": [
      "Epoch 4/10 - Loss: 1.3165, Accuracy: 0.4378\n",
      "1.316481513558359 0.4378168356456777\n"
     ]
    },
    {
     "name": "stderr",
     "output_type": "stream",
     "text": [
      " 50%|█████     | 5/10 [01:57<02:04, 24.95s/it]"
     ]
    },
    {
     "name": "stdout",
     "output_type": "stream",
     "text": [
      "Epoch 5/10 - Loss: 1.2944, Accuracy: 0.4473\n",
      "1.2944310673992798 0.4473052294557097\n"
     ]
    },
    {
     "name": "stderr",
     "output_type": "stream",
     "text": [
      " 60%|██████    | 6/10 [02:13<01:26, 21.74s/it]"
     ]
    },
    {
     "name": "stdout",
     "output_type": "stream",
     "text": [
      "Epoch 6/10 - Loss: 1.2673, Accuracy: 0.4598\n",
      "1.267257239189246 0.45979522411953044\n"
     ]
    },
    {
     "name": "stderr",
     "output_type": "stream",
     "text": [
      " 70%|███████   | 7/10 [02:30<01:00, 20.08s/it]"
     ]
    },
    {
     "name": "stdout",
     "output_type": "stream",
     "text": [
      "Epoch 7/10 - Loss: 1.2424, Accuracy: 0.4783\n",
      "1.2423905921580833 0.4782717449306297\n"
     ]
    },
    {
     "name": "stderr",
     "output_type": "stream",
     "text": [
      " 80%|████████  | 8/10 [02:44<00:36, 18.15s/it]"
     ]
    },
    {
     "name": "stdout",
     "output_type": "stream",
     "text": [
      "Epoch 8/10 - Loss: 1.2313, Accuracy: 0.4879\n",
      "1.2313476552574885 0.48787686766275346\n"
     ]
    },
    {
     "name": "stderr",
     "output_type": "stream",
     "text": [
      " 90%|█████████ | 9/10 [02:58<00:16, 16.89s/it]"
     ]
    },
    {
     "name": "stdout",
     "output_type": "stream",
     "text": [
      "Epoch 9/10 - Loss: 1.2068, Accuracy: 0.4992\n",
      "1.2067552988332158 0.4991662219850587\n"
     ]
    },
    {
     "name": "stderr",
     "output_type": "stream",
     "text": [
      "100%|██████████| 10/10 [03:15<00:00, 19.52s/it]"
     ]
    },
    {
     "name": "stdout",
     "output_type": "stream",
     "text": [
      "Epoch 10/10 - Loss: 1.2004, Accuracy: 0.4979\n",
      "1.2004161553117512 0.4978988794023479\n"
     ]
    },
    {
     "name": "stderr",
     "output_type": "stream",
     "text": [
      "\n",
      "Exception in thread Thread-106 (_run_job):\n",
      "Traceback (most recent call last):\n",
      "  File \"c:\\Users\\mfaza\\AppData\\Local\\Programs\\Python\\Python311\\Lib\\site-packages\\wandb\\agents\\pyagent.py\", line 307, in _run_job\n",
      "    wandb.finish()\n",
      "  File \"c:\\Users\\mfaza\\AppData\\Local\\Programs\\Python\\Python311\\Lib\\site-packages\\wandb\\sdk\\wandb_run.py\", line 4130, in finish\n",
      "    wandb.run.finish(exit_code=exit_code, quiet=quiet)\n",
      "  File \"c:\\Users\\mfaza\\AppData\\Local\\Programs\\Python\\Python311\\Lib\\site-packages\\wandb\\sdk\\wandb_run.py\", line 449, in wrapper\n",
      "    return func(self, *args, **kwargs)\n",
      "           ^^^^^^^^^^^^^^^^^^^^^^^^^^^\n",
      "  File \"c:\\Users\\mfaza\\AppData\\Local\\Programs\\Python\\Python311\\Lib\\site-packages\\wandb\\sdk\\wandb_run.py\", line 391, in wrapper\n",
      "    return func(self, *args, **kwargs)\n",
      "           ^^^^^^^^^^^^^^^^^^^^^^^^^^^\n",
      "  File \"c:\\Users\\mfaza\\AppData\\Local\\Programs\\Python\\Python311\\Lib\\site-packages\\wandb\\sdk\\wandb_run.py\", line 2106, in finish\n",
      "    return self._finish(exit_code)\n",
      "           ^^^^^^^^^^^^^^^^^^^^^^^\n",
      "  File \"c:\\Users\\mfaza\\AppData\\Local\\Programs\\Python\\Python311\\Lib\\site-packages\\wandb\\sdk\\wandb_run.py\", line 2113, in _finish\n",
      "    with telemetry.context(run=self) as tel:\n",
      "  File \"c:\\Users\\mfaza\\AppData\\Local\\Programs\\Python\\Python311\\Lib\\site-packages\\wandb\\sdk\\lib\\telemetry.py\", line 42, in __exit__\n",
      "    self._run._telemetry_callback(self._obj)\n",
      "  File \"c:\\Users\\mfaza\\AppData\\Local\\Programs\\Python\\Python311\\Lib\\site-packages\\wandb\\sdk\\wandb_run.py\", line 749, in _telemetry_callback\n",
      "    self._telemetry_flush()\n",
      "  File \"c:\\Users\\mfaza\\AppData\\Local\\Programs\\Python\\Python311\\Lib\\site-packages\\wandb\\sdk\\wandb_run.py\", line 762, in _telemetry_flush\n",
      "    self._backend.interface._publish_telemetry(self._telemetry_obj)\n",
      "  File \"c:\\Users\\mfaza\\AppData\\Local\\Programs\\Python\\Python311\\Lib\\site-packages\\wandb\\sdk\\interface\\interface_shared.py\", line 60, in _publish_telemetry\n",
      "    self._publish(rec)\n",
      "  File \"c:\\Users\\mfaza\\AppData\\Local\\Programs\\Python\\Python311\\Lib\\site-packages\\wandb\\sdk\\interface\\interface_sock.py\", line 39, in _publish\n",
      "    self._sock_client.send_record_publish(record)\n",
      "  File \"c:\\Users\\mfaza\\AppData\\Local\\Programs\\Python\\Python311\\Lib\\site-packages\\wandb\\sdk\\lib\\sock_client.py\", line 174, in send_record_publish\n",
      "    self.send_server_request(server_req)\n",
      "  File \"c:\\Users\\mfaza\\AppData\\Local\\Programs\\Python\\Python311\\Lib\\site-packages\\wandb\\sdk\\lib\\sock_client.py\", line 154, in send_server_request\n",
      "    self._send_message(msg)\n",
      "  File \"c:\\Users\\mfaza\\AppData\\Local\\Programs\\Python\\Python311\\Lib\\site-packages\\wandb\\sdk\\lib\\sock_client.py\", line 151, in _send_message\n",
      "    self._sendall_with_error_handle(header + data)\n",
      "  File \"c:\\Users\\mfaza\\AppData\\Local\\Programs\\Python\\Python311\\Lib\\site-packages\\wandb\\sdk\\lib\\sock_client.py\", line 130, in _sendall_with_error_handle\n",
      "    sent = self._sock.send(data)\n",
      "           ^^^^^^^^^^^^^^^^^^^^^\n",
      "ConnectionAbortedError: [WinError 10053] An established connection was aborted by the software in your host machine\n",
      "\n",
      "During handling of the above exception, another exception occurred:\n",
      "\n",
      "Traceback (most recent call last):\n",
      "  File \"c:\\Users\\mfaza\\AppData\\Local\\Programs\\Python\\Python311\\Lib\\threading.py\", line 1038, in _bootstrap_inner\n",
      "    self.run()\n",
      "  File \"C:\\Users\\mfaza\\AppData\\Roaming\\Python\\Python311\\site-packages\\ipykernel\\ipkernel.py\", line 766, in run_closure\n",
      "    _threading_Thread_run(self)\n",
      "  File \"c:\\Users\\mfaza\\AppData\\Local\\Programs\\Python\\Python311\\Lib\\threading.py\", line 975, in run\n",
      "    self._target(*self._args, **self._kwargs)\n",
      "  File \"c:\\Users\\mfaza\\AppData\\Local\\Programs\\Python\\Python311\\Lib\\site-packages\\wandb\\agents\\pyagent.py\", line 311, in _run_job\n",
      "    wandb.finish(exit_code=1)\n",
      "  File \"c:\\Users\\mfaza\\AppData\\Local\\Programs\\Python\\Python311\\Lib\\site-packages\\wandb\\sdk\\wandb_run.py\", line 4130, in finish\n",
      "    wandb.run.finish(exit_code=exit_code, quiet=quiet)\n",
      "  File \"c:\\Users\\mfaza\\AppData\\Local\\Programs\\Python\\Python311\\Lib\\site-packages\\wandb\\sdk\\wandb_run.py\", line 449, in wrapper\n",
      "    return func(self, *args, **kwargs)\n",
      "           ^^^^^^^^^^^^^^^^^^^^^^^^^^^\n",
      "  File \"c:\\Users\\mfaza\\AppData\\Local\\Programs\\Python\\Python311\\Lib\\site-packages\\wandb\\sdk\\wandb_run.py\", line 391, in wrapper\n",
      "    return func(self, *args, **kwargs)\n",
      "           ^^^^^^^^^^^^^^^^^^^^^^^^^^^\n",
      "  File \"c:\\Users\\mfaza\\AppData\\Local\\Programs\\Python\\Python311\\Lib\\site-packages\\wandb\\sdk\\wandb_run.py\", line 2106, in finish\n",
      "    return self._finish(exit_code)\n",
      "           ^^^^^^^^^^^^^^^^^^^^^^^\n",
      "  File \"c:\\Users\\mfaza\\AppData\\Local\\Programs\\Python\\Python311\\Lib\\site-packages\\wandb\\sdk\\wandb_run.py\", line 2113, in _finish\n",
      "    with telemetry.context(run=self) as tel:\n",
      "  File \"c:\\Users\\mfaza\\AppData\\Local\\Programs\\Python\\Python311\\Lib\\site-packages\\wandb\\sdk\\lib\\telemetry.py\", line 42, in __exit__\n",
      "    self._run._telemetry_callback(self._obj)\n",
      "  File \"c:\\Users\\mfaza\\AppData\\Local\\Programs\\Python\\Python311\\Lib\\site-packages\\wandb\\sdk\\wandb_run.py\", line 749, in _telemetry_callback\n",
      "    self._telemetry_flush()\n",
      "  File \"c:\\Users\\mfaza\\AppData\\Local\\Programs\\Python\\Python311\\Lib\\site-packages\\wandb\\sdk\\wandb_run.py\", line 762, in _telemetry_flush\n",
      "    self._backend.interface._publish_telemetry(self._telemetry_obj)\n",
      "  File \"c:\\Users\\mfaza\\AppData\\Local\\Programs\\Python\\Python311\\Lib\\site-packages\\wandb\\sdk\\interface\\interface_shared.py\", line 60, in _publish_telemetry\n",
      "    self._publish(rec)\n",
      "  File \"c:\\Users\\mfaza\\AppData\\Local\\Programs\\Python\\Python311\\Lib\\site-packages\\wandb\\sdk\\interface\\interface_sock.py\", line 39, in _publish\n",
      "    self._sock_client.send_record_publish(record)\n",
      "  File \"c:\\Users\\mfaza\\AppData\\Local\\Programs\\Python\\Python311\\Lib\\site-packages\\wandb\\sdk\\lib\\sock_client.py\", line 174, in send_record_publish\n",
      "    self.send_server_request(server_req)\n",
      "  File \"c:\\Users\\mfaza\\AppData\\Local\\Programs\\Python\\Python311\\Lib\\site-packages\\wandb\\sdk\\lib\\sock_client.py\", line 154, in send_server_request\n",
      "    self._send_message(msg)\n",
      "  File \"c:\\Users\\mfaza\\AppData\\Local\\Programs\\Python\\Python311\\Lib\\site-packages\\wandb\\sdk\\lib\\sock_client.py\", line 151, in _send_message\n",
      "    self._sendall_with_error_handle(header + data)\n",
      "  File \"c:\\Users\\mfaza\\AppData\\Local\\Programs\\Python\\Python311\\Lib\\site-packages\\wandb\\sdk\\lib\\sock_client.py\", line 130, in _sendall_with_error_handle\n",
      "    sent = self._sock.send(data)\n",
      "           ^^^^^^^^^^^^^^^^^^^^^\n",
      "ConnectionAbortedError: [WinError 10053] An established connection was aborted by the software in your host machine\n",
      "\u001b[34m\u001b[1mwandb\u001b[0m: Agent Starting Run: 1af65y35 with config:\n",
      "\u001b[34m\u001b[1mwandb\u001b[0m: \tactivation: tanh\n",
      "\u001b[34m\u001b[1mwandb\u001b[0m: \tbatch_size: 16\n",
      "\u001b[34m\u001b[1mwandb\u001b[0m: \tepochs: 10\n",
      "\u001b[34m\u001b[1mwandb\u001b[0m: \thidden_layers: 5\n",
      "\u001b[34m\u001b[1mwandb\u001b[0m: \thidden_size: 32\n",
      "\u001b[34m\u001b[1mwandb\u001b[0m: \tlearning_rate: 0.0001\n",
      "\u001b[34m\u001b[1mwandb\u001b[0m: \toptimizer: momentum\n",
      "\u001b[34m\u001b[1mwandb\u001b[0m: \tweight_decay: 0.0005\n",
      "\u001b[34m\u001b[1mwandb\u001b[0m: \tweight_init: random\n",
      " 10%|█         | 1/10 [00:26<04:02, 26.90s/it]"
     ]
    },
    {
     "name": "stdout",
     "output_type": "stream",
     "text": [
      "Epoch 1/10 - Loss: 1.2228, Accuracy: 0.4943\n",
      "1.2228284300504584 0.49434698505869795\n"
     ]
    },
    {
     "name": "stderr",
     "output_type": "stream",
     "text": [
      " 20%|██        | 2/10 [00:42<02:40, 20.12s/it]"
     ]
    },
    {
     "name": "stdout",
     "output_type": "stream",
     "text": [
      "Epoch 2/10 - Loss: 1.2414, Accuracy: 0.4982\n",
      "1.2413745998429242 0.4982157150480256\n"
     ]
    },
    {
     "name": "stderr",
     "output_type": "stream",
     "text": [
      " 30%|███       | 3/10 [00:59<02:12, 18.91s/it]"
     ]
    },
    {
     "name": "stdout",
     "output_type": "stream",
     "text": [
      "Epoch 3/10 - Loss: 1.2461, Accuracy: 0.4961\n",
      "1.2461347303909271 0.4960812433297759\n"
     ]
    },
    {
     "name": "stderr",
     "output_type": "stream",
     "text": [
      " 40%|████      | 4/10 [01:15<01:45, 17.61s/it]"
     ]
    },
    {
     "name": "stdout",
     "output_type": "stream",
     "text": [
      "Epoch 4/10 - Loss: 1.2446, Accuracy: 0.5016\n",
      "1.2445511050708304 0.5016008537886874\n"
     ]
    },
    {
     "name": "stderr",
     "output_type": "stream",
     "text": [
      " 50%|█████     | 5/10 [01:29<01:21, 16.39s/it]"
     ]
    },
    {
     "name": "stdout",
     "output_type": "stream",
     "text": [
      "Epoch 5/10 - Loss: 1.2130, Accuracy: 0.5161\n",
      "1.2130409458220026 0.5161085912486659\n"
     ]
    },
    {
     "name": "stderr",
     "output_type": "stream",
     "text": [
      " 60%|██████    | 6/10 [01:43<01:02, 15.53s/it]"
     ]
    },
    {
     "name": "stdout",
     "output_type": "stream",
     "text": [
      "Epoch 6/10 - Loss: 1.1923, Accuracy: 0.5055\n",
      "1.1923073340068697 0.5055029348986126\n"
     ]
    },
    {
     "name": "stderr",
     "output_type": "stream",
     "text": [
      " 70%|███████   | 7/10 [01:57<00:45, 15.14s/it]"
     ]
    },
    {
     "name": "stdout",
     "output_type": "stream",
     "text": [
      "Epoch 7/10 - Loss: 1.1981, Accuracy: 0.5100\n",
      "1.1981076020759673 0.5100386872998933\n"
     ]
    },
    {
     "name": "stderr",
     "output_type": "stream",
     "text": [
      " 80%|████████  | 8/10 [02:11<00:29, 14.55s/it]"
     ]
    },
    {
     "name": "stdout",
     "output_type": "stream",
     "text": [
      "Epoch 8/10 - Loss: 1.1859, Accuracy: 0.5221\n",
      "1.1859112111070222 0.522145144076841\n"
     ]
    },
    {
     "name": "stderr",
     "output_type": "stream",
     "text": [
      " 90%|█████████ | 9/10 [02:24<00:14, 14.19s/it]"
     ]
    },
    {
     "name": "stdout",
     "output_type": "stream",
     "text": [
      "Epoch 9/10 - Loss: 1.1743, Accuracy: 0.5248\n",
      "1.1742971265273539 0.5248465848452508\n"
     ]
    },
    {
     "name": "stderr",
     "output_type": "stream",
     "text": [
      "100%|██████████| 10/10 [02:37<00:00, 15.79s/it]"
     ]
    },
    {
     "name": "stdout",
     "output_type": "stream",
     "text": [
      "Epoch 10/10 - Loss: 1.1710, Accuracy: 0.5175\n",
      "1.1709759535490252 0.517542689434365\n"
     ]
    },
    {
     "name": "stderr",
     "output_type": "stream",
     "text": [
      "\n",
      "Exception in thread Thread-107 (_run_job):\n",
      "Traceback (most recent call last):\n",
      "  File \"c:\\Users\\mfaza\\AppData\\Local\\Programs\\Python\\Python311\\Lib\\site-packages\\wandb\\agents\\pyagent.py\", line 307, in _run_job\n",
      "    wandb.finish()\n",
      "  File \"c:\\Users\\mfaza\\AppData\\Local\\Programs\\Python\\Python311\\Lib\\site-packages\\wandb\\sdk\\wandb_run.py\", line 4130, in finish\n",
      "    wandb.run.finish(exit_code=exit_code, quiet=quiet)\n",
      "  File \"c:\\Users\\mfaza\\AppData\\Local\\Programs\\Python\\Python311\\Lib\\site-packages\\wandb\\sdk\\wandb_run.py\", line 449, in wrapper\n",
      "    return func(self, *args, **kwargs)\n",
      "           ^^^^^^^^^^^^^^^^^^^^^^^^^^^\n",
      "  File \"c:\\Users\\mfaza\\AppData\\Local\\Programs\\Python\\Python311\\Lib\\site-packages\\wandb\\sdk\\wandb_run.py\", line 391, in wrapper\n",
      "    return func(self, *args, **kwargs)\n",
      "           ^^^^^^^^^^^^^^^^^^^^^^^^^^^\n",
      "  File \"c:\\Users\\mfaza\\AppData\\Local\\Programs\\Python\\Python311\\Lib\\site-packages\\wandb\\sdk\\wandb_run.py\", line 2106, in finish\n",
      "    return self._finish(exit_code)\n",
      "           ^^^^^^^^^^^^^^^^^^^^^^^\n",
      "  File \"c:\\Users\\mfaza\\AppData\\Local\\Programs\\Python\\Python311\\Lib\\site-packages\\wandb\\sdk\\wandb_run.py\", line 2113, in _finish\n",
      "    with telemetry.context(run=self) as tel:\n",
      "  File \"c:\\Users\\mfaza\\AppData\\Local\\Programs\\Python\\Python311\\Lib\\site-packages\\wandb\\sdk\\lib\\telemetry.py\", line 42, in __exit__\n",
      "    self._run._telemetry_callback(self._obj)\n",
      "  File \"c:\\Users\\mfaza\\AppData\\Local\\Programs\\Python\\Python311\\Lib\\site-packages\\wandb\\sdk\\wandb_run.py\", line 749, in _telemetry_callback\n",
      "    self._telemetry_flush()\n",
      "  File \"c:\\Users\\mfaza\\AppData\\Local\\Programs\\Python\\Python311\\Lib\\site-packages\\wandb\\sdk\\wandb_run.py\", line 762, in _telemetry_flush\n",
      "    self._backend.interface._publish_telemetry(self._telemetry_obj)\n",
      "  File \"c:\\Users\\mfaza\\AppData\\Local\\Programs\\Python\\Python311\\Lib\\site-packages\\wandb\\sdk\\interface\\interface_shared.py\", line 60, in _publish_telemetry\n",
      "    self._publish(rec)\n",
      "  File \"c:\\Users\\mfaza\\AppData\\Local\\Programs\\Python\\Python311\\Lib\\site-packages\\wandb\\sdk\\interface\\interface_sock.py\", line 39, in _publish\n",
      "    self._sock_client.send_record_publish(record)\n",
      "  File \"c:\\Users\\mfaza\\AppData\\Local\\Programs\\Python\\Python311\\Lib\\site-packages\\wandb\\sdk\\lib\\sock_client.py\", line 174, in send_record_publish\n",
      "    self.send_server_request(server_req)\n",
      "  File \"c:\\Users\\mfaza\\AppData\\Local\\Programs\\Python\\Python311\\Lib\\site-packages\\wandb\\sdk\\lib\\sock_client.py\", line 154, in send_server_request\n",
      "    self._send_message(msg)\n",
      "  File \"c:\\Users\\mfaza\\AppData\\Local\\Programs\\Python\\Python311\\Lib\\site-packages\\wandb\\sdk\\lib\\sock_client.py\", line 151, in _send_message\n",
      "    self._sendall_with_error_handle(header + data)\n",
      "  File \"c:\\Users\\mfaza\\AppData\\Local\\Programs\\Python\\Python311\\Lib\\site-packages\\wandb\\sdk\\lib\\sock_client.py\", line 130, in _sendall_with_error_handle\n",
      "    sent = self._sock.send(data)\n",
      "           ^^^^^^^^^^^^^^^^^^^^^\n",
      "ConnectionAbortedError: [WinError 10053] An established connection was aborted by the software in your host machine\n",
      "\n",
      "During handling of the above exception, another exception occurred:\n",
      "\n",
      "Traceback (most recent call last):\n",
      "  File \"c:\\Users\\mfaza\\AppData\\Local\\Programs\\Python\\Python311\\Lib\\threading.py\", line 1038, in _bootstrap_inner\n",
      "    self.run()\n",
      "  File \"C:\\Users\\mfaza\\AppData\\Roaming\\Python\\Python311\\site-packages\\ipykernel\\ipkernel.py\", line 766, in run_closure\n",
      "    _threading_Thread_run(self)\n",
      "  File \"c:\\Users\\mfaza\\AppData\\Local\\Programs\\Python\\Python311\\Lib\\threading.py\", line 975, in run\n",
      "    self._target(*self._args, **self._kwargs)\n",
      "  File \"c:\\Users\\mfaza\\AppData\\Local\\Programs\\Python\\Python311\\Lib\\site-packages\\wandb\\agents\\pyagent.py\", line 311, in _run_job\n",
      "    wandb.finish(exit_code=1)\n",
      "  File \"c:\\Users\\mfaza\\AppData\\Local\\Programs\\Python\\Python311\\Lib\\site-packages\\wandb\\sdk\\wandb_run.py\", line 4130, in finish\n",
      "    wandb.run.finish(exit_code=exit_code, quiet=quiet)\n",
      "  File \"c:\\Users\\mfaza\\AppData\\Local\\Programs\\Python\\Python311\\Lib\\site-packages\\wandb\\sdk\\wandb_run.py\", line 449, in wrapper\n",
      "    return func(self, *args, **kwargs)\n",
      "           ^^^^^^^^^^^^^^^^^^^^^^^^^^^\n",
      "  File \"c:\\Users\\mfaza\\AppData\\Local\\Programs\\Python\\Python311\\Lib\\site-packages\\wandb\\sdk\\wandb_run.py\", line 391, in wrapper\n",
      "    return func(self, *args, **kwargs)\n",
      "           ^^^^^^^^^^^^^^^^^^^^^^^^^^^\n",
      "  File \"c:\\Users\\mfaza\\AppData\\Local\\Programs\\Python\\Python311\\Lib\\site-packages\\wandb\\sdk\\wandb_run.py\", line 2106, in finish\n",
      "    return self._finish(exit_code)\n",
      "           ^^^^^^^^^^^^^^^^^^^^^^^\n",
      "  File \"c:\\Users\\mfaza\\AppData\\Local\\Programs\\Python\\Python311\\Lib\\site-packages\\wandb\\sdk\\wandb_run.py\", line 2113, in _finish\n",
      "    with telemetry.context(run=self) as tel:\n",
      "  File \"c:\\Users\\mfaza\\AppData\\Local\\Programs\\Python\\Python311\\Lib\\site-packages\\wandb\\sdk\\lib\\telemetry.py\", line 42, in __exit__\n",
      "    self._run._telemetry_callback(self._obj)\n",
      "  File \"c:\\Users\\mfaza\\AppData\\Local\\Programs\\Python\\Python311\\Lib\\site-packages\\wandb\\sdk\\wandb_run.py\", line 749, in _telemetry_callback\n",
      "    self._telemetry_flush()\n",
      "  File \"c:\\Users\\mfaza\\AppData\\Local\\Programs\\Python\\Python311\\Lib\\site-packages\\wandb\\sdk\\wandb_run.py\", line 762, in _telemetry_flush\n",
      "    self._backend.interface._publish_telemetry(self._telemetry_obj)\n",
      "  File \"c:\\Users\\mfaza\\AppData\\Local\\Programs\\Python\\Python311\\Lib\\site-packages\\wandb\\sdk\\interface\\interface_shared.py\", line 60, in _publish_telemetry\n",
      "    self._publish(rec)\n",
      "  File \"c:\\Users\\mfaza\\AppData\\Local\\Programs\\Python\\Python311\\Lib\\site-packages\\wandb\\sdk\\interface\\interface_sock.py\", line 39, in _publish\n",
      "    self._sock_client.send_record_publish(record)\n",
      "  File \"c:\\Users\\mfaza\\AppData\\Local\\Programs\\Python\\Python311\\Lib\\site-packages\\wandb\\sdk\\lib\\sock_client.py\", line 174, in send_record_publish\n",
      "    self.send_server_request(server_req)\n",
      "  File \"c:\\Users\\mfaza\\AppData\\Local\\Programs\\Python\\Python311\\Lib\\site-packages\\wandb\\sdk\\lib\\sock_client.py\", line 154, in send_server_request\n",
      "    self._send_message(msg)\n",
      "  File \"c:\\Users\\mfaza\\AppData\\Local\\Programs\\Python\\Python311\\Lib\\site-packages\\wandb\\sdk\\lib\\sock_client.py\", line 151, in _send_message\n",
      "    self._sendall_with_error_handle(header + data)\n",
      "  File \"c:\\Users\\mfaza\\AppData\\Local\\Programs\\Python\\Python311\\Lib\\site-packages\\wandb\\sdk\\lib\\sock_client.py\", line 130, in _sendall_with_error_handle\n",
      "    sent = self._sock.send(data)\n",
      "           ^^^^^^^^^^^^^^^^^^^^^\n",
      "ConnectionAbortedError: [WinError 10053] An established connection was aborted by the software in your host machine\n",
      "\u001b[34m\u001b[1mwandb\u001b[0m: Sweep Agent: Waiting for job.\n",
      "\u001b[34m\u001b[1mwandb\u001b[0m: Job received.\n",
      "\u001b[34m\u001b[1mwandb\u001b[0m: Agent Starting Run: 60tas9vs with config:\n",
      "\u001b[34m\u001b[1mwandb\u001b[0m: \tactivation: sigmoid\n",
      "\u001b[34m\u001b[1mwandb\u001b[0m: \tbatch_size: 16\n",
      "\u001b[34m\u001b[1mwandb\u001b[0m: \tepochs: 10\n",
      "\u001b[34m\u001b[1mwandb\u001b[0m: \thidden_layers: 5\n",
      "\u001b[34m\u001b[1mwandb\u001b[0m: \thidden_size: 128\n",
      "\u001b[34m\u001b[1mwandb\u001b[0m: \tlearning_rate: 0.001\n",
      "\u001b[34m\u001b[1mwandb\u001b[0m: \toptimizer: sgd\n",
      "\u001b[34m\u001b[1mwandb\u001b[0m: \tweight_decay: 0\n",
      "\u001b[34m\u001b[1mwandb\u001b[0m: \tweight_init: random\n",
      " 10%|█         | 1/10 [00:15<02:18, 15.38s/it]"
     ]
    },
    {
     "name": "stdout",
     "output_type": "stream",
     "text": [
      "Epoch 1/10 - Loss: 1.1797, Accuracy: 0.5084\n",
      "1.1797257320383867 0.508437833511206\n"
     ]
    },
    {
     "name": "stderr",
     "output_type": "stream",
     "text": [
      " 20%|██        | 2/10 [00:31<02:04, 15.54s/it]"
     ]
    },
    {
     "name": "stdout",
     "output_type": "stream",
     "text": [
      "Epoch 2/10 - Loss: 1.1753, Accuracy: 0.5065\n",
      "1.1752947850331386 0.5064534418356457\n"
     ]
    },
    {
     "name": "stderr",
     "output_type": "stream",
     "text": [
      " 30%|███       | 3/10 [00:46<01:48, 15.46s/it]"
     ]
    },
    {
     "name": "stdout",
     "output_type": "stream",
     "text": [
      "Epoch 3/10 - Loss: 1.1725, Accuracy: 0.5075\n",
      "1.172459408383166 0.5074539754535753\n"
     ]
    },
    {
     "name": "stderr",
     "output_type": "stream",
     "text": [
      " 40%|████      | 4/10 [01:01<01:32, 15.42s/it]"
     ]
    },
    {
     "name": "stdout",
     "output_type": "stream",
     "text": [
      "Epoch 4/10 - Loss: 1.1714, Accuracy: 0.5098\n",
      "1.171361061253837 0.5098219050160085\n"
     ]
    },
    {
     "name": "stderr",
     "output_type": "stream",
     "text": [
      " 50%|█████     | 5/10 [01:15<01:14, 14.92s/it]"
     ]
    },
    {
     "name": "stdout",
     "output_type": "stream",
     "text": [
      "Epoch 5/10 - Loss: 1.1714, Accuracy: 0.5172\n",
      "1.1713812790979183 0.5171758271077909\n"
     ]
    },
    {
     "name": "stderr",
     "output_type": "stream",
     "text": [
      " 60%|██████    | 6/10 [01:30<00:58, 14.71s/it]"
     ]
    },
    {
     "name": "stdout",
     "output_type": "stream",
     "text": [
      "Epoch 6/10 - Loss: 1.1777, Accuracy: 0.5219\n",
      "1.1777018759956486 0.5218950106723586\n"
     ]
    },
    {
     "name": "stderr",
     "output_type": "stream",
     "text": [
      " 70%|███████   | 7/10 [01:44<00:43, 14.49s/it]"
     ]
    },
    {
     "name": "stdout",
     "output_type": "stream",
     "text": [
      "Epoch 7/10 - Loss: 1.1828, Accuracy: 0.5226\n",
      "1.1827820512927287 0.5226287353255069\n"
     ]
    },
    {
     "name": "stderr",
     "output_type": "stream",
     "text": [
      " 80%|████████  | 8/10 [01:57<00:28, 14.18s/it]"
     ]
    },
    {
     "name": "stdout",
     "output_type": "stream",
     "text": [
      "Epoch 8/10 - Loss: 1.2044, Accuracy: 0.5143\n",
      "1.204437097404885 0.5142742796157951\n"
     ]
    },
    {
     "name": "stderr",
     "output_type": "stream",
     "text": [
      " 90%|█████████ | 9/10 [02:11<00:13, 13.98s/it]"
     ]
    },
    {
     "name": "stdout",
     "output_type": "stream",
     "text": [
      "Epoch 9/10 - Loss: 1.1987, Accuracy: 0.5173\n",
      "1.1986581331523973 0.5172592049092849\n"
     ]
    },
    {
     "name": "stderr",
     "output_type": "stream",
     "text": [
      "100%|██████████| 10/10 [02:26<00:00, 14.61s/it]"
     ]
    },
    {
     "name": "stdout",
     "output_type": "stream",
     "text": [
      "Epoch 10/10 - Loss: 1.1928, Accuracy: 0.5222\n",
      "1.192819848856716 0.522245197438634\n"
     ]
    },
    {
     "name": "stderr",
     "output_type": "stream",
     "text": [
      "\n",
      "Exception in thread Thread-108 (_run_job):\n",
      "Traceback (most recent call last):\n",
      "  File \"c:\\Users\\mfaza\\AppData\\Local\\Programs\\Python\\Python311\\Lib\\site-packages\\wandb\\agents\\pyagent.py\", line 307, in _run_job\n",
      "    wandb.finish()\n",
      "  File \"c:\\Users\\mfaza\\AppData\\Local\\Programs\\Python\\Python311\\Lib\\site-packages\\wandb\\sdk\\wandb_run.py\", line 4130, in finish\n",
      "    wandb.run.finish(exit_code=exit_code, quiet=quiet)\n",
      "  File \"c:\\Users\\mfaza\\AppData\\Local\\Programs\\Python\\Python311\\Lib\\site-packages\\wandb\\sdk\\wandb_run.py\", line 449, in wrapper\n",
      "    return func(self, *args, **kwargs)\n",
      "           ^^^^^^^^^^^^^^^^^^^^^^^^^^^\n",
      "  File \"c:\\Users\\mfaza\\AppData\\Local\\Programs\\Python\\Python311\\Lib\\site-packages\\wandb\\sdk\\wandb_run.py\", line 391, in wrapper\n",
      "    return func(self, *args, **kwargs)\n",
      "           ^^^^^^^^^^^^^^^^^^^^^^^^^^^\n",
      "  File \"c:\\Users\\mfaza\\AppData\\Local\\Programs\\Python\\Python311\\Lib\\site-packages\\wandb\\sdk\\wandb_run.py\", line 2106, in finish\n",
      "    return self._finish(exit_code)\n",
      "           ^^^^^^^^^^^^^^^^^^^^^^^\n",
      "  File \"c:\\Users\\mfaza\\AppData\\Local\\Programs\\Python\\Python311\\Lib\\site-packages\\wandb\\sdk\\wandb_run.py\", line 2113, in _finish\n",
      "    with telemetry.context(run=self) as tel:\n",
      "  File \"c:\\Users\\mfaza\\AppData\\Local\\Programs\\Python\\Python311\\Lib\\site-packages\\wandb\\sdk\\lib\\telemetry.py\", line 42, in __exit__\n",
      "    self._run._telemetry_callback(self._obj)\n",
      "  File \"c:\\Users\\mfaza\\AppData\\Local\\Programs\\Python\\Python311\\Lib\\site-packages\\wandb\\sdk\\wandb_run.py\", line 749, in _telemetry_callback\n",
      "    self._telemetry_flush()\n",
      "  File \"c:\\Users\\mfaza\\AppData\\Local\\Programs\\Python\\Python311\\Lib\\site-packages\\wandb\\sdk\\wandb_run.py\", line 762, in _telemetry_flush\n",
      "    self._backend.interface._publish_telemetry(self._telemetry_obj)\n",
      "  File \"c:\\Users\\mfaza\\AppData\\Local\\Programs\\Python\\Python311\\Lib\\site-packages\\wandb\\sdk\\interface\\interface_shared.py\", line 60, in _publish_telemetry\n",
      "    self._publish(rec)\n",
      "  File \"c:\\Users\\mfaza\\AppData\\Local\\Programs\\Python\\Python311\\Lib\\site-packages\\wandb\\sdk\\interface\\interface_sock.py\", line 39, in _publish\n",
      "    self._sock_client.send_record_publish(record)\n",
      "  File \"c:\\Users\\mfaza\\AppData\\Local\\Programs\\Python\\Python311\\Lib\\site-packages\\wandb\\sdk\\lib\\sock_client.py\", line 174, in send_record_publish\n",
      "    self.send_server_request(server_req)\n",
      "  File \"c:\\Users\\mfaza\\AppData\\Local\\Programs\\Python\\Python311\\Lib\\site-packages\\wandb\\sdk\\lib\\sock_client.py\", line 154, in send_server_request\n",
      "    self._send_message(msg)\n",
      "  File \"c:\\Users\\mfaza\\AppData\\Local\\Programs\\Python\\Python311\\Lib\\site-packages\\wandb\\sdk\\lib\\sock_client.py\", line 151, in _send_message\n",
      "    self._sendall_with_error_handle(header + data)\n",
      "  File \"c:\\Users\\mfaza\\AppData\\Local\\Programs\\Python\\Python311\\Lib\\site-packages\\wandb\\sdk\\lib\\sock_client.py\", line 130, in _sendall_with_error_handle\n",
      "    sent = self._sock.send(data)\n",
      "           ^^^^^^^^^^^^^^^^^^^^^\n",
      "ConnectionAbortedError: [WinError 10053] An established connection was aborted by the software in your host machine\n",
      "\n",
      "During handling of the above exception, another exception occurred:\n",
      "\n",
      "Traceback (most recent call last):\n",
      "  File \"c:\\Users\\mfaza\\AppData\\Local\\Programs\\Python\\Python311\\Lib\\threading.py\", line 1038, in _bootstrap_inner\n",
      "    self.run()\n",
      "  File \"C:\\Users\\mfaza\\AppData\\Roaming\\Python\\Python311\\site-packages\\ipykernel\\ipkernel.py\", line 766, in run_closure\n",
      "    _threading_Thread_run(self)\n",
      "  File \"c:\\Users\\mfaza\\AppData\\Local\\Programs\\Python\\Python311\\Lib\\threading.py\", line 975, in run\n",
      "    self._target(*self._args, **self._kwargs)\n",
      "  File \"c:\\Users\\mfaza\\AppData\\Local\\Programs\\Python\\Python311\\Lib\\site-packages\\wandb\\agents\\pyagent.py\", line 311, in _run_job\n",
      "    wandb.finish(exit_code=1)\n",
      "  File \"c:\\Users\\mfaza\\AppData\\Local\\Programs\\Python\\Python311\\Lib\\site-packages\\wandb\\sdk\\wandb_run.py\", line 4130, in finish\n",
      "    wandb.run.finish(exit_code=exit_code, quiet=quiet)\n",
      "  File \"c:\\Users\\mfaza\\AppData\\Local\\Programs\\Python\\Python311\\Lib\\site-packages\\wandb\\sdk\\wandb_run.py\", line 449, in wrapper\n",
      "    return func(self, *args, **kwargs)\n",
      "           ^^^^^^^^^^^^^^^^^^^^^^^^^^^\n",
      "  File \"c:\\Users\\mfaza\\AppData\\Local\\Programs\\Python\\Python311\\Lib\\site-packages\\wandb\\sdk\\wandb_run.py\", line 391, in wrapper\n",
      "    return func(self, *args, **kwargs)\n",
      "           ^^^^^^^^^^^^^^^^^^^^^^^^^^^\n",
      "  File \"c:\\Users\\mfaza\\AppData\\Local\\Programs\\Python\\Python311\\Lib\\site-packages\\wandb\\sdk\\wandb_run.py\", line 2106, in finish\n",
      "    return self._finish(exit_code)\n",
      "           ^^^^^^^^^^^^^^^^^^^^^^^\n",
      "  File \"c:\\Users\\mfaza\\AppData\\Local\\Programs\\Python\\Python311\\Lib\\site-packages\\wandb\\sdk\\wandb_run.py\", line 2113, in _finish\n",
      "    with telemetry.context(run=self) as tel:\n",
      "  File \"c:\\Users\\mfaza\\AppData\\Local\\Programs\\Python\\Python311\\Lib\\site-packages\\wandb\\sdk\\lib\\telemetry.py\", line 42, in __exit__\n",
      "    self._run._telemetry_callback(self._obj)\n",
      "  File \"c:\\Users\\mfaza\\AppData\\Local\\Programs\\Python\\Python311\\Lib\\site-packages\\wandb\\sdk\\wandb_run.py\", line 749, in _telemetry_callback\n",
      "    self._telemetry_flush()\n",
      "  File \"c:\\Users\\mfaza\\AppData\\Local\\Programs\\Python\\Python311\\Lib\\site-packages\\wandb\\sdk\\wandb_run.py\", line 762, in _telemetry_flush\n",
      "    self._backend.interface._publish_telemetry(self._telemetry_obj)\n",
      "  File \"c:\\Users\\mfaza\\AppData\\Local\\Programs\\Python\\Python311\\Lib\\site-packages\\wandb\\sdk\\interface\\interface_shared.py\", line 60, in _publish_telemetry\n",
      "    self._publish(rec)\n",
      "  File \"c:\\Users\\mfaza\\AppData\\Local\\Programs\\Python\\Python311\\Lib\\site-packages\\wandb\\sdk\\interface\\interface_sock.py\", line 39, in _publish\n",
      "    self._sock_client.send_record_publish(record)\n",
      "  File \"c:\\Users\\mfaza\\AppData\\Local\\Programs\\Python\\Python311\\Lib\\site-packages\\wandb\\sdk\\lib\\sock_client.py\", line 174, in send_record_publish\n",
      "    self.send_server_request(server_req)\n",
      "  File \"c:\\Users\\mfaza\\AppData\\Local\\Programs\\Python\\Python311\\Lib\\site-packages\\wandb\\sdk\\lib\\sock_client.py\", line 154, in send_server_request\n",
      "    self._send_message(msg)\n",
      "  File \"c:\\Users\\mfaza\\AppData\\Local\\Programs\\Python\\Python311\\Lib\\site-packages\\wandb\\sdk\\lib\\sock_client.py\", line 151, in _send_message\n",
      "    self._sendall_with_error_handle(header + data)\n",
      "  File \"c:\\Users\\mfaza\\AppData\\Local\\Programs\\Python\\Python311\\Lib\\site-packages\\wandb\\sdk\\lib\\sock_client.py\", line 130, in _sendall_with_error_handle\n",
      "    sent = self._sock.send(data)\n",
      "           ^^^^^^^^^^^^^^^^^^^^^\n",
      "ConnectionAbortedError: [WinError 10053] An established connection was aborted by the software in your host machine\n",
      "\u001b[34m\u001b[1mwandb\u001b[0m: Agent Starting Run: fa8ruyi9 with config:\n",
      "\u001b[34m\u001b[1mwandb\u001b[0m: \tactivation: sigmoid\n",
      "\u001b[34m\u001b[1mwandb\u001b[0m: \tbatch_size: 16\n",
      "\u001b[34m\u001b[1mwandb\u001b[0m: \tepochs: 10\n",
      "\u001b[34m\u001b[1mwandb\u001b[0m: \thidden_layers: 5\n",
      "\u001b[34m\u001b[1mwandb\u001b[0m: \thidden_size: 128\n",
      "\u001b[34m\u001b[1mwandb\u001b[0m: \tlearning_rate: 0.001\n",
      "\u001b[34m\u001b[1mwandb\u001b[0m: \toptimizer: rmsprop\n",
      "\u001b[34m\u001b[1mwandb\u001b[0m: \tweight_decay: 0\n",
      "\u001b[34m\u001b[1mwandb\u001b[0m: \tweight_init: random\n",
      " 10%|█         | 1/10 [00:15<02:19, 15.54s/it]"
     ]
    },
    {
     "name": "stdout",
     "output_type": "stream",
     "text": [
      "Epoch 1/10 - Loss: 1.2059, Accuracy: 0.5151\n",
      "1.2059373794778416 0.5150747065101388\n"
     ]
    },
    {
     "name": "stderr",
     "output_type": "stream",
     "text": [
      " 20%|██        | 2/10 [00:30<02:02, 15.29s/it]"
     ]
    },
    {
     "name": "stdout",
     "output_type": "stream",
     "text": [
      "Epoch 2/10 - Loss: 1.2253, Accuracy: 0.5055\n",
      "1.2252825230816369 0.5055362860192102\n"
     ]
    },
    {
     "name": "stderr",
     "output_type": "stream",
     "text": [
      " 30%|███       | 3/10 [00:44<01:43, 14.81s/it]"
     ]
    },
    {
     "name": "stdout",
     "output_type": "stream",
     "text": [
      "Epoch 3/10 - Loss: 1.2418, Accuracy: 0.4990\n",
      "1.2417940963653014 0.49901614194236926\n"
     ]
    },
    {
     "name": "stderr",
     "output_type": "stream",
     "text": [
      " 40%|████      | 4/10 [00:59<01:27, 14.54s/it]"
     ]
    },
    {
     "name": "stdout",
     "output_type": "stream",
     "text": [
      "Epoch 4/10 - Loss: 1.2586, Accuracy: 0.4936\n",
      "1.2586294771754116 0.4935965848452508\n"
     ]
    },
    {
     "name": "stderr",
     "output_type": "stream",
     "text": [
      " 50%|█████     | 5/10 [01:13<01:12, 14.45s/it]"
     ]
    },
    {
     "name": "stdout",
     "output_type": "stream",
     "text": [
      "Epoch 5/10 - Loss: 1.2711, Accuracy: 0.4932\n",
      "1.271111407433892 0.493196371398079\n"
     ]
    },
    {
     "name": "stderr",
     "output_type": "stream",
     "text": [
      " 60%|██████    | 6/10 [01:31<01:03, 15.82s/it]"
     ]
    },
    {
     "name": "stdout",
     "output_type": "stream",
     "text": [
      "Epoch 6/10 - Loss: 1.2812, Accuracy: 0.4916\n",
      "1.2812369519753526 0.4916455442902882\n"
     ]
    },
    {
     "name": "stderr",
     "output_type": "stream",
     "text": [
      " 70%|███████   | 7/10 [02:13<01:12, 24.19s/it]"
     ]
    },
    {
     "name": "stdout",
     "output_type": "stream",
     "text": [
      "Epoch 7/10 - Loss: 1.2915, Accuracy: 0.4879\n",
      "1.2915359759806269 0.4879102187833511\n"
     ]
    },
    {
     "name": "stderr",
     "output_type": "stream",
     "text": [
      " 80%|████████  | 8/10 [02:47<00:54, 27.34s/it]"
     ]
    },
    {
     "name": "stdout",
     "output_type": "stream",
     "text": [
      "Epoch 8/10 - Loss: 1.3037, Accuracy: 0.4817\n",
      "1.3037232582160785 0.48172358591248665\n"
     ]
    },
    {
     "name": "stderr",
     "output_type": "stream",
     "text": [
      " 90%|█████████ | 9/10 [03:12<00:26, 26.60s/it]"
     ]
    },
    {
     "name": "stdout",
     "output_type": "stream",
     "text": [
      "Epoch 9/10 - Loss: 1.3272, Accuracy: 0.4704\n",
      "1.327190325103059 0.4704175560298826\n"
     ]
    },
    {
     "name": "stderr",
     "output_type": "stream",
     "text": [
      "100%|██████████| 10/10 [03:27<00:00, 20.70s/it]"
     ]
    },
    {
     "name": "stdout",
     "output_type": "stream",
     "text": [
      "Epoch 10/10 - Loss: 1.3458, Accuracy: 0.4576\n",
      "1.3457963763079475 0.4576107257203842\n"
     ]
    },
    {
     "name": "stderr",
     "output_type": "stream",
     "text": [
      "\n",
      "Exception in thread Thread-109 (_run_job):\n",
      "Traceback (most recent call last):\n",
      "  File \"c:\\Users\\mfaza\\AppData\\Local\\Programs\\Python\\Python311\\Lib\\site-packages\\wandb\\agents\\pyagent.py\", line 307, in _run_job\n",
      "    wandb.finish()\n",
      "  File \"c:\\Users\\mfaza\\AppData\\Local\\Programs\\Python\\Python311\\Lib\\site-packages\\wandb\\sdk\\wandb_run.py\", line 4130, in finish\n",
      "    wandb.run.finish(exit_code=exit_code, quiet=quiet)\n",
      "  File \"c:\\Users\\mfaza\\AppData\\Local\\Programs\\Python\\Python311\\Lib\\site-packages\\wandb\\sdk\\wandb_run.py\", line 449, in wrapper\n",
      "    return func(self, *args, **kwargs)\n",
      "           ^^^^^^^^^^^^^^^^^^^^^^^^^^^\n",
      "  File \"c:\\Users\\mfaza\\AppData\\Local\\Programs\\Python\\Python311\\Lib\\site-packages\\wandb\\sdk\\wandb_run.py\", line 391, in wrapper\n",
      "    return func(self, *args, **kwargs)\n",
      "           ^^^^^^^^^^^^^^^^^^^^^^^^^^^\n",
      "  File \"c:\\Users\\mfaza\\AppData\\Local\\Programs\\Python\\Python311\\Lib\\site-packages\\wandb\\sdk\\wandb_run.py\", line 2106, in finish\n",
      "    return self._finish(exit_code)\n",
      "           ^^^^^^^^^^^^^^^^^^^^^^^\n",
      "  File \"c:\\Users\\mfaza\\AppData\\Local\\Programs\\Python\\Python311\\Lib\\site-packages\\wandb\\sdk\\wandb_run.py\", line 2113, in _finish\n",
      "    with telemetry.context(run=self) as tel:\n",
      "  File \"c:\\Users\\mfaza\\AppData\\Local\\Programs\\Python\\Python311\\Lib\\site-packages\\wandb\\sdk\\lib\\telemetry.py\", line 42, in __exit__\n",
      "    self._run._telemetry_callback(self._obj)\n",
      "  File \"c:\\Users\\mfaza\\AppData\\Local\\Programs\\Python\\Python311\\Lib\\site-packages\\wandb\\sdk\\wandb_run.py\", line 749, in _telemetry_callback\n",
      "    self._telemetry_flush()\n",
      "  File \"c:\\Users\\mfaza\\AppData\\Local\\Programs\\Python\\Python311\\Lib\\site-packages\\wandb\\sdk\\wandb_run.py\", line 762, in _telemetry_flush\n",
      "    self._backend.interface._publish_telemetry(self._telemetry_obj)\n",
      "  File \"c:\\Users\\mfaza\\AppData\\Local\\Programs\\Python\\Python311\\Lib\\site-packages\\wandb\\sdk\\interface\\interface_shared.py\", line 60, in _publish_telemetry\n",
      "    self._publish(rec)\n",
      "  File \"c:\\Users\\mfaza\\AppData\\Local\\Programs\\Python\\Python311\\Lib\\site-packages\\wandb\\sdk\\interface\\interface_sock.py\", line 39, in _publish\n",
      "    self._sock_client.send_record_publish(record)\n",
      "  File \"c:\\Users\\mfaza\\AppData\\Local\\Programs\\Python\\Python311\\Lib\\site-packages\\wandb\\sdk\\lib\\sock_client.py\", line 174, in send_record_publish\n",
      "    self.send_server_request(server_req)\n",
      "  File \"c:\\Users\\mfaza\\AppData\\Local\\Programs\\Python\\Python311\\Lib\\site-packages\\wandb\\sdk\\lib\\sock_client.py\", line 154, in send_server_request\n",
      "    self._send_message(msg)\n",
      "  File \"c:\\Users\\mfaza\\AppData\\Local\\Programs\\Python\\Python311\\Lib\\site-packages\\wandb\\sdk\\lib\\sock_client.py\", line 151, in _send_message\n",
      "    self._sendall_with_error_handle(header + data)\n",
      "  File \"c:\\Users\\mfaza\\AppData\\Local\\Programs\\Python\\Python311\\Lib\\site-packages\\wandb\\sdk\\lib\\sock_client.py\", line 130, in _sendall_with_error_handle\n",
      "    sent = self._sock.send(data)\n",
      "           ^^^^^^^^^^^^^^^^^^^^^\n",
      "ConnectionAbortedError: [WinError 10053] An established connection was aborted by the software in your host machine\n",
      "\n",
      "During handling of the above exception, another exception occurred:\n",
      "\n",
      "Traceback (most recent call last):\n",
      "  File \"c:\\Users\\mfaza\\AppData\\Local\\Programs\\Python\\Python311\\Lib\\threading.py\", line 1038, in _bootstrap_inner\n",
      "    self.run()\n",
      "  File \"C:\\Users\\mfaza\\AppData\\Roaming\\Python\\Python311\\site-packages\\ipykernel\\ipkernel.py\", line 766, in run_closure\n",
      "    _threading_Thread_run(self)\n",
      "  File \"c:\\Users\\mfaza\\AppData\\Local\\Programs\\Python\\Python311\\Lib\\threading.py\", line 975, in run\n",
      "    self._target(*self._args, **self._kwargs)\n",
      "  File \"c:\\Users\\mfaza\\AppData\\Local\\Programs\\Python\\Python311\\Lib\\site-packages\\wandb\\agents\\pyagent.py\", line 311, in _run_job\n",
      "    wandb.finish(exit_code=1)\n",
      "  File \"c:\\Users\\mfaza\\AppData\\Local\\Programs\\Python\\Python311\\Lib\\site-packages\\wandb\\sdk\\wandb_run.py\", line 4130, in finish\n",
      "    wandb.run.finish(exit_code=exit_code, quiet=quiet)\n",
      "  File \"c:\\Users\\mfaza\\AppData\\Local\\Programs\\Python\\Python311\\Lib\\site-packages\\wandb\\sdk\\wandb_run.py\", line 449, in wrapper\n",
      "    return func(self, *args, **kwargs)\n",
      "           ^^^^^^^^^^^^^^^^^^^^^^^^^^^\n",
      "  File \"c:\\Users\\mfaza\\AppData\\Local\\Programs\\Python\\Python311\\Lib\\site-packages\\wandb\\sdk\\wandb_run.py\", line 391, in wrapper\n",
      "    return func(self, *args, **kwargs)\n",
      "           ^^^^^^^^^^^^^^^^^^^^^^^^^^^\n",
      "  File \"c:\\Users\\mfaza\\AppData\\Local\\Programs\\Python\\Python311\\Lib\\site-packages\\wandb\\sdk\\wandb_run.py\", line 2106, in finish\n",
      "    return self._finish(exit_code)\n",
      "           ^^^^^^^^^^^^^^^^^^^^^^^\n",
      "  File \"c:\\Users\\mfaza\\AppData\\Local\\Programs\\Python\\Python311\\Lib\\site-packages\\wandb\\sdk\\wandb_run.py\", line 2113, in _finish\n",
      "    with telemetry.context(run=self) as tel:\n",
      "  File \"c:\\Users\\mfaza\\AppData\\Local\\Programs\\Python\\Python311\\Lib\\site-packages\\wandb\\sdk\\lib\\telemetry.py\", line 42, in __exit__\n",
      "    self._run._telemetry_callback(self._obj)\n",
      "  File \"c:\\Users\\mfaza\\AppData\\Local\\Programs\\Python\\Python311\\Lib\\site-packages\\wandb\\sdk\\wandb_run.py\", line 749, in _telemetry_callback\n",
      "    self._telemetry_flush()\n",
      "  File \"c:\\Users\\mfaza\\AppData\\Local\\Programs\\Python\\Python311\\Lib\\site-packages\\wandb\\sdk\\wandb_run.py\", line 762, in _telemetry_flush\n",
      "    self._backend.interface._publish_telemetry(self._telemetry_obj)\n",
      "  File \"c:\\Users\\mfaza\\AppData\\Local\\Programs\\Python\\Python311\\Lib\\site-packages\\wandb\\sdk\\interface\\interface_shared.py\", line 60, in _publish_telemetry\n",
      "    self._publish(rec)\n",
      "  File \"c:\\Users\\mfaza\\AppData\\Local\\Programs\\Python\\Python311\\Lib\\site-packages\\wandb\\sdk\\interface\\interface_sock.py\", line 39, in _publish\n",
      "    self._sock_client.send_record_publish(record)\n",
      "  File \"c:\\Users\\mfaza\\AppData\\Local\\Programs\\Python\\Python311\\Lib\\site-packages\\wandb\\sdk\\lib\\sock_client.py\", line 174, in send_record_publish\n",
      "    self.send_server_request(server_req)\n",
      "  File \"c:\\Users\\mfaza\\AppData\\Local\\Programs\\Python\\Python311\\Lib\\site-packages\\wandb\\sdk\\lib\\sock_client.py\", line 154, in send_server_request\n",
      "    self._send_message(msg)\n",
      "  File \"c:\\Users\\mfaza\\AppData\\Local\\Programs\\Python\\Python311\\Lib\\site-packages\\wandb\\sdk\\lib\\sock_client.py\", line 151, in _send_message\n",
      "    self._sendall_with_error_handle(header + data)\n",
      "  File \"c:\\Users\\mfaza\\AppData\\Local\\Programs\\Python\\Python311\\Lib\\site-packages\\wandb\\sdk\\lib\\sock_client.py\", line 130, in _sendall_with_error_handle\n",
      "    sent = self._sock.send(data)\n",
      "           ^^^^^^^^^^^^^^^^^^^^^\n",
      "ConnectionAbortedError: [WinError 10053] An established connection was aborted by the software in your host machine\n",
      "\u001b[34m\u001b[1mwandb\u001b[0m: Agent Starting Run: xw15elvc with config:\n",
      "\u001b[34m\u001b[1mwandb\u001b[0m: \tactivation: tanh\n",
      "\u001b[34m\u001b[1mwandb\u001b[0m: \tbatch_size: 16\n",
      "\u001b[34m\u001b[1mwandb\u001b[0m: \tepochs: 5\n",
      "\u001b[34m\u001b[1mwandb\u001b[0m: \thidden_layers: 5\n",
      "\u001b[34m\u001b[1mwandb\u001b[0m: \thidden_size: 64\n",
      "\u001b[34m\u001b[1mwandb\u001b[0m: \tlearning_rate: 0.001\n",
      "\u001b[34m\u001b[1mwandb\u001b[0m: \toptimizer: rmsprop\n",
      "\u001b[34m\u001b[1mwandb\u001b[0m: \tweight_decay: 0\n",
      "\u001b[34m\u001b[1mwandb\u001b[0m: \tweight_init: random\n",
      " 10%|█         | 1/10 [00:14<02:07, 14.21s/it]"
     ]
    },
    {
     "name": "stdout",
     "output_type": "stream",
     "text": [
      "Epoch 1/10 - Loss: 1.3582, Accuracy: 0.4494\n",
      "1.3582429666735467 0.44937299893276417\n"
     ]
    },
    {
     "name": "stderr",
     "output_type": "stream",
     "text": [
      " 20%|██        | 2/10 [00:29<01:58, 14.79s/it]"
     ]
    },
    {
     "name": "stdout",
     "output_type": "stream",
     "text": [
      "Epoch 2/10 - Loss: 1.3653, Accuracy: 0.4403\n",
      "1.365308611574892 0.4402514674493063\n"
     ]
    },
    {
     "name": "stderr",
     "output_type": "stream",
     "text": [
      " 30%|███       | 3/10 [00:43<01:41, 14.54s/it]"
     ]
    },
    {
     "name": "stdout",
     "output_type": "stream",
     "text": [
      "Epoch 3/10 - Loss: 1.3654, Accuracy: 0.4363\n",
      "1.3653707878006085 0.4362826840981857\n"
     ]
    },
    {
     "name": "stderr",
     "output_type": "stream",
     "text": [
      " 40%|████      | 4/10 [00:57<01:24, 14.11s/it]"
     ]
    },
    {
     "name": "stdout",
     "output_type": "stream",
     "text": [
      "Epoch 4/10 - Loss: 1.3513, Accuracy: 0.4443\n",
      "1.351284589837245 0.4442869530416222\n"
     ]
    },
    {
     "name": "stderr",
     "output_type": "stream",
     "text": [
      " 50%|█████     | 5/10 [01:11<01:10, 14.13s/it]"
     ]
    },
    {
     "name": "stdout",
     "output_type": "stream",
     "text": [
      "Epoch 5/10 - Loss: 1.3391, Accuracy: 0.4445\n",
      "1.3390570498668892 0.4445037353255069\n"
     ]
    },
    {
     "name": "stderr",
     "output_type": "stream",
     "text": [
      " 60%|██████    | 6/10 [01:24<00:55, 13.98s/it]"
     ]
    },
    {
     "name": "stdout",
     "output_type": "stream",
     "text": [
      "Epoch 6/10 - Loss: 1.3305, Accuracy: 0.4458\n",
      "1.330476474651333 0.445837780149413\n"
     ]
    },
    {
     "name": "stderr",
     "output_type": "stream",
     "text": [
      " 70%|███████   | 7/10 [01:38<00:41, 13.86s/it]"
     ]
    },
    {
     "name": "stdout",
     "output_type": "stream",
     "text": [
      "Epoch 7/10 - Loss: 1.3212, Accuracy: 0.4451\n",
      "1.3211897955079408 0.4451040554962647\n"
     ]
    },
    {
     "name": "stderr",
     "output_type": "stream",
     "text": [
      " 80%|████████  | 8/10 [01:53<00:28, 14.29s/it]"
     ]
    },
    {
     "name": "stdout",
     "output_type": "stream",
     "text": [
      "Epoch 8/10 - Loss: 1.3128, Accuracy: 0.4461\n",
      "1.3127565546809505 0.44610458911419426\n"
     ]
    },
    {
     "name": "stderr",
     "output_type": "stream",
     "text": [
      " 90%|█████████ | 9/10 [02:10<00:15, 15.15s/it]"
     ]
    },
    {
     "name": "stdout",
     "output_type": "stream",
     "text": [
      "Epoch 9/10 - Loss: 1.3005, Accuracy: 0.4549\n",
      "1.3005365632402015 0.4548592582710779\n"
     ]
    },
    {
     "name": "stderr",
     "output_type": "stream",
     "text": [
      "100%|██████████| 10/10 [02:27<00:00, 14.74s/it]"
     ]
    },
    {
     "name": "stdout",
     "output_type": "stream",
     "text": [
      "Epoch 10/10 - Loss: 1.3204, Accuracy: 0.4454\n",
      "1.320369379622319 0.44540421558164356\n"
     ]
    },
    {
     "name": "stderr",
     "output_type": "stream",
     "text": [
      "\n",
      "Exception in thread Thread-110 (_run_job):\n",
      "Traceback (most recent call last):\n",
      "  File \"c:\\Users\\mfaza\\AppData\\Local\\Programs\\Python\\Python311\\Lib\\site-packages\\wandb\\agents\\pyagent.py\", line 307, in _run_job\n",
      "    wandb.finish()\n",
      "  File \"c:\\Users\\mfaza\\AppData\\Local\\Programs\\Python\\Python311\\Lib\\site-packages\\wandb\\sdk\\wandb_run.py\", line 4130, in finish\n",
      "    wandb.run.finish(exit_code=exit_code, quiet=quiet)\n",
      "  File \"c:\\Users\\mfaza\\AppData\\Local\\Programs\\Python\\Python311\\Lib\\site-packages\\wandb\\sdk\\wandb_run.py\", line 449, in wrapper\n",
      "    return func(self, *args, **kwargs)\n",
      "           ^^^^^^^^^^^^^^^^^^^^^^^^^^^\n",
      "  File \"c:\\Users\\mfaza\\AppData\\Local\\Programs\\Python\\Python311\\Lib\\site-packages\\wandb\\sdk\\wandb_run.py\", line 391, in wrapper\n",
      "    return func(self, *args, **kwargs)\n",
      "           ^^^^^^^^^^^^^^^^^^^^^^^^^^^\n",
      "  File \"c:\\Users\\mfaza\\AppData\\Local\\Programs\\Python\\Python311\\Lib\\site-packages\\wandb\\sdk\\wandb_run.py\", line 2106, in finish\n",
      "    return self._finish(exit_code)\n",
      "           ^^^^^^^^^^^^^^^^^^^^^^^\n",
      "  File \"c:\\Users\\mfaza\\AppData\\Local\\Programs\\Python\\Python311\\Lib\\site-packages\\wandb\\sdk\\wandb_run.py\", line 2113, in _finish\n",
      "    with telemetry.context(run=self) as tel:\n",
      "  File \"c:\\Users\\mfaza\\AppData\\Local\\Programs\\Python\\Python311\\Lib\\site-packages\\wandb\\sdk\\lib\\telemetry.py\", line 42, in __exit__\n",
      "    self._run._telemetry_callback(self._obj)\n",
      "  File \"c:\\Users\\mfaza\\AppData\\Local\\Programs\\Python\\Python311\\Lib\\site-packages\\wandb\\sdk\\wandb_run.py\", line 749, in _telemetry_callback\n",
      "    self._telemetry_flush()\n",
      "  File \"c:\\Users\\mfaza\\AppData\\Local\\Programs\\Python\\Python311\\Lib\\site-packages\\wandb\\sdk\\wandb_run.py\", line 762, in _telemetry_flush\n",
      "    self._backend.interface._publish_telemetry(self._telemetry_obj)\n",
      "  File \"c:\\Users\\mfaza\\AppData\\Local\\Programs\\Python\\Python311\\Lib\\site-packages\\wandb\\sdk\\interface\\interface_shared.py\", line 60, in _publish_telemetry\n",
      "    self._publish(rec)\n",
      "  File \"c:\\Users\\mfaza\\AppData\\Local\\Programs\\Python\\Python311\\Lib\\site-packages\\wandb\\sdk\\interface\\interface_sock.py\", line 39, in _publish\n",
      "    self._sock_client.send_record_publish(record)\n",
      "  File \"c:\\Users\\mfaza\\AppData\\Local\\Programs\\Python\\Python311\\Lib\\site-packages\\wandb\\sdk\\lib\\sock_client.py\", line 174, in send_record_publish\n",
      "    self.send_server_request(server_req)\n",
      "  File \"c:\\Users\\mfaza\\AppData\\Local\\Programs\\Python\\Python311\\Lib\\site-packages\\wandb\\sdk\\lib\\sock_client.py\", line 154, in send_server_request\n",
      "    self._send_message(msg)\n",
      "  File \"c:\\Users\\mfaza\\AppData\\Local\\Programs\\Python\\Python311\\Lib\\site-packages\\wandb\\sdk\\lib\\sock_client.py\", line 151, in _send_message\n",
      "    self._sendall_with_error_handle(header + data)\n",
      "  File \"c:\\Users\\mfaza\\AppData\\Local\\Programs\\Python\\Python311\\Lib\\site-packages\\wandb\\sdk\\lib\\sock_client.py\", line 130, in _sendall_with_error_handle\n",
      "    sent = self._sock.send(data)\n",
      "           ^^^^^^^^^^^^^^^^^^^^^\n",
      "ConnectionAbortedError: [WinError 10053] An established connection was aborted by the software in your host machine\n",
      "\n",
      "During handling of the above exception, another exception occurred:\n",
      "\n",
      "Traceback (most recent call last):\n",
      "  File \"c:\\Users\\mfaza\\AppData\\Local\\Programs\\Python\\Python311\\Lib\\threading.py\", line 1038, in _bootstrap_inner\n",
      "    self.run()\n",
      "  File \"C:\\Users\\mfaza\\AppData\\Roaming\\Python\\Python311\\site-packages\\ipykernel\\ipkernel.py\", line 766, in run_closure\n",
      "    _threading_Thread_run(self)\n",
      "  File \"c:\\Users\\mfaza\\AppData\\Local\\Programs\\Python\\Python311\\Lib\\threading.py\", line 975, in run\n",
      "    self._target(*self._args, **self._kwargs)\n",
      "  File \"c:\\Users\\mfaza\\AppData\\Local\\Programs\\Python\\Python311\\Lib\\site-packages\\wandb\\agents\\pyagent.py\", line 311, in _run_job\n",
      "    wandb.finish(exit_code=1)\n",
      "  File \"c:\\Users\\mfaza\\AppData\\Local\\Programs\\Python\\Python311\\Lib\\site-packages\\wandb\\sdk\\wandb_run.py\", line 4130, in finish\n",
      "    wandb.run.finish(exit_code=exit_code, quiet=quiet)\n",
      "  File \"c:\\Users\\mfaza\\AppData\\Local\\Programs\\Python\\Python311\\Lib\\site-packages\\wandb\\sdk\\wandb_run.py\", line 449, in wrapper\n",
      "    return func(self, *args, **kwargs)\n",
      "           ^^^^^^^^^^^^^^^^^^^^^^^^^^^\n",
      "  File \"c:\\Users\\mfaza\\AppData\\Local\\Programs\\Python\\Python311\\Lib\\site-packages\\wandb\\sdk\\wandb_run.py\", line 391, in wrapper\n",
      "    return func(self, *args, **kwargs)\n",
      "           ^^^^^^^^^^^^^^^^^^^^^^^^^^^\n",
      "  File \"c:\\Users\\mfaza\\AppData\\Local\\Programs\\Python\\Python311\\Lib\\site-packages\\wandb\\sdk\\wandb_run.py\", line 2106, in finish\n",
      "    return self._finish(exit_code)\n",
      "           ^^^^^^^^^^^^^^^^^^^^^^^\n",
      "  File \"c:\\Users\\mfaza\\AppData\\Local\\Programs\\Python\\Python311\\Lib\\site-packages\\wandb\\sdk\\wandb_run.py\", line 2113, in _finish\n",
      "    with telemetry.context(run=self) as tel:\n",
      "  File \"c:\\Users\\mfaza\\AppData\\Local\\Programs\\Python\\Python311\\Lib\\site-packages\\wandb\\sdk\\lib\\telemetry.py\", line 42, in __exit__\n",
      "    self._run._telemetry_callback(self._obj)\n",
      "  File \"c:\\Users\\mfaza\\AppData\\Local\\Programs\\Python\\Python311\\Lib\\site-packages\\wandb\\sdk\\wandb_run.py\", line 749, in _telemetry_callback\n",
      "    self._telemetry_flush()\n",
      "  File \"c:\\Users\\mfaza\\AppData\\Local\\Programs\\Python\\Python311\\Lib\\site-packages\\wandb\\sdk\\wandb_run.py\", line 762, in _telemetry_flush\n",
      "    self._backend.interface._publish_telemetry(self._telemetry_obj)\n",
      "  File \"c:\\Users\\mfaza\\AppData\\Local\\Programs\\Python\\Python311\\Lib\\site-packages\\wandb\\sdk\\interface\\interface_shared.py\", line 60, in _publish_telemetry\n",
      "    self._publish(rec)\n",
      "  File \"c:\\Users\\mfaza\\AppData\\Local\\Programs\\Python\\Python311\\Lib\\site-packages\\wandb\\sdk\\interface\\interface_sock.py\", line 39, in _publish\n",
      "    self._sock_client.send_record_publish(record)\n",
      "  File \"c:\\Users\\mfaza\\AppData\\Local\\Programs\\Python\\Python311\\Lib\\site-packages\\wandb\\sdk\\lib\\sock_client.py\", line 174, in send_record_publish\n",
      "    self.send_server_request(server_req)\n",
      "  File \"c:\\Users\\mfaza\\AppData\\Local\\Programs\\Python\\Python311\\Lib\\site-packages\\wandb\\sdk\\lib\\sock_client.py\", line 154, in send_server_request\n",
      "    self._send_message(msg)\n",
      "  File \"c:\\Users\\mfaza\\AppData\\Local\\Programs\\Python\\Python311\\Lib\\site-packages\\wandb\\sdk\\lib\\sock_client.py\", line 151, in _send_message\n",
      "    self._sendall_with_error_handle(header + data)\n",
      "  File \"c:\\Users\\mfaza\\AppData\\Local\\Programs\\Python\\Python311\\Lib\\site-packages\\wandb\\sdk\\lib\\sock_client.py\", line 130, in _sendall_with_error_handle\n",
      "    sent = self._sock.send(data)\n",
      "           ^^^^^^^^^^^^^^^^^^^^^\n",
      "ConnectionAbortedError: [WinError 10053] An established connection was aborted by the software in your host machine\n",
      "\u001b[34m\u001b[1mwandb\u001b[0m: Agent Starting Run: b73za1oo with config:\n",
      "\u001b[34m\u001b[1mwandb\u001b[0m: \tactivation: ReLU\n",
      "\u001b[34m\u001b[1mwandb\u001b[0m: \tbatch_size: 32\n",
      "\u001b[34m\u001b[1mwandb\u001b[0m: \tepochs: 5\n",
      "\u001b[34m\u001b[1mwandb\u001b[0m: \thidden_layers: 3\n",
      "\u001b[34m\u001b[1mwandb\u001b[0m: \thidden_size: 128\n",
      "\u001b[34m\u001b[1mwandb\u001b[0m: \tlearning_rate: 0.0001\n",
      "\u001b[34m\u001b[1mwandb\u001b[0m: \toptimizer: sgd\n",
      "\u001b[34m\u001b[1mwandb\u001b[0m: \tweight_decay: 0.0005\n",
      "\u001b[34m\u001b[1mwandb\u001b[0m: \tweight_init: random\n",
      " 10%|█         | 1/10 [00:15<02:20, 15.60s/it]"
     ]
    },
    {
     "name": "stdout",
     "output_type": "stream",
     "text": [
      "Epoch 1/10 - Loss: 1.3161, Accuracy: 0.4442\n",
      "1.316095527721191 0.4442369263607257\n"
     ]
    },
    {
     "name": "stderr",
     "output_type": "stream",
     "text": [
      " 20%|██        | 2/10 [00:31<02:04, 15.52s/it]"
     ]
    },
    {
     "name": "stdout",
     "output_type": "stream",
     "text": [
      "Epoch 2/10 - Loss: 1.3031, Accuracy: 0.4470\n",
      "1.3030862290438325 0.44700506937033085\n"
     ]
    },
    {
     "name": "stderr",
     "output_type": "stream",
     "text": [
      " 30%|███       | 3/10 [00:52<02:09, 18.45s/it]"
     ]
    },
    {
     "name": "stdout",
     "output_type": "stream",
     "text": [
      "Epoch 3/10 - Loss: 1.2777, Accuracy: 0.4566\n",
      "1.2777309600596292 0.4566435432230523\n"
     ]
    },
    {
     "name": "stderr",
     "output_type": "stream",
     "text": [
      " 40%|████      | 4/10 [01:08<01:42, 17.09s/it]"
     ]
    },
    {
     "name": "stdout",
     "output_type": "stream",
     "text": [
      "Epoch 4/10 - Loss: 1.2822, Accuracy: 0.4668\n",
      "1.2821746953911985 0.46684898612593384\n"
     ]
    },
    {
     "name": "stderr",
     "output_type": "stream",
     "text": [
      " 50%|█████     | 5/10 [01:21<01:18, 15.75s/it]"
     ]
    },
    {
     "name": "stdout",
     "output_type": "stream",
     "text": [
      "Epoch 5/10 - Loss: 1.3151, Accuracy: 0.4106\n",
      "1.315142589434958 0.41055229455709713\n"
     ]
    },
    {
     "name": "stderr",
     "output_type": "stream",
     "text": [
      " 60%|██████    | 6/10 [01:34<01:00, 15.01s/it]"
     ]
    },
    {
     "name": "stdout",
     "output_type": "stream",
     "text": [
      "Epoch 6/10 - Loss: 1.2963, Accuracy: 0.4150\n",
      "1.2962883222677035 0.41498799359658484\n"
     ]
    },
    {
     "name": "stderr",
     "output_type": "stream",
     "text": [
      " 70%|███████   | 7/10 [01:50<00:45, 15.07s/it]"
     ]
    },
    {
     "name": "stdout",
     "output_type": "stream",
     "text": [
      "Epoch 7/10 - Loss: 1.2855, Accuracy: 0.4102\n",
      "1.2855301101829861 0.41018543223052295\n"
     ]
    },
    {
     "name": "stderr",
     "output_type": "stream",
     "text": [
      " 80%|████████  | 8/10 [02:07<00:31, 15.92s/it]"
     ]
    },
    {
     "name": "stdout",
     "output_type": "stream",
     "text": [
      "Epoch 8/10 - Loss: 1.2704, Accuracy: 0.4222\n",
      "1.2704416658534443 0.42222518676627535\n"
     ]
    },
    {
     "name": "stderr",
     "output_type": "stream",
     "text": [
      " 90%|█████████ | 9/10 [02:27<00:17, 17.08s/it]"
     ]
    },
    {
     "name": "stdout",
     "output_type": "stream",
     "text": [
      "Epoch 9/10 - Loss: 1.2630, Accuracy: 0.4444\n",
      "1.2630420390980643 0.444403681963714\n"
     ]
    },
    {
     "name": "stderr",
     "output_type": "stream",
     "text": [
      "100%|██████████| 10/10 [02:43<00:00, 16.40s/it]"
     ]
    },
    {
     "name": "stdout",
     "output_type": "stream",
     "text": [
      "Epoch 10/10 - Loss: 1.2751, Accuracy: 0.4566\n",
      "1.2750600842422886 0.4566435432230523\n"
     ]
    },
    {
     "name": "stderr",
     "output_type": "stream",
     "text": [
      "\n",
      "Exception in thread Thread-111 (_run_job):\n",
      "Traceback (most recent call last):\n",
      "  File \"c:\\Users\\mfaza\\AppData\\Local\\Programs\\Python\\Python311\\Lib\\site-packages\\wandb\\agents\\pyagent.py\", line 307, in _run_job\n",
      "    wandb.finish()\n",
      "  File \"c:\\Users\\mfaza\\AppData\\Local\\Programs\\Python\\Python311\\Lib\\site-packages\\wandb\\sdk\\wandb_run.py\", line 4130, in finish\n",
      "    wandb.run.finish(exit_code=exit_code, quiet=quiet)\n",
      "  File \"c:\\Users\\mfaza\\AppData\\Local\\Programs\\Python\\Python311\\Lib\\site-packages\\wandb\\sdk\\wandb_run.py\", line 449, in wrapper\n",
      "    return func(self, *args, **kwargs)\n",
      "           ^^^^^^^^^^^^^^^^^^^^^^^^^^^\n",
      "  File \"c:\\Users\\mfaza\\AppData\\Local\\Programs\\Python\\Python311\\Lib\\site-packages\\wandb\\sdk\\wandb_run.py\", line 391, in wrapper\n",
      "    return func(self, *args, **kwargs)\n",
      "           ^^^^^^^^^^^^^^^^^^^^^^^^^^^\n",
      "  File \"c:\\Users\\mfaza\\AppData\\Local\\Programs\\Python\\Python311\\Lib\\site-packages\\wandb\\sdk\\wandb_run.py\", line 2106, in finish\n",
      "    return self._finish(exit_code)\n",
      "           ^^^^^^^^^^^^^^^^^^^^^^^\n",
      "  File \"c:\\Users\\mfaza\\AppData\\Local\\Programs\\Python\\Python311\\Lib\\site-packages\\wandb\\sdk\\wandb_run.py\", line 2113, in _finish\n",
      "    with telemetry.context(run=self) as tel:\n",
      "  File \"c:\\Users\\mfaza\\AppData\\Local\\Programs\\Python\\Python311\\Lib\\site-packages\\wandb\\sdk\\lib\\telemetry.py\", line 42, in __exit__\n",
      "    self._run._telemetry_callback(self._obj)\n",
      "  File \"c:\\Users\\mfaza\\AppData\\Local\\Programs\\Python\\Python311\\Lib\\site-packages\\wandb\\sdk\\wandb_run.py\", line 749, in _telemetry_callback\n",
      "    self._telemetry_flush()\n",
      "  File \"c:\\Users\\mfaza\\AppData\\Local\\Programs\\Python\\Python311\\Lib\\site-packages\\wandb\\sdk\\wandb_run.py\", line 762, in _telemetry_flush\n",
      "    self._backend.interface._publish_telemetry(self._telemetry_obj)\n",
      "  File \"c:\\Users\\mfaza\\AppData\\Local\\Programs\\Python\\Python311\\Lib\\site-packages\\wandb\\sdk\\interface\\interface_shared.py\", line 60, in _publish_telemetry\n",
      "    self._publish(rec)\n",
      "  File \"c:\\Users\\mfaza\\AppData\\Local\\Programs\\Python\\Python311\\Lib\\site-packages\\wandb\\sdk\\interface\\interface_sock.py\", line 39, in _publish\n",
      "    self._sock_client.send_record_publish(record)\n",
      "  File \"c:\\Users\\mfaza\\AppData\\Local\\Programs\\Python\\Python311\\Lib\\site-packages\\wandb\\sdk\\lib\\sock_client.py\", line 174, in send_record_publish\n",
      "    self.send_server_request(server_req)\n",
      "  File \"c:\\Users\\mfaza\\AppData\\Local\\Programs\\Python\\Python311\\Lib\\site-packages\\wandb\\sdk\\lib\\sock_client.py\", line 154, in send_server_request\n",
      "    self._send_message(msg)\n",
      "  File \"c:\\Users\\mfaza\\AppData\\Local\\Programs\\Python\\Python311\\Lib\\site-packages\\wandb\\sdk\\lib\\sock_client.py\", line 151, in _send_message\n",
      "    self._sendall_with_error_handle(header + data)\n",
      "  File \"c:\\Users\\mfaza\\AppData\\Local\\Programs\\Python\\Python311\\Lib\\site-packages\\wandb\\sdk\\lib\\sock_client.py\", line 130, in _sendall_with_error_handle\n",
      "    sent = self._sock.send(data)\n",
      "           ^^^^^^^^^^^^^^^^^^^^^\n",
      "ConnectionAbortedError: [WinError 10053] An established connection was aborted by the software in your host machine\n",
      "\n",
      "During handling of the above exception, another exception occurred:\n",
      "\n",
      "Traceback (most recent call last):\n",
      "  File \"c:\\Users\\mfaza\\AppData\\Local\\Programs\\Python\\Python311\\Lib\\threading.py\", line 1038, in _bootstrap_inner\n",
      "    self.run()\n",
      "  File \"C:\\Users\\mfaza\\AppData\\Roaming\\Python\\Python311\\site-packages\\ipykernel\\ipkernel.py\", line 766, in run_closure\n",
      "    _threading_Thread_run(self)\n",
      "  File \"c:\\Users\\mfaza\\AppData\\Local\\Programs\\Python\\Python311\\Lib\\threading.py\", line 975, in run\n",
      "    self._target(*self._args, **self._kwargs)\n",
      "  File \"c:\\Users\\mfaza\\AppData\\Local\\Programs\\Python\\Python311\\Lib\\site-packages\\wandb\\agents\\pyagent.py\", line 311, in _run_job\n",
      "    wandb.finish(exit_code=1)\n",
      "  File \"c:\\Users\\mfaza\\AppData\\Local\\Programs\\Python\\Python311\\Lib\\site-packages\\wandb\\sdk\\wandb_run.py\", line 4130, in finish\n",
      "    wandb.run.finish(exit_code=exit_code, quiet=quiet)\n",
      "  File \"c:\\Users\\mfaza\\AppData\\Local\\Programs\\Python\\Python311\\Lib\\site-packages\\wandb\\sdk\\wandb_run.py\", line 449, in wrapper\n",
      "    return func(self, *args, **kwargs)\n",
      "           ^^^^^^^^^^^^^^^^^^^^^^^^^^^\n",
      "  File \"c:\\Users\\mfaza\\AppData\\Local\\Programs\\Python\\Python311\\Lib\\site-packages\\wandb\\sdk\\wandb_run.py\", line 391, in wrapper\n",
      "    return func(self, *args, **kwargs)\n",
      "           ^^^^^^^^^^^^^^^^^^^^^^^^^^^\n",
      "  File \"c:\\Users\\mfaza\\AppData\\Local\\Programs\\Python\\Python311\\Lib\\site-packages\\wandb\\sdk\\wandb_run.py\", line 2106, in finish\n",
      "    return self._finish(exit_code)\n",
      "           ^^^^^^^^^^^^^^^^^^^^^^^\n",
      "  File \"c:\\Users\\mfaza\\AppData\\Local\\Programs\\Python\\Python311\\Lib\\site-packages\\wandb\\sdk\\wandb_run.py\", line 2113, in _finish\n",
      "    with telemetry.context(run=self) as tel:\n",
      "  File \"c:\\Users\\mfaza\\AppData\\Local\\Programs\\Python\\Python311\\Lib\\site-packages\\wandb\\sdk\\lib\\telemetry.py\", line 42, in __exit__\n",
      "    self._run._telemetry_callback(self._obj)\n",
      "  File \"c:\\Users\\mfaza\\AppData\\Local\\Programs\\Python\\Python311\\Lib\\site-packages\\wandb\\sdk\\wandb_run.py\", line 749, in _telemetry_callback\n",
      "    self._telemetry_flush()\n",
      "  File \"c:\\Users\\mfaza\\AppData\\Local\\Programs\\Python\\Python311\\Lib\\site-packages\\wandb\\sdk\\wandb_run.py\", line 762, in _telemetry_flush\n",
      "    self._backend.interface._publish_telemetry(self._telemetry_obj)\n",
      "  File \"c:\\Users\\mfaza\\AppData\\Local\\Programs\\Python\\Python311\\Lib\\site-packages\\wandb\\sdk\\interface\\interface_shared.py\", line 60, in _publish_telemetry\n",
      "    self._publish(rec)\n",
      "  File \"c:\\Users\\mfaza\\AppData\\Local\\Programs\\Python\\Python311\\Lib\\site-packages\\wandb\\sdk\\interface\\interface_sock.py\", line 39, in _publish\n",
      "    self._sock_client.send_record_publish(record)\n",
      "  File \"c:\\Users\\mfaza\\AppData\\Local\\Programs\\Python\\Python311\\Lib\\site-packages\\wandb\\sdk\\lib\\sock_client.py\", line 174, in send_record_publish\n",
      "    self.send_server_request(server_req)\n",
      "  File \"c:\\Users\\mfaza\\AppData\\Local\\Programs\\Python\\Python311\\Lib\\site-packages\\wandb\\sdk\\lib\\sock_client.py\", line 154, in send_server_request\n",
      "    self._send_message(msg)\n",
      "  File \"c:\\Users\\mfaza\\AppData\\Local\\Programs\\Python\\Python311\\Lib\\site-packages\\wandb\\sdk\\lib\\sock_client.py\", line 151, in _send_message\n",
      "    self._sendall_with_error_handle(header + data)\n",
      "  File \"c:\\Users\\mfaza\\AppData\\Local\\Programs\\Python\\Python311\\Lib\\site-packages\\wandb\\sdk\\lib\\sock_client.py\", line 130, in _sendall_with_error_handle\n",
      "    sent = self._sock.send(data)\n",
      "           ^^^^^^^^^^^^^^^^^^^^^\n",
      "ConnectionAbortedError: [WinError 10053] An established connection was aborted by the software in your host machine\n",
      "\u001b[34m\u001b[1mwandb\u001b[0m: Agent Starting Run: ofojjf0r with config:\n",
      "\u001b[34m\u001b[1mwandb\u001b[0m: \tactivation: ReLU\n",
      "\u001b[34m\u001b[1mwandb\u001b[0m: \tbatch_size: 32\n",
      "\u001b[34m\u001b[1mwandb\u001b[0m: \tepochs: 10\n",
      "\u001b[34m\u001b[1mwandb\u001b[0m: \thidden_layers: 3\n",
      "\u001b[34m\u001b[1mwandb\u001b[0m: \thidden_size: 128\n",
      "\u001b[34m\u001b[1mwandb\u001b[0m: \tlearning_rate: 0.0001\n",
      "\u001b[34m\u001b[1mwandb\u001b[0m: \toptimizer: adam\n",
      "\u001b[34m\u001b[1mwandb\u001b[0m: \tweight_decay: 0.0005\n",
      "\u001b[34m\u001b[1mwandb\u001b[0m: \tweight_init: random\n",
      " 10%|█         | 1/10 [00:16<02:26, 16.33s/it]"
     ]
    },
    {
     "name": "stdout",
     "output_type": "stream",
     "text": [
      "Epoch 1/10 - Loss: 1.2677, Accuracy: 0.4625\n",
      "1.2677093089542608 0.4624966648879402\n"
     ]
    },
    {
     "name": "stderr",
     "output_type": "stream",
     "text": [
      " 20%|██        | 2/10 [00:31<02:04, 15.54s/it]"
     ]
    },
    {
     "name": "stdout",
     "output_type": "stream",
     "text": [
      "Epoch 2/10 - Loss: 1.2564, Accuracy: 0.4732\n",
      "1.2564054887170308 0.4731690234791889\n"
     ]
    },
    {
     "name": "stderr",
     "output_type": "stream",
     "text": [
      " 30%|███       | 3/10 [00:47<01:51, 15.87s/it]"
     ]
    },
    {
     "name": "stdout",
     "output_type": "stream",
     "text": [
      "Epoch 3/10 - Loss: 1.2501, Accuracy: 0.4866\n",
      "1.2500506996692478 0.4865594983991462\n"
     ]
    },
    {
     "name": "stderr",
     "output_type": "stream",
     "text": [
      " 40%|████      | 4/10 [01:03<01:34, 15.81s/it]"
     ]
    },
    {
     "name": "stdout",
     "output_type": "stream",
     "text": [
      "Epoch 4/10 - Loss: 1.2432, Accuracy: 0.4880\n",
      "1.2431986370636832 0.4879602454642476\n"
     ]
    },
    {
     "name": "stderr",
     "output_type": "stream",
     "text": [
      " 50%|█████     | 5/10 [01:17<01:16, 15.22s/it]"
     ]
    },
    {
     "name": "stdout",
     "output_type": "stream",
     "text": [
      "Epoch 5/10 - Loss: 1.2383, Accuracy: 0.4894\n",
      "1.2382559238366098 0.4894110192102455\n"
     ]
    },
    {
     "name": "stderr",
     "output_type": "stream",
     "text": [
      " 60%|██████    | 6/10 [01:31<00:59, 14.85s/it]"
     ]
    },
    {
     "name": "stdout",
     "output_type": "stream",
     "text": [
      "Epoch 6/10 - Loss: 1.2360, Accuracy: 0.4911\n",
      "1.2359755661342893 0.4911119263607257\n"
     ]
    },
    {
     "name": "stderr",
     "output_type": "stream",
     "text": [
      " 70%|███████   | 7/10 [01:45<00:43, 14.53s/it]"
     ]
    },
    {
     "name": "stdout",
     "output_type": "stream",
     "text": [
      "Epoch 7/10 - Loss: 1.2354, Accuracy: 0.4965\n",
      "1.2354440712630128 0.4965148078975454\n"
     ]
    },
    {
     "name": "stderr",
     "output_type": "stream",
     "text": [
      " 80%|████████  | 8/10 [01:59<00:28, 14.30s/it]"
     ]
    },
    {
     "name": "stdout",
     "output_type": "stream",
     "text": [
      "Epoch 8/10 - Loss: 1.2335, Accuracy: 0.4961\n",
      "1.2334554074074422 0.49613127001067236\n"
     ]
    },
    {
     "name": "stderr",
     "output_type": "stream",
     "text": [
      " 90%|█████████ | 9/10 [02:12<00:14, 14.06s/it]"
     ]
    },
    {
     "name": "stdout",
     "output_type": "stream",
     "text": [
      "Epoch 9/10 - Loss: 1.2404, Accuracy: 0.4832\n",
      "1.2403956684687514 0.4831576840981857\n"
     ]
    },
    {
     "name": "stderr",
     "output_type": "stream",
     "text": [
      "100%|██████████| 10/10 [02:28<00:00, 14.87s/it]"
     ]
    },
    {
     "name": "stdout",
     "output_type": "stream",
     "text": [
      "Epoch 10/10 - Loss: 1.2401, Accuracy: 0.4902\n",
      "1.2400665979621388 0.49024479722518677\n"
     ]
    },
    {
     "name": "stderr",
     "output_type": "stream",
     "text": [
      "\n",
      "Exception in thread Thread-112 (_run_job):\n",
      "Traceback (most recent call last):\n",
      "  File \"c:\\Users\\mfaza\\AppData\\Local\\Programs\\Python\\Python311\\Lib\\site-packages\\wandb\\agents\\pyagent.py\", line 307, in _run_job\n",
      "    wandb.finish()\n",
      "  File \"c:\\Users\\mfaza\\AppData\\Local\\Programs\\Python\\Python311\\Lib\\site-packages\\wandb\\sdk\\wandb_run.py\", line 4130, in finish\n",
      "    wandb.run.finish(exit_code=exit_code, quiet=quiet)\n",
      "  File \"c:\\Users\\mfaza\\AppData\\Local\\Programs\\Python\\Python311\\Lib\\site-packages\\wandb\\sdk\\wandb_run.py\", line 449, in wrapper\n",
      "    return func(self, *args, **kwargs)\n",
      "           ^^^^^^^^^^^^^^^^^^^^^^^^^^^\n",
      "  File \"c:\\Users\\mfaza\\AppData\\Local\\Programs\\Python\\Python311\\Lib\\site-packages\\wandb\\sdk\\wandb_run.py\", line 391, in wrapper\n",
      "    return func(self, *args, **kwargs)\n",
      "           ^^^^^^^^^^^^^^^^^^^^^^^^^^^\n",
      "  File \"c:\\Users\\mfaza\\AppData\\Local\\Programs\\Python\\Python311\\Lib\\site-packages\\wandb\\sdk\\wandb_run.py\", line 2106, in finish\n",
      "    return self._finish(exit_code)\n",
      "           ^^^^^^^^^^^^^^^^^^^^^^^\n",
      "  File \"c:\\Users\\mfaza\\AppData\\Local\\Programs\\Python\\Python311\\Lib\\site-packages\\wandb\\sdk\\wandb_run.py\", line 2113, in _finish\n",
      "    with telemetry.context(run=self) as tel:\n",
      "  File \"c:\\Users\\mfaza\\AppData\\Local\\Programs\\Python\\Python311\\Lib\\site-packages\\wandb\\sdk\\lib\\telemetry.py\", line 42, in __exit__\n",
      "    self._run._telemetry_callback(self._obj)\n",
      "  File \"c:\\Users\\mfaza\\AppData\\Local\\Programs\\Python\\Python311\\Lib\\site-packages\\wandb\\sdk\\wandb_run.py\", line 749, in _telemetry_callback\n",
      "    self._telemetry_flush()\n",
      "  File \"c:\\Users\\mfaza\\AppData\\Local\\Programs\\Python\\Python311\\Lib\\site-packages\\wandb\\sdk\\wandb_run.py\", line 762, in _telemetry_flush\n",
      "    self._backend.interface._publish_telemetry(self._telemetry_obj)\n",
      "  File \"c:\\Users\\mfaza\\AppData\\Local\\Programs\\Python\\Python311\\Lib\\site-packages\\wandb\\sdk\\interface\\interface_shared.py\", line 60, in _publish_telemetry\n",
      "    self._publish(rec)\n",
      "  File \"c:\\Users\\mfaza\\AppData\\Local\\Programs\\Python\\Python311\\Lib\\site-packages\\wandb\\sdk\\interface\\interface_sock.py\", line 39, in _publish\n",
      "    self._sock_client.send_record_publish(record)\n",
      "  File \"c:\\Users\\mfaza\\AppData\\Local\\Programs\\Python\\Python311\\Lib\\site-packages\\wandb\\sdk\\lib\\sock_client.py\", line 174, in send_record_publish\n",
      "    self.send_server_request(server_req)\n",
      "  File \"c:\\Users\\mfaza\\AppData\\Local\\Programs\\Python\\Python311\\Lib\\site-packages\\wandb\\sdk\\lib\\sock_client.py\", line 154, in send_server_request\n",
      "    self._send_message(msg)\n",
      "  File \"c:\\Users\\mfaza\\AppData\\Local\\Programs\\Python\\Python311\\Lib\\site-packages\\wandb\\sdk\\lib\\sock_client.py\", line 151, in _send_message\n",
      "    self._sendall_with_error_handle(header + data)\n",
      "  File \"c:\\Users\\mfaza\\AppData\\Local\\Programs\\Python\\Python311\\Lib\\site-packages\\wandb\\sdk\\lib\\sock_client.py\", line 130, in _sendall_with_error_handle\n",
      "    sent = self._sock.send(data)\n",
      "           ^^^^^^^^^^^^^^^^^^^^^\n",
      "ConnectionAbortedError: [WinError 10053] An established connection was aborted by the software in your host machine\n",
      "\n",
      "During handling of the above exception, another exception occurred:\n",
      "\n",
      "Traceback (most recent call last):\n",
      "  File \"c:\\Users\\mfaza\\AppData\\Local\\Programs\\Python\\Python311\\Lib\\threading.py\", line 1038, in _bootstrap_inner\n",
      "    self.run()\n",
      "  File \"C:\\Users\\mfaza\\AppData\\Roaming\\Python\\Python311\\site-packages\\ipykernel\\ipkernel.py\", line 766, in run_closure\n",
      "    _threading_Thread_run(self)\n",
      "  File \"c:\\Users\\mfaza\\AppData\\Local\\Programs\\Python\\Python311\\Lib\\threading.py\", line 975, in run\n",
      "    self._target(*self._args, **self._kwargs)\n",
      "  File \"c:\\Users\\mfaza\\AppData\\Local\\Programs\\Python\\Python311\\Lib\\site-packages\\wandb\\agents\\pyagent.py\", line 311, in _run_job\n",
      "    wandb.finish(exit_code=1)\n",
      "  File \"c:\\Users\\mfaza\\AppData\\Local\\Programs\\Python\\Python311\\Lib\\site-packages\\wandb\\sdk\\wandb_run.py\", line 4130, in finish\n",
      "    wandb.run.finish(exit_code=exit_code, quiet=quiet)\n",
      "  File \"c:\\Users\\mfaza\\AppData\\Local\\Programs\\Python\\Python311\\Lib\\site-packages\\wandb\\sdk\\wandb_run.py\", line 449, in wrapper\n",
      "    return func(self, *args, **kwargs)\n",
      "           ^^^^^^^^^^^^^^^^^^^^^^^^^^^\n",
      "  File \"c:\\Users\\mfaza\\AppData\\Local\\Programs\\Python\\Python311\\Lib\\site-packages\\wandb\\sdk\\wandb_run.py\", line 391, in wrapper\n",
      "    return func(self, *args, **kwargs)\n",
      "           ^^^^^^^^^^^^^^^^^^^^^^^^^^^\n",
      "  File \"c:\\Users\\mfaza\\AppData\\Local\\Programs\\Python\\Python311\\Lib\\site-packages\\wandb\\sdk\\wandb_run.py\", line 2106, in finish\n",
      "    return self._finish(exit_code)\n",
      "           ^^^^^^^^^^^^^^^^^^^^^^^\n",
      "  File \"c:\\Users\\mfaza\\AppData\\Local\\Programs\\Python\\Python311\\Lib\\site-packages\\wandb\\sdk\\wandb_run.py\", line 2113, in _finish\n",
      "    with telemetry.context(run=self) as tel:\n",
      "  File \"c:\\Users\\mfaza\\AppData\\Local\\Programs\\Python\\Python311\\Lib\\site-packages\\wandb\\sdk\\lib\\telemetry.py\", line 42, in __exit__\n",
      "    self._run._telemetry_callback(self._obj)\n",
      "  File \"c:\\Users\\mfaza\\AppData\\Local\\Programs\\Python\\Python311\\Lib\\site-packages\\wandb\\sdk\\wandb_run.py\", line 749, in _telemetry_callback\n",
      "    self._telemetry_flush()\n",
      "  File \"c:\\Users\\mfaza\\AppData\\Local\\Programs\\Python\\Python311\\Lib\\site-packages\\wandb\\sdk\\wandb_run.py\", line 762, in _telemetry_flush\n",
      "    self._backend.interface._publish_telemetry(self._telemetry_obj)\n",
      "  File \"c:\\Users\\mfaza\\AppData\\Local\\Programs\\Python\\Python311\\Lib\\site-packages\\wandb\\sdk\\interface\\interface_shared.py\", line 60, in _publish_telemetry\n",
      "    self._publish(rec)\n",
      "  File \"c:\\Users\\mfaza\\AppData\\Local\\Programs\\Python\\Python311\\Lib\\site-packages\\wandb\\sdk\\interface\\interface_sock.py\", line 39, in _publish\n",
      "    self._sock_client.send_record_publish(record)\n",
      "  File \"c:\\Users\\mfaza\\AppData\\Local\\Programs\\Python\\Python311\\Lib\\site-packages\\wandb\\sdk\\lib\\sock_client.py\", line 174, in send_record_publish\n",
      "    self.send_server_request(server_req)\n",
      "  File \"c:\\Users\\mfaza\\AppData\\Local\\Programs\\Python\\Python311\\Lib\\site-packages\\wandb\\sdk\\lib\\sock_client.py\", line 154, in send_server_request\n",
      "    self._send_message(msg)\n",
      "  File \"c:\\Users\\mfaza\\AppData\\Local\\Programs\\Python\\Python311\\Lib\\site-packages\\wandb\\sdk\\lib\\sock_client.py\", line 151, in _send_message\n",
      "    self._sendall_with_error_handle(header + data)\n",
      "  File \"c:\\Users\\mfaza\\AppData\\Local\\Programs\\Python\\Python311\\Lib\\site-packages\\wandb\\sdk\\lib\\sock_client.py\", line 130, in _sendall_with_error_handle\n",
      "    sent = self._sock.send(data)\n",
      "           ^^^^^^^^^^^^^^^^^^^^^\n",
      "ConnectionAbortedError: [WinError 10053] An established connection was aborted by the software in your host machine\n",
      "\u001b[34m\u001b[1mwandb\u001b[0m: Sweep Agent: Waiting for job.\n",
      "\u001b[34m\u001b[1mwandb\u001b[0m: Job received.\n",
      "\u001b[34m\u001b[1mwandb\u001b[0m: Agent Starting Run: hsx34v62 with config:\n",
      "\u001b[34m\u001b[1mwandb\u001b[0m: \tactivation: tanh\n",
      "\u001b[34m\u001b[1mwandb\u001b[0m: \tbatch_size: 32\n",
      "\u001b[34m\u001b[1mwandb\u001b[0m: \tepochs: 10\n",
      "\u001b[34m\u001b[1mwandb\u001b[0m: \thidden_layers: 3\n",
      "\u001b[34m\u001b[1mwandb\u001b[0m: \thidden_size: 128\n",
      "\u001b[34m\u001b[1mwandb\u001b[0m: \tlearning_rate: 0.0001\n",
      "\u001b[34m\u001b[1mwandb\u001b[0m: \toptimizer: rmsprop\n",
      "\u001b[34m\u001b[1mwandb\u001b[0m: \tweight_decay: 0.5\n",
      "\u001b[34m\u001b[1mwandb\u001b[0m: \tweight_init: random\n",
      " 10%|█         | 1/10 [00:13<02:01, 13.48s/it]"
     ]
    },
    {
     "name": "stdout",
     "output_type": "stream",
     "text": [
      "Epoch 1/10 - Loss: 1.2363, Accuracy: 0.5000\n",
      "1.236330799351942 0.5\n"
     ]
    },
    {
     "name": "stderr",
     "output_type": "stream",
     "text": [
      " 20%|██        | 2/10 [00:28<01:53, 14.23s/it]"
     ]
    },
    {
     "name": "stdout",
     "output_type": "stream",
     "text": [
      "Epoch 2/10 - Loss: 1.2372, Accuracy: 0.5077\n",
      "1.2372168693383585 0.5077374599786553\n"
     ]
    },
    {
     "name": "stderr",
     "output_type": "stream",
     "text": [
      " 30%|███       | 3/10 [00:45<01:48, 15.48s/it]"
     ]
    },
    {
     "name": "stdout",
     "output_type": "stream",
     "text": [
      "Epoch 3/10 - Loss: 1.2383, Accuracy: 0.5125\n",
      "1.2383352185576173 0.5125066702241196\n"
     ]
    },
    {
     "name": "stderr",
     "output_type": "stream",
     "text": [
      " 40%|████      | 4/10 [01:01<01:35, 15.93s/it]"
     ]
    },
    {
     "name": "stdout",
     "output_type": "stream",
     "text": [
      "Epoch 4/10 - Loss: 1.2372, Accuracy: 0.5142\n",
      "1.237205047655979 0.5141575506937033\n"
     ]
    },
    {
     "name": "stderr",
     "output_type": "stream",
     "text": [
      " 50%|█████     | 5/10 [01:17<01:19, 15.84s/it]"
     ]
    },
    {
     "name": "stdout",
     "output_type": "stream",
     "text": [
      "Epoch 5/10 - Loss: 1.2360, Accuracy: 0.5136\n",
      "1.235981527438267 0.513607257203842\n"
     ]
    },
    {
     "name": "stderr",
     "output_type": "stream",
     "text": [
      "\u001b[34m\u001b[1mwandb\u001b[0m: Network error (ConnectionError), entering retry loop.\n",
      " 60%|██████    | 6/10 [13:33<17:22, 260.60s/it]"
     ]
    },
    {
     "name": "stdout",
     "output_type": "stream",
     "text": [
      "Epoch 6/10 - Loss: 1.2372, Accuracy: 0.5107\n",
      "1.2371982727806916 0.5106723585912487\n"
     ]
    },
    {
     "name": "stderr",
     "output_type": "stream",
     "text": [
      " 70%|███████   | 7/10 [51:26<45:56, 918.68s/it]"
     ]
    },
    {
     "name": "stdout",
     "output_type": "stream",
     "text": [
      "Epoch 7/10 - Loss: 1.2480, Accuracy: 0.4991\n",
      "1.2479783355574197 0.4991495464247599\n"
     ]
    },
    {
     "name": "stderr",
     "output_type": "stream",
     "text": [
      " 80%|████████  | 8/10 [51:55<21:10, 635.47s/it]"
     ]
    },
    {
     "name": "stdout",
     "output_type": "stream",
     "text": [
      "Epoch 8/10 - Loss: 1.2609, Accuracy: 0.4921\n",
      "1.2609180878775248 0.49211245997865527\n"
     ]
    },
    {
     "name": "stderr",
     "output_type": "stream",
     "text": [
      " 90%|█████████ | 9/10 [52:25<07:26, 446.04s/it]"
     ]
    },
    {
     "name": "stdout",
     "output_type": "stream",
     "text": [
      "Epoch 9/10 - Loss: 1.2519, Accuracy: 0.4881\n",
      "1.2518939086554206 0.4880602988260406\n"
     ]
    },
    {
     "name": "stderr",
     "output_type": "stream",
     "text": [
      "100%|██████████| 10/10 [52:53<00:00, 317.31s/it]"
     ]
    },
    {
     "name": "stdout",
     "output_type": "stream",
     "text": [
      "Epoch 10/10 - Loss: 1.2569, Accuracy: 0.4864\n",
      "1.2568799080378912 0.4863593916755603\n"
     ]
    },
    {
     "name": "stderr",
     "output_type": "stream",
     "text": [
      "\n",
      "Exception in thread Thread-113 (_run_job):\n",
      "Traceback (most recent call last):\n",
      "  File \"c:\\Users\\mfaza\\AppData\\Local\\Programs\\Python\\Python311\\Lib\\site-packages\\wandb\\agents\\pyagent.py\", line 307, in _run_job\n",
      "    wandb.finish()\n",
      "  File \"c:\\Users\\mfaza\\AppData\\Local\\Programs\\Python\\Python311\\Lib\\site-packages\\wandb\\sdk\\wandb_run.py\", line 4130, in finish\n",
      "    wandb.run.finish(exit_code=exit_code, quiet=quiet)\n",
      "  File \"c:\\Users\\mfaza\\AppData\\Local\\Programs\\Python\\Python311\\Lib\\site-packages\\wandb\\sdk\\wandb_run.py\", line 449, in wrapper\n",
      "    return func(self, *args, **kwargs)\n",
      "           ^^^^^^^^^^^^^^^^^^^^^^^^^^^\n",
      "  File \"c:\\Users\\mfaza\\AppData\\Local\\Programs\\Python\\Python311\\Lib\\site-packages\\wandb\\sdk\\wandb_run.py\", line 391, in wrapper\n",
      "    return func(self, *args, **kwargs)\n",
      "           ^^^^^^^^^^^^^^^^^^^^^^^^^^^\n",
      "  File \"c:\\Users\\mfaza\\AppData\\Local\\Programs\\Python\\Python311\\Lib\\site-packages\\wandb\\sdk\\wandb_run.py\", line 2106, in finish\n",
      "    return self._finish(exit_code)\n",
      "           ^^^^^^^^^^^^^^^^^^^^^^^\n",
      "  File \"c:\\Users\\mfaza\\AppData\\Local\\Programs\\Python\\Python311\\Lib\\site-packages\\wandb\\sdk\\wandb_run.py\", line 2113, in _finish\n",
      "    with telemetry.context(run=self) as tel:\n",
      "  File \"c:\\Users\\mfaza\\AppData\\Local\\Programs\\Python\\Python311\\Lib\\site-packages\\wandb\\sdk\\lib\\telemetry.py\", line 42, in __exit__\n",
      "    self._run._telemetry_callback(self._obj)\n",
      "  File \"c:\\Users\\mfaza\\AppData\\Local\\Programs\\Python\\Python311\\Lib\\site-packages\\wandb\\sdk\\wandb_run.py\", line 749, in _telemetry_callback\n",
      "    self._telemetry_flush()\n",
      "  File \"c:\\Users\\mfaza\\AppData\\Local\\Programs\\Python\\Python311\\Lib\\site-packages\\wandb\\sdk\\wandb_run.py\", line 762, in _telemetry_flush\n",
      "    self._backend.interface._publish_telemetry(self._telemetry_obj)\n",
      "  File \"c:\\Users\\mfaza\\AppData\\Local\\Programs\\Python\\Python311\\Lib\\site-packages\\wandb\\sdk\\interface\\interface_shared.py\", line 60, in _publish_telemetry\n",
      "    self._publish(rec)\n",
      "  File \"c:\\Users\\mfaza\\AppData\\Local\\Programs\\Python\\Python311\\Lib\\site-packages\\wandb\\sdk\\interface\\interface_sock.py\", line 39, in _publish\n",
      "    self._sock_client.send_record_publish(record)\n",
      "  File \"c:\\Users\\mfaza\\AppData\\Local\\Programs\\Python\\Python311\\Lib\\site-packages\\wandb\\sdk\\lib\\sock_client.py\", line 174, in send_record_publish\n",
      "    self.send_server_request(server_req)\n",
      "  File \"c:\\Users\\mfaza\\AppData\\Local\\Programs\\Python\\Python311\\Lib\\site-packages\\wandb\\sdk\\lib\\sock_client.py\", line 154, in send_server_request\n",
      "    self._send_message(msg)\n",
      "  File \"c:\\Users\\mfaza\\AppData\\Local\\Programs\\Python\\Python311\\Lib\\site-packages\\wandb\\sdk\\lib\\sock_client.py\", line 151, in _send_message\n",
      "    self._sendall_with_error_handle(header + data)\n",
      "  File \"c:\\Users\\mfaza\\AppData\\Local\\Programs\\Python\\Python311\\Lib\\site-packages\\wandb\\sdk\\lib\\sock_client.py\", line 130, in _sendall_with_error_handle\n",
      "    sent = self._sock.send(data)\n",
      "           ^^^^^^^^^^^^^^^^^^^^^\n",
      "ConnectionAbortedError: [WinError 10053] An established connection was aborted by the software in your host machine\n",
      "\n",
      "During handling of the above exception, another exception occurred:\n",
      "\n",
      "Traceback (most recent call last):\n",
      "  File \"c:\\Users\\mfaza\\AppData\\Local\\Programs\\Python\\Python311\\Lib\\threading.py\", line 1038, in _bootstrap_inner\n",
      "    self.run()\n",
      "  File \"C:\\Users\\mfaza\\AppData\\Roaming\\Python\\Python311\\site-packages\\ipykernel\\ipkernel.py\", line 766, in run_closure\n",
      "    _threading_Thread_run(self)\n",
      "  File \"c:\\Users\\mfaza\\AppData\\Local\\Programs\\Python\\Python311\\Lib\\threading.py\", line 975, in run\n",
      "    self._target(*self._args, **self._kwargs)\n",
      "  File \"c:\\Users\\mfaza\\AppData\\Local\\Programs\\Python\\Python311\\Lib\\site-packages\\wandb\\agents\\pyagent.py\", line 311, in _run_job\n",
      "    wandb.finish(exit_code=1)\n",
      "  File \"c:\\Users\\mfaza\\AppData\\Local\\Programs\\Python\\Python311\\Lib\\site-packages\\wandb\\sdk\\wandb_run.py\", line 4130, in finish\n",
      "    wandb.run.finish(exit_code=exit_code, quiet=quiet)\n",
      "  File \"c:\\Users\\mfaza\\AppData\\Local\\Programs\\Python\\Python311\\Lib\\site-packages\\wandb\\sdk\\wandb_run.py\", line 449, in wrapper\n",
      "    return func(self, *args, **kwargs)\n",
      "           ^^^^^^^^^^^^^^^^^^^^^^^^^^^\n",
      "  File \"c:\\Users\\mfaza\\AppData\\Local\\Programs\\Python\\Python311\\Lib\\site-packages\\wandb\\sdk\\wandb_run.py\", line 391, in wrapper\n",
      "    return func(self, *args, **kwargs)\n",
      "           ^^^^^^^^^^^^^^^^^^^^^^^^^^^\n",
      "  File \"c:\\Users\\mfaza\\AppData\\Local\\Programs\\Python\\Python311\\Lib\\site-packages\\wandb\\sdk\\wandb_run.py\", line 2106, in finish\n",
      "    return self._finish(exit_code)\n",
      "           ^^^^^^^^^^^^^^^^^^^^^^^\n",
      "  File \"c:\\Users\\mfaza\\AppData\\Local\\Programs\\Python\\Python311\\Lib\\site-packages\\wandb\\sdk\\wandb_run.py\", line 2113, in _finish\n",
      "    with telemetry.context(run=self) as tel:\n",
      "  File \"c:\\Users\\mfaza\\AppData\\Local\\Programs\\Python\\Python311\\Lib\\site-packages\\wandb\\sdk\\lib\\telemetry.py\", line 42, in __exit__\n",
      "    self._run._telemetry_callback(self._obj)\n",
      "  File \"c:\\Users\\mfaza\\AppData\\Local\\Programs\\Python\\Python311\\Lib\\site-packages\\wandb\\sdk\\wandb_run.py\", line 749, in _telemetry_callback\n",
      "    self._telemetry_flush()\n",
      "  File \"c:\\Users\\mfaza\\AppData\\Local\\Programs\\Python\\Python311\\Lib\\site-packages\\wandb\\sdk\\wandb_run.py\", line 762, in _telemetry_flush\n",
      "    self._backend.interface._publish_telemetry(self._telemetry_obj)\n",
      "  File \"c:\\Users\\mfaza\\AppData\\Local\\Programs\\Python\\Python311\\Lib\\site-packages\\wandb\\sdk\\interface\\interface_shared.py\", line 60, in _publish_telemetry\n",
      "    self._publish(rec)\n",
      "  File \"c:\\Users\\mfaza\\AppData\\Local\\Programs\\Python\\Python311\\Lib\\site-packages\\wandb\\sdk\\interface\\interface_sock.py\", line 39, in _publish\n",
      "    self._sock_client.send_record_publish(record)\n",
      "  File \"c:\\Users\\mfaza\\AppData\\Local\\Programs\\Python\\Python311\\Lib\\site-packages\\wandb\\sdk\\lib\\sock_client.py\", line 174, in send_record_publish\n",
      "    self.send_server_request(server_req)\n",
      "  File \"c:\\Users\\mfaza\\AppData\\Local\\Programs\\Python\\Python311\\Lib\\site-packages\\wandb\\sdk\\lib\\sock_client.py\", line 154, in send_server_request\n",
      "    self._send_message(msg)\n",
      "  File \"c:\\Users\\mfaza\\AppData\\Local\\Programs\\Python\\Python311\\Lib\\site-packages\\wandb\\sdk\\lib\\sock_client.py\", line 151, in _send_message\n",
      "    self._sendall_with_error_handle(header + data)\n",
      "  File \"c:\\Users\\mfaza\\AppData\\Local\\Programs\\Python\\Python311\\Lib\\site-packages\\wandb\\sdk\\lib\\sock_client.py\", line 130, in _sendall_with_error_handle\n",
      "    sent = self._sock.send(data)\n",
      "           ^^^^^^^^^^^^^^^^^^^^^\n",
      "ConnectionAbortedError: [WinError 10053] An established connection was aborted by the software in your host machine\n",
      "\u001b[34m\u001b[1mwandb\u001b[0m: Agent Starting Run: e5qyht29 with config:\n",
      "\u001b[34m\u001b[1mwandb\u001b[0m: \tactivation: ReLU\n",
      "\u001b[34m\u001b[1mwandb\u001b[0m: \tbatch_size: 64\n",
      "\u001b[34m\u001b[1mwandb\u001b[0m: \tepochs: 5\n",
      "\u001b[34m\u001b[1mwandb\u001b[0m: \thidden_layers: 4\n",
      "\u001b[34m\u001b[1mwandb\u001b[0m: \thidden_size: 128\n",
      "\u001b[34m\u001b[1mwandb\u001b[0m: \tlearning_rate: 0.0001\n",
      "\u001b[34m\u001b[1mwandb\u001b[0m: \toptimizer: nesterov\n",
      "\u001b[34m\u001b[1mwandb\u001b[0m: \tweight_decay: 0.0005\n",
      "\u001b[34m\u001b[1mwandb\u001b[0m: \tweight_init: random\n",
      " 10%|█         | 1/10 [00:27<04:05, 27.22s/it]"
     ]
    },
    {
     "name": "stdout",
     "output_type": "stream",
     "text": [
      "Epoch 1/10 - Loss: 1.2623, Accuracy: 0.4877\n",
      "1.2623266946636622 0.48772678762006405\n"
     ]
    },
    {
     "name": "stderr",
     "output_type": "stream",
     "text": [
      " 20%|██        | 2/10 [00:56<03:49, 28.67s/it]"
     ]
    },
    {
     "name": "stdout",
     "output_type": "stream",
     "text": [
      "Epoch 2/10 - Loss: 1.2649, Accuracy: 0.4835\n",
      "1.2649281325786499 0.48350787086446106\n"
     ]
    },
    {
     "name": "stderr",
     "output_type": "stream",
     "text": [
      " 30%|███       | 3/10 [01:29<03:34, 30.58s/it]"
     ]
    },
    {
     "name": "stdout",
     "output_type": "stream",
     "text": [
      "Epoch 3/10 - Loss: 1.2682, Accuracy: 0.4828\n",
      "1.2681543253517555 0.48279082177161153\n"
     ]
    },
    {
     "name": "stderr",
     "output_type": "stream",
     "text": [
      " 40%|████      | 4/10 [01:58<02:59, 29.91s/it]"
     ]
    },
    {
     "name": "stdout",
     "output_type": "stream",
     "text": [
      "Epoch 4/10 - Loss: 1.2704, Accuracy: 0.4804\n",
      "1.270441868752581 0.48037286552828173\n"
     ]
    },
    {
     "name": "stderr",
     "output_type": "stream",
     "text": [
      " 50%|█████     | 5/10 [02:26<02:25, 29.04s/it]"
     ]
    },
    {
     "name": "stdout",
     "output_type": "stream",
     "text": [
      "Epoch 5/10 - Loss: 1.2726, Accuracy: 0.4768\n",
      "1.2726306458675811 0.4767542689434365\n"
     ]
    },
    {
     "name": "stderr",
     "output_type": "stream",
     "text": [
      " 60%|██████    | 6/10 [02:59<02:01, 30.39s/it]"
     ]
    },
    {
     "name": "stdout",
     "output_type": "stream",
     "text": [
      "Epoch 6/10 - Loss: 1.2760, Accuracy: 0.4722\n",
      "1.2760271302959643 0.4722185165421558\n"
     ]
    },
    {
     "name": "stderr",
     "output_type": "stream",
     "text": [
      " 70%|███████   | 7/10 [03:32<01:33, 31.32s/it]"
     ]
    },
    {
     "name": "stdout",
     "output_type": "stream",
     "text": [
      "Epoch 7/10 - Loss: 1.2765, Accuracy: 0.4680\n",
      "1.276501579159929 0.4679995997865528\n"
     ]
    },
    {
     "name": "stderr",
     "output_type": "stream",
     "text": [
      " 80%|████████  | 8/10 [04:06<01:04, 32.12s/it]"
     ]
    },
    {
     "name": "stdout",
     "output_type": "stream",
     "text": [
      "Epoch 8/10 - Loss: 1.2777, Accuracy: 0.4644\n",
      "1.277720658964536 0.46438100320170755\n"
     ]
    },
    {
     "name": "stderr",
     "output_type": "stream",
     "text": [
      " 90%|█████████ | 9/10 [04:39<00:32, 32.56s/it]"
     ]
    },
    {
     "name": "stdout",
     "output_type": "stream",
     "text": [
      "Epoch 9/10 - Loss: 1.2779, Accuracy: 0.4617\n",
      "1.2778898658547346 0.4616962379935966\n"
     ]
    },
    {
     "name": "stderr",
     "output_type": "stream",
     "text": [
      "100%|██████████| 10/10 [05:13<00:00, 31.39s/it]"
     ]
    },
    {
     "name": "stdout",
     "output_type": "stream",
     "text": [
      "Epoch 10/10 - Loss: 1.2806, Accuracy: 0.4559\n",
      "1.2805780723542068 0.4559098185699039\n"
     ]
    },
    {
     "name": "stderr",
     "output_type": "stream",
     "text": [
      "\n",
      "Exception in thread Thread-114 (_run_job):\n",
      "Traceback (most recent call last):\n",
      "  File \"c:\\Users\\mfaza\\AppData\\Local\\Programs\\Python\\Python311\\Lib\\site-packages\\wandb\\agents\\pyagent.py\", line 307, in _run_job\n",
      "    wandb.finish()\n",
      "  File \"c:\\Users\\mfaza\\AppData\\Local\\Programs\\Python\\Python311\\Lib\\site-packages\\wandb\\sdk\\wandb_run.py\", line 4130, in finish\n",
      "    wandb.run.finish(exit_code=exit_code, quiet=quiet)\n",
      "  File \"c:\\Users\\mfaza\\AppData\\Local\\Programs\\Python\\Python311\\Lib\\site-packages\\wandb\\sdk\\wandb_run.py\", line 449, in wrapper\n",
      "    return func(self, *args, **kwargs)\n",
      "           ^^^^^^^^^^^^^^^^^^^^^^^^^^^\n",
      "  File \"c:\\Users\\mfaza\\AppData\\Local\\Programs\\Python\\Python311\\Lib\\site-packages\\wandb\\sdk\\wandb_run.py\", line 391, in wrapper\n",
      "    return func(self, *args, **kwargs)\n",
      "           ^^^^^^^^^^^^^^^^^^^^^^^^^^^\n",
      "  File \"c:\\Users\\mfaza\\AppData\\Local\\Programs\\Python\\Python311\\Lib\\site-packages\\wandb\\sdk\\wandb_run.py\", line 2106, in finish\n",
      "    return self._finish(exit_code)\n",
      "           ^^^^^^^^^^^^^^^^^^^^^^^\n",
      "  File \"c:\\Users\\mfaza\\AppData\\Local\\Programs\\Python\\Python311\\Lib\\site-packages\\wandb\\sdk\\wandb_run.py\", line 2113, in _finish\n",
      "    with telemetry.context(run=self) as tel:\n",
      "  File \"c:\\Users\\mfaza\\AppData\\Local\\Programs\\Python\\Python311\\Lib\\site-packages\\wandb\\sdk\\lib\\telemetry.py\", line 42, in __exit__\n",
      "    self._run._telemetry_callback(self._obj)\n",
      "  File \"c:\\Users\\mfaza\\AppData\\Local\\Programs\\Python\\Python311\\Lib\\site-packages\\wandb\\sdk\\wandb_run.py\", line 749, in _telemetry_callback\n",
      "    self._telemetry_flush()\n",
      "  File \"c:\\Users\\mfaza\\AppData\\Local\\Programs\\Python\\Python311\\Lib\\site-packages\\wandb\\sdk\\wandb_run.py\", line 762, in _telemetry_flush\n",
      "    self._backend.interface._publish_telemetry(self._telemetry_obj)\n",
      "  File \"c:\\Users\\mfaza\\AppData\\Local\\Programs\\Python\\Python311\\Lib\\site-packages\\wandb\\sdk\\interface\\interface_shared.py\", line 60, in _publish_telemetry\n",
      "    self._publish(rec)\n",
      "  File \"c:\\Users\\mfaza\\AppData\\Local\\Programs\\Python\\Python311\\Lib\\site-packages\\wandb\\sdk\\interface\\interface_sock.py\", line 39, in _publish\n",
      "    self._sock_client.send_record_publish(record)\n",
      "  File \"c:\\Users\\mfaza\\AppData\\Local\\Programs\\Python\\Python311\\Lib\\site-packages\\wandb\\sdk\\lib\\sock_client.py\", line 174, in send_record_publish\n",
      "    self.send_server_request(server_req)\n",
      "  File \"c:\\Users\\mfaza\\AppData\\Local\\Programs\\Python\\Python311\\Lib\\site-packages\\wandb\\sdk\\lib\\sock_client.py\", line 154, in send_server_request\n",
      "    self._send_message(msg)\n",
      "  File \"c:\\Users\\mfaza\\AppData\\Local\\Programs\\Python\\Python311\\Lib\\site-packages\\wandb\\sdk\\lib\\sock_client.py\", line 151, in _send_message\n",
      "    self._sendall_with_error_handle(header + data)\n",
      "  File \"c:\\Users\\mfaza\\AppData\\Local\\Programs\\Python\\Python311\\Lib\\site-packages\\wandb\\sdk\\lib\\sock_client.py\", line 130, in _sendall_with_error_handle\n",
      "    sent = self._sock.send(data)\n",
      "           ^^^^^^^^^^^^^^^^^^^^^\n",
      "ConnectionAbortedError: [WinError 10053] An established connection was aborted by the software in your host machine\n",
      "\n",
      "During handling of the above exception, another exception occurred:\n",
      "\n",
      "Traceback (most recent call last):\n",
      "  File \"c:\\Users\\mfaza\\AppData\\Local\\Programs\\Python\\Python311\\Lib\\threading.py\", line 1038, in _bootstrap_inner\n",
      "    self.run()\n",
      "  File \"C:\\Users\\mfaza\\AppData\\Roaming\\Python\\Python311\\site-packages\\ipykernel\\ipkernel.py\", line 766, in run_closure\n",
      "    _threading_Thread_run(self)\n",
      "  File \"c:\\Users\\mfaza\\AppData\\Local\\Programs\\Python\\Python311\\Lib\\threading.py\", line 975, in run\n",
      "    self._target(*self._args, **self._kwargs)\n",
      "  File \"c:\\Users\\mfaza\\AppData\\Local\\Programs\\Python\\Python311\\Lib\\site-packages\\wandb\\agents\\pyagent.py\", line 311, in _run_job\n",
      "    wandb.finish(exit_code=1)\n",
      "  File \"c:\\Users\\mfaza\\AppData\\Local\\Programs\\Python\\Python311\\Lib\\site-packages\\wandb\\sdk\\wandb_run.py\", line 4130, in finish\n",
      "    wandb.run.finish(exit_code=exit_code, quiet=quiet)\n",
      "  File \"c:\\Users\\mfaza\\AppData\\Local\\Programs\\Python\\Python311\\Lib\\site-packages\\wandb\\sdk\\wandb_run.py\", line 449, in wrapper\n",
      "    return func(self, *args, **kwargs)\n",
      "           ^^^^^^^^^^^^^^^^^^^^^^^^^^^\n",
      "  File \"c:\\Users\\mfaza\\AppData\\Local\\Programs\\Python\\Python311\\Lib\\site-packages\\wandb\\sdk\\wandb_run.py\", line 391, in wrapper\n",
      "    return func(self, *args, **kwargs)\n",
      "           ^^^^^^^^^^^^^^^^^^^^^^^^^^^\n",
      "  File \"c:\\Users\\mfaza\\AppData\\Local\\Programs\\Python\\Python311\\Lib\\site-packages\\wandb\\sdk\\wandb_run.py\", line 2106, in finish\n",
      "    return self._finish(exit_code)\n",
      "           ^^^^^^^^^^^^^^^^^^^^^^^\n",
      "  File \"c:\\Users\\mfaza\\AppData\\Local\\Programs\\Python\\Python311\\Lib\\site-packages\\wandb\\sdk\\wandb_run.py\", line 2113, in _finish\n",
      "    with telemetry.context(run=self) as tel:\n",
      "  File \"c:\\Users\\mfaza\\AppData\\Local\\Programs\\Python\\Python311\\Lib\\site-packages\\wandb\\sdk\\lib\\telemetry.py\", line 42, in __exit__\n",
      "    self._run._telemetry_callback(self._obj)\n",
      "  File \"c:\\Users\\mfaza\\AppData\\Local\\Programs\\Python\\Python311\\Lib\\site-packages\\wandb\\sdk\\wandb_run.py\", line 749, in _telemetry_callback\n",
      "    self._telemetry_flush()\n",
      "  File \"c:\\Users\\mfaza\\AppData\\Local\\Programs\\Python\\Python311\\Lib\\site-packages\\wandb\\sdk\\wandb_run.py\", line 762, in _telemetry_flush\n",
      "    self._backend.interface._publish_telemetry(self._telemetry_obj)\n",
      "  File \"c:\\Users\\mfaza\\AppData\\Local\\Programs\\Python\\Python311\\Lib\\site-packages\\wandb\\sdk\\interface\\interface_shared.py\", line 60, in _publish_telemetry\n",
      "    self._publish(rec)\n",
      "  File \"c:\\Users\\mfaza\\AppData\\Local\\Programs\\Python\\Python311\\Lib\\site-packages\\wandb\\sdk\\interface\\interface_sock.py\", line 39, in _publish\n",
      "    self._sock_client.send_record_publish(record)\n",
      "  File \"c:\\Users\\mfaza\\AppData\\Local\\Programs\\Python\\Python311\\Lib\\site-packages\\wandb\\sdk\\lib\\sock_client.py\", line 174, in send_record_publish\n",
      "    self.send_server_request(server_req)\n",
      "  File \"c:\\Users\\mfaza\\AppData\\Local\\Programs\\Python\\Python311\\Lib\\site-packages\\wandb\\sdk\\lib\\sock_client.py\", line 154, in send_server_request\n",
      "    self._send_message(msg)\n",
      "  File \"c:\\Users\\mfaza\\AppData\\Local\\Programs\\Python\\Python311\\Lib\\site-packages\\wandb\\sdk\\lib\\sock_client.py\", line 151, in _send_message\n",
      "    self._sendall_with_error_handle(header + data)\n",
      "  File \"c:\\Users\\mfaza\\AppData\\Local\\Programs\\Python\\Python311\\Lib\\site-packages\\wandb\\sdk\\lib\\sock_client.py\", line 130, in _sendall_with_error_handle\n",
      "    sent = self._sock.send(data)\n",
      "           ^^^^^^^^^^^^^^^^^^^^^\n",
      "ConnectionAbortedError: [WinError 10053] An established connection was aborted by the software in your host machine\n",
      "\u001b[34m\u001b[1mwandb\u001b[0m: Agent Starting Run: 1af65y35 with config:\n",
      "\u001b[34m\u001b[1mwandb\u001b[0m: \tactivation: tanh\n",
      "\u001b[34m\u001b[1mwandb\u001b[0m: \tbatch_size: 16\n",
      "\u001b[34m\u001b[1mwandb\u001b[0m: \tepochs: 10\n",
      "\u001b[34m\u001b[1mwandb\u001b[0m: \thidden_layers: 5\n",
      "\u001b[34m\u001b[1mwandb\u001b[0m: \thidden_size: 32\n",
      "\u001b[34m\u001b[1mwandb\u001b[0m: \tlearning_rate: 0.0001\n",
      "\u001b[34m\u001b[1mwandb\u001b[0m: \toptimizer: momentum\n",
      "\u001b[34m\u001b[1mwandb\u001b[0m: \tweight_decay: 0.0005\n",
      "\u001b[34m\u001b[1mwandb\u001b[0m: \tweight_init: random\n",
      " 10%|█         | 1/10 [00:33<05:03, 33.68s/it]"
     ]
    },
    {
     "name": "stdout",
     "output_type": "stream",
     "text": [
      "Epoch 1/10 - Loss: 1.2817, Accuracy: 0.4554\n",
      "1.281708240354592 0.455426227321238\n"
     ]
    },
    {
     "name": "stderr",
     "output_type": "stream",
     "text": [
      " 20%|██        | 2/10 [01:07<04:29, 33.71s/it]"
     ]
    },
    {
     "name": "stdout",
     "output_type": "stream",
     "text": [
      "Epoch 2/10 - Loss: 1.2845, Accuracy: 0.4601\n",
      "1.2845397771911449 0.46014541088580574\n"
     ]
    },
    {
     "name": "stderr",
     "output_type": "stream",
     "text": [
      " 30%|███       | 3/10 [01:41<03:55, 33.68s/it]"
     ]
    },
    {
     "name": "stdout",
     "output_type": "stream",
     "text": [
      "Epoch 3/10 - Loss: 1.2856, Accuracy: 0.4581\n",
      "1.2855660378309843 0.458110992529349\n"
     ]
    },
    {
     "name": "stderr",
     "output_type": "stream",
     "text": [
      " 40%|████      | 4/10 [02:14<03:21, 33.65s/it]"
     ]
    },
    {
     "name": "stdout",
     "output_type": "stream",
     "text": [
      "Epoch 4/10 - Loss: 1.2841, Accuracy: 0.4547\n",
      "1.2841276926974134 0.45470917822838847\n"
     ]
    },
    {
     "name": "stderr",
     "output_type": "stream",
     "text": [
      " 50%|█████     | 5/10 [02:48<02:48, 33.70s/it]"
     ]
    },
    {
     "name": "stdout",
     "output_type": "stream",
     "text": [
      "Epoch 5/10 - Loss: 1.2837, Accuracy: 0.4485\n",
      "1.2836712340839693 0.44848919423692635\n"
     ]
    },
    {
     "name": "stderr",
     "output_type": "stream",
     "text": [
      " 60%|██████    | 6/10 [03:34<02:31, 37.92s/it]"
     ]
    },
    {
     "name": "stdout",
     "output_type": "stream",
     "text": [
      "Epoch 6/10 - Loss: 1.2863, Accuracy: 0.4469\n",
      "1.2863082291536296 0.4469216915688367\n"
     ]
    },
    {
     "name": "stderr",
     "output_type": "stream",
     "text": [
      " 70%|███████   | 7/10 [04:08<01:49, 36.54s/it]"
     ]
    },
    {
     "name": "stdout",
     "output_type": "stream",
     "text": [
      "Epoch 7/10 - Loss: 1.2864, Accuracy: 0.4458\n",
      "1.2864418633421788 0.44578775346851657\n"
     ]
    },
    {
     "name": "stderr",
     "output_type": "stream",
     "text": [
      " 80%|████████  | 8/10 [04:41<01:11, 35.62s/it]"
     ]
    },
    {
     "name": "stdout",
     "output_type": "stream",
     "text": [
      "Epoch 8/10 - Loss: 1.2860, Accuracy: 0.4453\n",
      "1.2860296881337105 0.4453208377801494\n"
     ]
    },
    {
     "name": "stderr",
     "output_type": "stream",
     "text": [
      " 90%|█████████ | 9/10 [05:13<00:34, 34.47s/it]"
     ]
    },
    {
     "name": "stdout",
     "output_type": "stream",
     "text": [
      "Epoch 9/10 - Loss: 1.2837, Accuracy: 0.4457\n",
      "1.283707575224837 0.4456877001067236\n"
     ]
    },
    {
     "name": "stderr",
     "output_type": "stream",
     "text": [
      "100%|██████████| 10/10 [05:40<00:00, 34.05s/it]"
     ]
    },
    {
     "name": "stdout",
     "output_type": "stream",
     "text": [
      "Epoch 10/10 - Loss: 1.2816, Accuracy: 0.4437\n",
      "1.281628536476563 0.44373665955176095\n"
     ]
    },
    {
     "name": "stderr",
     "output_type": "stream",
     "text": [
      "\n",
      "Exception in thread Thread-115 (_run_job):\n",
      "Traceback (most recent call last):\n",
      "  File \"c:\\Users\\mfaza\\AppData\\Local\\Programs\\Python\\Python311\\Lib\\site-packages\\wandb\\agents\\pyagent.py\", line 307, in _run_job\n",
      "    wandb.finish()\n",
      "  File \"c:\\Users\\mfaza\\AppData\\Local\\Programs\\Python\\Python311\\Lib\\site-packages\\wandb\\sdk\\wandb_run.py\", line 4130, in finish\n",
      "    wandb.run.finish(exit_code=exit_code, quiet=quiet)\n",
      "  File \"c:\\Users\\mfaza\\AppData\\Local\\Programs\\Python\\Python311\\Lib\\site-packages\\wandb\\sdk\\wandb_run.py\", line 449, in wrapper\n",
      "    return func(self, *args, **kwargs)\n",
      "           ^^^^^^^^^^^^^^^^^^^^^^^^^^^\n",
      "  File \"c:\\Users\\mfaza\\AppData\\Local\\Programs\\Python\\Python311\\Lib\\site-packages\\wandb\\sdk\\wandb_run.py\", line 391, in wrapper\n",
      "    return func(self, *args, **kwargs)\n",
      "           ^^^^^^^^^^^^^^^^^^^^^^^^^^^\n",
      "  File \"c:\\Users\\mfaza\\AppData\\Local\\Programs\\Python\\Python311\\Lib\\site-packages\\wandb\\sdk\\wandb_run.py\", line 2106, in finish\n",
      "    return self._finish(exit_code)\n",
      "           ^^^^^^^^^^^^^^^^^^^^^^^\n",
      "  File \"c:\\Users\\mfaza\\AppData\\Local\\Programs\\Python\\Python311\\Lib\\site-packages\\wandb\\sdk\\wandb_run.py\", line 2113, in _finish\n",
      "    with telemetry.context(run=self) as tel:\n",
      "  File \"c:\\Users\\mfaza\\AppData\\Local\\Programs\\Python\\Python311\\Lib\\site-packages\\wandb\\sdk\\lib\\telemetry.py\", line 42, in __exit__\n",
      "    self._run._telemetry_callback(self._obj)\n",
      "  File \"c:\\Users\\mfaza\\AppData\\Local\\Programs\\Python\\Python311\\Lib\\site-packages\\wandb\\sdk\\wandb_run.py\", line 749, in _telemetry_callback\n",
      "    self._telemetry_flush()\n",
      "  File \"c:\\Users\\mfaza\\AppData\\Local\\Programs\\Python\\Python311\\Lib\\site-packages\\wandb\\sdk\\wandb_run.py\", line 762, in _telemetry_flush\n",
      "    self._backend.interface._publish_telemetry(self._telemetry_obj)\n",
      "  File \"c:\\Users\\mfaza\\AppData\\Local\\Programs\\Python\\Python311\\Lib\\site-packages\\wandb\\sdk\\interface\\interface_shared.py\", line 60, in _publish_telemetry\n",
      "    self._publish(rec)\n",
      "  File \"c:\\Users\\mfaza\\AppData\\Local\\Programs\\Python\\Python311\\Lib\\site-packages\\wandb\\sdk\\interface\\interface_sock.py\", line 39, in _publish\n",
      "    self._sock_client.send_record_publish(record)\n",
      "  File \"c:\\Users\\mfaza\\AppData\\Local\\Programs\\Python\\Python311\\Lib\\site-packages\\wandb\\sdk\\lib\\sock_client.py\", line 174, in send_record_publish\n",
      "    self.send_server_request(server_req)\n",
      "  File \"c:\\Users\\mfaza\\AppData\\Local\\Programs\\Python\\Python311\\Lib\\site-packages\\wandb\\sdk\\lib\\sock_client.py\", line 154, in send_server_request\n",
      "    self._send_message(msg)\n",
      "  File \"c:\\Users\\mfaza\\AppData\\Local\\Programs\\Python\\Python311\\Lib\\site-packages\\wandb\\sdk\\lib\\sock_client.py\", line 151, in _send_message\n",
      "    self._sendall_with_error_handle(header + data)\n",
      "  File \"c:\\Users\\mfaza\\AppData\\Local\\Programs\\Python\\Python311\\Lib\\site-packages\\wandb\\sdk\\lib\\sock_client.py\", line 130, in _sendall_with_error_handle\n",
      "    sent = self._sock.send(data)\n",
      "           ^^^^^^^^^^^^^^^^^^^^^\n",
      "ConnectionAbortedError: [WinError 10053] An established connection was aborted by the software in your host machine\n",
      "\n",
      "During handling of the above exception, another exception occurred:\n",
      "\n",
      "Traceback (most recent call last):\n",
      "  File \"c:\\Users\\mfaza\\AppData\\Local\\Programs\\Python\\Python311\\Lib\\threading.py\", line 1038, in _bootstrap_inner\n",
      "    self.run()\n",
      "  File \"C:\\Users\\mfaza\\AppData\\Roaming\\Python\\Python311\\site-packages\\ipykernel\\ipkernel.py\", line 766, in run_closure\n",
      "    _threading_Thread_run(self)\n",
      "  File \"c:\\Users\\mfaza\\AppData\\Local\\Programs\\Python\\Python311\\Lib\\threading.py\", line 975, in run\n",
      "    self._target(*self._args, **self._kwargs)\n",
      "  File \"c:\\Users\\mfaza\\AppData\\Local\\Programs\\Python\\Python311\\Lib\\site-packages\\wandb\\agents\\pyagent.py\", line 311, in _run_job\n",
      "    wandb.finish(exit_code=1)\n",
      "  File \"c:\\Users\\mfaza\\AppData\\Local\\Programs\\Python\\Python311\\Lib\\site-packages\\wandb\\sdk\\wandb_run.py\", line 4130, in finish\n",
      "    wandb.run.finish(exit_code=exit_code, quiet=quiet)\n",
      "  File \"c:\\Users\\mfaza\\AppData\\Local\\Programs\\Python\\Python311\\Lib\\site-packages\\wandb\\sdk\\wandb_run.py\", line 449, in wrapper\n",
      "    return func(self, *args, **kwargs)\n",
      "           ^^^^^^^^^^^^^^^^^^^^^^^^^^^\n",
      "  File \"c:\\Users\\mfaza\\AppData\\Local\\Programs\\Python\\Python311\\Lib\\site-packages\\wandb\\sdk\\wandb_run.py\", line 391, in wrapper\n",
      "    return func(self, *args, **kwargs)\n",
      "           ^^^^^^^^^^^^^^^^^^^^^^^^^^^\n",
      "  File \"c:\\Users\\mfaza\\AppData\\Local\\Programs\\Python\\Python311\\Lib\\site-packages\\wandb\\sdk\\wandb_run.py\", line 2106, in finish\n",
      "    return self._finish(exit_code)\n",
      "           ^^^^^^^^^^^^^^^^^^^^^^^\n",
      "  File \"c:\\Users\\mfaza\\AppData\\Local\\Programs\\Python\\Python311\\Lib\\site-packages\\wandb\\sdk\\wandb_run.py\", line 2113, in _finish\n",
      "    with telemetry.context(run=self) as tel:\n",
      "  File \"c:\\Users\\mfaza\\AppData\\Local\\Programs\\Python\\Python311\\Lib\\site-packages\\wandb\\sdk\\lib\\telemetry.py\", line 42, in __exit__\n",
      "    self._run._telemetry_callback(self._obj)\n",
      "  File \"c:\\Users\\mfaza\\AppData\\Local\\Programs\\Python\\Python311\\Lib\\site-packages\\wandb\\sdk\\wandb_run.py\", line 749, in _telemetry_callback\n",
      "    self._telemetry_flush()\n",
      "  File \"c:\\Users\\mfaza\\AppData\\Local\\Programs\\Python\\Python311\\Lib\\site-packages\\wandb\\sdk\\wandb_run.py\", line 762, in _telemetry_flush\n",
      "    self._backend.interface._publish_telemetry(self._telemetry_obj)\n",
      "  File \"c:\\Users\\mfaza\\AppData\\Local\\Programs\\Python\\Python311\\Lib\\site-packages\\wandb\\sdk\\interface\\interface_shared.py\", line 60, in _publish_telemetry\n",
      "    self._publish(rec)\n",
      "  File \"c:\\Users\\mfaza\\AppData\\Local\\Programs\\Python\\Python311\\Lib\\site-packages\\wandb\\sdk\\interface\\interface_sock.py\", line 39, in _publish\n",
      "    self._sock_client.send_record_publish(record)\n",
      "  File \"c:\\Users\\mfaza\\AppData\\Local\\Programs\\Python\\Python311\\Lib\\site-packages\\wandb\\sdk\\lib\\sock_client.py\", line 174, in send_record_publish\n",
      "    self.send_server_request(server_req)\n",
      "  File \"c:\\Users\\mfaza\\AppData\\Local\\Programs\\Python\\Python311\\Lib\\site-packages\\wandb\\sdk\\lib\\sock_client.py\", line 154, in send_server_request\n",
      "    self._send_message(msg)\n",
      "  File \"c:\\Users\\mfaza\\AppData\\Local\\Programs\\Python\\Python311\\Lib\\site-packages\\wandb\\sdk\\lib\\sock_client.py\", line 151, in _send_message\n",
      "    self._sendall_with_error_handle(header + data)\n",
      "  File \"c:\\Users\\mfaza\\AppData\\Local\\Programs\\Python\\Python311\\Lib\\site-packages\\wandb\\sdk\\lib\\sock_client.py\", line 130, in _sendall_with_error_handle\n",
      "    sent = self._sock.send(data)\n",
      "           ^^^^^^^^^^^^^^^^^^^^^\n",
      "ConnectionAbortedError: [WinError 10053] An established connection was aborted by the software in your host machine\n",
      "\u001b[34m\u001b[1mwandb\u001b[0m: Agent Starting Run: 60tas9vs with config:\n",
      "\u001b[34m\u001b[1mwandb\u001b[0m: \tactivation: sigmoid\n",
      "\u001b[34m\u001b[1mwandb\u001b[0m: \tbatch_size: 16\n",
      "\u001b[34m\u001b[1mwandb\u001b[0m: \tepochs: 10\n",
      "\u001b[34m\u001b[1mwandb\u001b[0m: \thidden_layers: 5\n",
      "\u001b[34m\u001b[1mwandb\u001b[0m: \thidden_size: 128\n",
      "\u001b[34m\u001b[1mwandb\u001b[0m: \tlearning_rate: 0.001\n",
      "\u001b[34m\u001b[1mwandb\u001b[0m: \toptimizer: sgd\n",
      "\u001b[34m\u001b[1mwandb\u001b[0m: \tweight_decay: 0\n",
      "\u001b[34m\u001b[1mwandb\u001b[0m: \tweight_init: random\n",
      " 10%|█         | 1/10 [00:31<04:47, 31.98s/it]"
     ]
    },
    {
     "name": "stdout",
     "output_type": "stream",
     "text": [
      "Epoch 1/10 - Loss: 1.2783, Accuracy: 0.4413\n",
      "1.2783414221230252 0.44133537886873\n"
     ]
    },
    {
     "name": "stderr",
     "output_type": "stream",
     "text": [
      " 20%|██        | 2/10 [00:54<03:30, 26.31s/it]"
     ]
    },
    {
     "name": "stdout",
     "output_type": "stream",
     "text": [
      "Epoch 2/10 - Loss: 1.2775, Accuracy: 0.4408\n",
      "1.2775170614028661 0.4407517342582711\n"
     ]
    },
    {
     "name": "stderr",
     "output_type": "stream",
     "text": [
      " 30%|███       | 3/10 [01:28<03:28, 29.75s/it]"
     ]
    },
    {
     "name": "stdout",
     "output_type": "stream",
     "text": [
      "Epoch 3/10 - Loss: 1.2763, Accuracy: 0.4379\n",
      "1.2763241929104627 0.43790021344717184\n"
     ]
    },
    {
     "name": "stderr",
     "output_type": "stream",
     "text": [
      " 40%|████      | 4/10 [01:53<02:47, 27.99s/it]"
     ]
    },
    {
     "name": "stdout",
     "output_type": "stream",
     "text": [
      "Epoch 4/10 - Loss: 1.2745, Accuracy: 0.4399\n",
      "1.2745218568642267 0.4398679295624333\n"
     ]
    },
    {
     "name": "stderr",
     "output_type": "stream",
     "text": [
      " 50%|█████     | 5/10 [02:07<01:53, 22.78s/it]"
     ]
    },
    {
     "name": "stdout",
     "output_type": "stream",
     "text": [
      "Epoch 5/10 - Loss: 1.3179, Accuracy: 0.4387\n",
      "1.3179162705493621 0.43865061366061897\n"
     ]
    },
    {
     "name": "stderr",
     "output_type": "stream",
     "text": [
      " 60%|██████    | 6/10 [02:24<01:23, 20.87s/it]"
     ]
    },
    {
     "name": "stdout",
     "output_type": "stream",
     "text": [
      "Epoch 6/10 - Loss: 1.3116, Accuracy: 0.4374\n",
      "1.3116084748394952 0.4374332977588047\n"
     ]
    },
    {
     "name": "stderr",
     "output_type": "stream",
     "text": [
      " 70%|███████   | 7/10 [02:40<00:58, 19.50s/it]"
     ]
    },
    {
     "name": "stdout",
     "output_type": "stream",
     "text": [
      "Epoch 7/10 - Loss: 1.2922, Accuracy: 0.4443\n",
      "1.292205841715973 0.44427027748132336\n"
     ]
    },
    {
     "name": "stderr",
     "output_type": "stream",
     "text": [
      " 80%|████████  | 8/10 [02:56<00:36, 18.36s/it]"
     ]
    },
    {
     "name": "stdout",
     "output_type": "stream",
     "text": [
      "Epoch 8/10 - Loss: 1.2840, Accuracy: 0.4477\n",
      "1.2840148940124279 0.44770544290288156\n"
     ]
    },
    {
     "name": "stderr",
     "output_type": "stream",
     "text": [
      " 90%|█████████ | 9/10 [03:11<00:17, 17.20s/it]"
     ]
    },
    {
     "name": "stdout",
     "output_type": "stream",
     "text": [
      "Epoch 9/10 - Loss: 1.2785, Accuracy: 0.4516\n",
      "1.2785156838824219 0.4515741728922092\n"
     ]
    },
    {
     "name": "stderr",
     "output_type": "stream",
     "text": [
      "100%|██████████| 10/10 [03:25<00:00, 20.56s/it]"
     ]
    },
    {
     "name": "stdout",
     "output_type": "stream",
     "text": [
      "Epoch 10/10 - Loss: 1.2711, Accuracy: 0.4567\n",
      "1.2711303498993067 0.45669356990394877\n"
     ]
    },
    {
     "name": "stderr",
     "output_type": "stream",
     "text": [
      "\n",
      "Exception in thread Thread-116 (_run_job):\n",
      "Traceback (most recent call last):\n",
      "  File \"c:\\Users\\mfaza\\AppData\\Local\\Programs\\Python\\Python311\\Lib\\site-packages\\wandb\\agents\\pyagent.py\", line 307, in _run_job\n",
      "    wandb.finish()\n",
      "  File \"c:\\Users\\mfaza\\AppData\\Local\\Programs\\Python\\Python311\\Lib\\site-packages\\wandb\\sdk\\wandb_run.py\", line 4130, in finish\n",
      "    wandb.run.finish(exit_code=exit_code, quiet=quiet)\n",
      "  File \"c:\\Users\\mfaza\\AppData\\Local\\Programs\\Python\\Python311\\Lib\\site-packages\\wandb\\sdk\\wandb_run.py\", line 449, in wrapper\n",
      "    return func(self, *args, **kwargs)\n",
      "           ^^^^^^^^^^^^^^^^^^^^^^^^^^^\n",
      "  File \"c:\\Users\\mfaza\\AppData\\Local\\Programs\\Python\\Python311\\Lib\\site-packages\\wandb\\sdk\\wandb_run.py\", line 391, in wrapper\n",
      "    return func(self, *args, **kwargs)\n",
      "           ^^^^^^^^^^^^^^^^^^^^^^^^^^^\n",
      "  File \"c:\\Users\\mfaza\\AppData\\Local\\Programs\\Python\\Python311\\Lib\\site-packages\\wandb\\sdk\\wandb_run.py\", line 2106, in finish\n",
      "    return self._finish(exit_code)\n",
      "           ^^^^^^^^^^^^^^^^^^^^^^^\n",
      "  File \"c:\\Users\\mfaza\\AppData\\Local\\Programs\\Python\\Python311\\Lib\\site-packages\\wandb\\sdk\\wandb_run.py\", line 2113, in _finish\n",
      "    with telemetry.context(run=self) as tel:\n",
      "  File \"c:\\Users\\mfaza\\AppData\\Local\\Programs\\Python\\Python311\\Lib\\site-packages\\wandb\\sdk\\lib\\telemetry.py\", line 42, in __exit__\n",
      "    self._run._telemetry_callback(self._obj)\n",
      "  File \"c:\\Users\\mfaza\\AppData\\Local\\Programs\\Python\\Python311\\Lib\\site-packages\\wandb\\sdk\\wandb_run.py\", line 749, in _telemetry_callback\n",
      "    self._telemetry_flush()\n",
      "  File \"c:\\Users\\mfaza\\AppData\\Local\\Programs\\Python\\Python311\\Lib\\site-packages\\wandb\\sdk\\wandb_run.py\", line 762, in _telemetry_flush\n",
      "    self._backend.interface._publish_telemetry(self._telemetry_obj)\n",
      "  File \"c:\\Users\\mfaza\\AppData\\Local\\Programs\\Python\\Python311\\Lib\\site-packages\\wandb\\sdk\\interface\\interface_shared.py\", line 60, in _publish_telemetry\n",
      "    self._publish(rec)\n",
      "  File \"c:\\Users\\mfaza\\AppData\\Local\\Programs\\Python\\Python311\\Lib\\site-packages\\wandb\\sdk\\interface\\interface_sock.py\", line 39, in _publish\n",
      "    self._sock_client.send_record_publish(record)\n",
      "  File \"c:\\Users\\mfaza\\AppData\\Local\\Programs\\Python\\Python311\\Lib\\site-packages\\wandb\\sdk\\lib\\sock_client.py\", line 174, in send_record_publish\n",
      "    self.send_server_request(server_req)\n",
      "  File \"c:\\Users\\mfaza\\AppData\\Local\\Programs\\Python\\Python311\\Lib\\site-packages\\wandb\\sdk\\lib\\sock_client.py\", line 154, in send_server_request\n",
      "    self._send_message(msg)\n",
      "  File \"c:\\Users\\mfaza\\AppData\\Local\\Programs\\Python\\Python311\\Lib\\site-packages\\wandb\\sdk\\lib\\sock_client.py\", line 151, in _send_message\n",
      "    self._sendall_with_error_handle(header + data)\n",
      "  File \"c:\\Users\\mfaza\\AppData\\Local\\Programs\\Python\\Python311\\Lib\\site-packages\\wandb\\sdk\\lib\\sock_client.py\", line 130, in _sendall_with_error_handle\n",
      "    sent = self._sock.send(data)\n",
      "           ^^^^^^^^^^^^^^^^^^^^^\n",
      "ConnectionAbortedError: [WinError 10053] An established connection was aborted by the software in your host machine\n",
      "\n",
      "During handling of the above exception, another exception occurred:\n",
      "\n",
      "Traceback (most recent call last):\n",
      "  File \"c:\\Users\\mfaza\\AppData\\Local\\Programs\\Python\\Python311\\Lib\\threading.py\", line 1038, in _bootstrap_inner\n",
      "    self.run()\n",
      "  File \"C:\\Users\\mfaza\\AppData\\Roaming\\Python\\Python311\\site-packages\\ipykernel\\ipkernel.py\", line 766, in run_closure\n",
      "    _threading_Thread_run(self)\n",
      "  File \"c:\\Users\\mfaza\\AppData\\Local\\Programs\\Python\\Python311\\Lib\\threading.py\", line 975, in run\n",
      "    self._target(*self._args, **self._kwargs)\n",
      "  File \"c:\\Users\\mfaza\\AppData\\Local\\Programs\\Python\\Python311\\Lib\\site-packages\\wandb\\agents\\pyagent.py\", line 311, in _run_job\n",
      "    wandb.finish(exit_code=1)\n",
      "  File \"c:\\Users\\mfaza\\AppData\\Local\\Programs\\Python\\Python311\\Lib\\site-packages\\wandb\\sdk\\wandb_run.py\", line 4130, in finish\n",
      "    wandb.run.finish(exit_code=exit_code, quiet=quiet)\n",
      "  File \"c:\\Users\\mfaza\\AppData\\Local\\Programs\\Python\\Python311\\Lib\\site-packages\\wandb\\sdk\\wandb_run.py\", line 449, in wrapper\n",
      "    return func(self, *args, **kwargs)\n",
      "           ^^^^^^^^^^^^^^^^^^^^^^^^^^^\n",
      "  File \"c:\\Users\\mfaza\\AppData\\Local\\Programs\\Python\\Python311\\Lib\\site-packages\\wandb\\sdk\\wandb_run.py\", line 391, in wrapper\n",
      "    return func(self, *args, **kwargs)\n",
      "           ^^^^^^^^^^^^^^^^^^^^^^^^^^^\n",
      "  File \"c:\\Users\\mfaza\\AppData\\Local\\Programs\\Python\\Python311\\Lib\\site-packages\\wandb\\sdk\\wandb_run.py\", line 2106, in finish\n",
      "    return self._finish(exit_code)\n",
      "           ^^^^^^^^^^^^^^^^^^^^^^^\n",
      "  File \"c:\\Users\\mfaza\\AppData\\Local\\Programs\\Python\\Python311\\Lib\\site-packages\\wandb\\sdk\\wandb_run.py\", line 2113, in _finish\n",
      "    with telemetry.context(run=self) as tel:\n",
      "  File \"c:\\Users\\mfaza\\AppData\\Local\\Programs\\Python\\Python311\\Lib\\site-packages\\wandb\\sdk\\lib\\telemetry.py\", line 42, in __exit__\n",
      "    self._run._telemetry_callback(self._obj)\n",
      "  File \"c:\\Users\\mfaza\\AppData\\Local\\Programs\\Python\\Python311\\Lib\\site-packages\\wandb\\sdk\\wandb_run.py\", line 749, in _telemetry_callback\n",
      "    self._telemetry_flush()\n",
      "  File \"c:\\Users\\mfaza\\AppData\\Local\\Programs\\Python\\Python311\\Lib\\site-packages\\wandb\\sdk\\wandb_run.py\", line 762, in _telemetry_flush\n",
      "    self._backend.interface._publish_telemetry(self._telemetry_obj)\n",
      "  File \"c:\\Users\\mfaza\\AppData\\Local\\Programs\\Python\\Python311\\Lib\\site-packages\\wandb\\sdk\\interface\\interface_shared.py\", line 60, in _publish_telemetry\n",
      "    self._publish(rec)\n",
      "  File \"c:\\Users\\mfaza\\AppData\\Local\\Programs\\Python\\Python311\\Lib\\site-packages\\wandb\\sdk\\interface\\interface_sock.py\", line 39, in _publish\n",
      "    self._sock_client.send_record_publish(record)\n",
      "  File \"c:\\Users\\mfaza\\AppData\\Local\\Programs\\Python\\Python311\\Lib\\site-packages\\wandb\\sdk\\lib\\sock_client.py\", line 174, in send_record_publish\n",
      "    self.send_server_request(server_req)\n",
      "  File \"c:\\Users\\mfaza\\AppData\\Local\\Programs\\Python\\Python311\\Lib\\site-packages\\wandb\\sdk\\lib\\sock_client.py\", line 154, in send_server_request\n",
      "    self._send_message(msg)\n",
      "  File \"c:\\Users\\mfaza\\AppData\\Local\\Programs\\Python\\Python311\\Lib\\site-packages\\wandb\\sdk\\lib\\sock_client.py\", line 151, in _send_message\n",
      "    self._sendall_with_error_handle(header + data)\n",
      "  File \"c:\\Users\\mfaza\\AppData\\Local\\Programs\\Python\\Python311\\Lib\\site-packages\\wandb\\sdk\\lib\\sock_client.py\", line 130, in _sendall_with_error_handle\n",
      "    sent = self._sock.send(data)\n",
      "           ^^^^^^^^^^^^^^^^^^^^^\n",
      "ConnectionAbortedError: [WinError 10053] An established connection was aborted by the software in your host machine\n",
      "\u001b[34m\u001b[1mwandb\u001b[0m: Sweep Agent: Waiting for job.\n",
      "\u001b[34m\u001b[1mwandb\u001b[0m: Job received.\n",
      "\u001b[34m\u001b[1mwandb\u001b[0m: Agent Starting Run: fa8ruyi9 with config:\n",
      "\u001b[34m\u001b[1mwandb\u001b[0m: \tactivation: sigmoid\n",
      "\u001b[34m\u001b[1mwandb\u001b[0m: \tbatch_size: 16\n",
      "\u001b[34m\u001b[1mwandb\u001b[0m: \tepochs: 10\n",
      "\u001b[34m\u001b[1mwandb\u001b[0m: \thidden_layers: 5\n",
      "\u001b[34m\u001b[1mwandb\u001b[0m: \thidden_size: 128\n",
      "\u001b[34m\u001b[1mwandb\u001b[0m: \tlearning_rate: 0.001\n",
      "\u001b[34m\u001b[1mwandb\u001b[0m: \toptimizer: rmsprop\n",
      "\u001b[34m\u001b[1mwandb\u001b[0m: \tweight_decay: 0\n",
      "\u001b[34m\u001b[1mwandb\u001b[0m: \tweight_init: random\n",
      " 10%|█         | 1/10 [00:13<02:04, 13.85s/it]"
     ]
    },
    {
     "name": "stdout",
     "output_type": "stream",
     "text": [
      "Epoch 1/10 - Loss: 1.2667, Accuracy: 0.4621\n",
      "1.2666556651501757 0.4621131270010672\n"
     ]
    },
    {
     "name": "stderr",
     "output_type": "stream",
     "text": [
      " 20%|██        | 2/10 [00:27<01:50, 13.85s/it]"
     ]
    },
    {
     "name": "stdout",
     "output_type": "stream",
     "text": [
      "Epoch 2/10 - Loss: 1.2619, Accuracy: 0.4665\n",
      "1.2618805760677756 0.46646544823906083\n"
     ]
    },
    {
     "name": "stderr",
     "output_type": "stream",
     "text": [
      " 30%|███       | 3/10 [00:41<01:37, 13.91s/it]"
     ]
    },
    {
     "name": "stdout",
     "output_type": "stream",
     "text": [
      "Epoch 3/10 - Loss: 1.2579, Accuracy: 0.4691\n",
      "1.2579360813995148 0.46910018676627535\n"
     ]
    },
    {
     "name": "stderr",
     "output_type": "stream",
     "text": [
      " 40%|████      | 4/10 [00:56<01:26, 14.41s/it]"
     ]
    },
    {
     "name": "stdout",
     "output_type": "stream",
     "text": [
      "Epoch 4/10 - Loss: 1.2575, Accuracy: 0.4707\n",
      "1.257537019580279 0.470667689434365\n"
     ]
    },
    {
     "name": "stderr",
     "output_type": "stream",
     "text": [
      " 50%|█████     | 5/10 [01:13<01:16, 15.22s/it]"
     ]
    },
    {
     "name": "stdout",
     "output_type": "stream",
     "text": [
      "Epoch 5/10 - Loss: 1.2565, Accuracy: 0.4716\n",
      "1.2564626012746472 0.4716348719316969\n"
     ]
    },
    {
     "name": "stderr",
     "output_type": "stream",
     "text": [
      " 60%|██████    | 6/10 [01:28<01:01, 15.30s/it]"
     ]
    },
    {
     "name": "stdout",
     "output_type": "stream",
     "text": [
      "Epoch 6/10 - Loss: 1.2668, Accuracy: 0.4751\n",
      "1.2667590891791327 0.4751033884738527\n"
     ]
    },
    {
     "name": "stderr",
     "output_type": "stream",
     "text": [
      " 70%|███████   | 7/10 [01:45<00:46, 15.66s/it]"
     ]
    },
    {
     "name": "stdout",
     "output_type": "stream",
     "text": [
      "Epoch 7/10 - Loss: 1.2690, Accuracy: 0.4764\n",
      "1.269016159273678 0.4764040821771611\n"
     ]
    },
    {
     "name": "stderr",
     "output_type": "stream",
     "text": [
      " 80%|████████  | 8/10 [02:00<00:30, 15.36s/it]"
     ]
    },
    {
     "name": "stdout",
     "output_type": "stream",
     "text": [
      "Epoch 8/10 - Loss: 1.2698, Accuracy: 0.4765\n",
      "1.2698307480954458 0.47652081109925293\n"
     ]
    },
    {
     "name": "stderr",
     "output_type": "stream",
     "text": [
      " 90%|█████████ | 9/10 [02:14<00:15, 15.21s/it]"
     ]
    },
    {
     "name": "stdout",
     "output_type": "stream",
     "text": [
      "Epoch 9/10 - Loss: 1.2708, Accuracy: 0.4758\n",
      "1.270826873871255 0.47578708644610457\n"
     ]
    },
    {
     "name": "stderr",
     "output_type": "stream",
     "text": [
      "100%|██████████| 10/10 [02:30<00:00, 15.00s/it]"
     ]
    },
    {
     "name": "stdout",
     "output_type": "stream",
     "text": [
      "Epoch 10/10 - Loss: 1.2737, Accuracy: 0.4741\n",
      "1.2736661110960836 0.474119530416222\n"
     ]
    },
    {
     "name": "stderr",
     "output_type": "stream",
     "text": [
      "\n",
      "Exception in thread Thread-117 (_run_job):\n",
      "Traceback (most recent call last):\n",
      "  File \"c:\\Users\\mfaza\\AppData\\Local\\Programs\\Python\\Python311\\Lib\\site-packages\\wandb\\agents\\pyagent.py\", line 307, in _run_job\n",
      "    wandb.finish()\n",
      "  File \"c:\\Users\\mfaza\\AppData\\Local\\Programs\\Python\\Python311\\Lib\\site-packages\\wandb\\sdk\\wandb_run.py\", line 4130, in finish\n",
      "    wandb.run.finish(exit_code=exit_code, quiet=quiet)\n",
      "  File \"c:\\Users\\mfaza\\AppData\\Local\\Programs\\Python\\Python311\\Lib\\site-packages\\wandb\\sdk\\wandb_run.py\", line 449, in wrapper\n",
      "    return func(self, *args, **kwargs)\n",
      "           ^^^^^^^^^^^^^^^^^^^^^^^^^^^\n",
      "  File \"c:\\Users\\mfaza\\AppData\\Local\\Programs\\Python\\Python311\\Lib\\site-packages\\wandb\\sdk\\wandb_run.py\", line 391, in wrapper\n",
      "    return func(self, *args, **kwargs)\n",
      "           ^^^^^^^^^^^^^^^^^^^^^^^^^^^\n",
      "  File \"c:\\Users\\mfaza\\AppData\\Local\\Programs\\Python\\Python311\\Lib\\site-packages\\wandb\\sdk\\wandb_run.py\", line 2106, in finish\n",
      "    return self._finish(exit_code)\n",
      "           ^^^^^^^^^^^^^^^^^^^^^^^\n",
      "  File \"c:\\Users\\mfaza\\AppData\\Local\\Programs\\Python\\Python311\\Lib\\site-packages\\wandb\\sdk\\wandb_run.py\", line 2113, in _finish\n",
      "    with telemetry.context(run=self) as tel:\n",
      "  File \"c:\\Users\\mfaza\\AppData\\Local\\Programs\\Python\\Python311\\Lib\\site-packages\\wandb\\sdk\\lib\\telemetry.py\", line 42, in __exit__\n",
      "    self._run._telemetry_callback(self._obj)\n",
      "  File \"c:\\Users\\mfaza\\AppData\\Local\\Programs\\Python\\Python311\\Lib\\site-packages\\wandb\\sdk\\wandb_run.py\", line 749, in _telemetry_callback\n",
      "    self._telemetry_flush()\n",
      "  File \"c:\\Users\\mfaza\\AppData\\Local\\Programs\\Python\\Python311\\Lib\\site-packages\\wandb\\sdk\\wandb_run.py\", line 762, in _telemetry_flush\n",
      "    self._backend.interface._publish_telemetry(self._telemetry_obj)\n",
      "  File \"c:\\Users\\mfaza\\AppData\\Local\\Programs\\Python\\Python311\\Lib\\site-packages\\wandb\\sdk\\interface\\interface_shared.py\", line 60, in _publish_telemetry\n",
      "    self._publish(rec)\n",
      "  File \"c:\\Users\\mfaza\\AppData\\Local\\Programs\\Python\\Python311\\Lib\\site-packages\\wandb\\sdk\\interface\\interface_sock.py\", line 39, in _publish\n",
      "    self._sock_client.send_record_publish(record)\n",
      "  File \"c:\\Users\\mfaza\\AppData\\Local\\Programs\\Python\\Python311\\Lib\\site-packages\\wandb\\sdk\\lib\\sock_client.py\", line 174, in send_record_publish\n",
      "    self.send_server_request(server_req)\n",
      "  File \"c:\\Users\\mfaza\\AppData\\Local\\Programs\\Python\\Python311\\Lib\\site-packages\\wandb\\sdk\\lib\\sock_client.py\", line 154, in send_server_request\n",
      "    self._send_message(msg)\n",
      "  File \"c:\\Users\\mfaza\\AppData\\Local\\Programs\\Python\\Python311\\Lib\\site-packages\\wandb\\sdk\\lib\\sock_client.py\", line 151, in _send_message\n",
      "    self._sendall_with_error_handle(header + data)\n",
      "  File \"c:\\Users\\mfaza\\AppData\\Local\\Programs\\Python\\Python311\\Lib\\site-packages\\wandb\\sdk\\lib\\sock_client.py\", line 130, in _sendall_with_error_handle\n",
      "    sent = self._sock.send(data)\n",
      "           ^^^^^^^^^^^^^^^^^^^^^\n",
      "ConnectionAbortedError: [WinError 10053] An established connection was aborted by the software in your host machine\n",
      "\n",
      "During handling of the above exception, another exception occurred:\n",
      "\n",
      "Traceback (most recent call last):\n",
      "  File \"c:\\Users\\mfaza\\AppData\\Local\\Programs\\Python\\Python311\\Lib\\threading.py\", line 1038, in _bootstrap_inner\n",
      "    self.run()\n",
      "  File \"C:\\Users\\mfaza\\AppData\\Roaming\\Python\\Python311\\site-packages\\ipykernel\\ipkernel.py\", line 766, in run_closure\n",
      "    _threading_Thread_run(self)\n",
      "  File \"c:\\Users\\mfaza\\AppData\\Local\\Programs\\Python\\Python311\\Lib\\threading.py\", line 975, in run\n",
      "    self._target(*self._args, **self._kwargs)\n",
      "  File \"c:\\Users\\mfaza\\AppData\\Local\\Programs\\Python\\Python311\\Lib\\site-packages\\wandb\\agents\\pyagent.py\", line 311, in _run_job\n",
      "    wandb.finish(exit_code=1)\n",
      "  File \"c:\\Users\\mfaza\\AppData\\Local\\Programs\\Python\\Python311\\Lib\\site-packages\\wandb\\sdk\\wandb_run.py\", line 4130, in finish\n",
      "    wandb.run.finish(exit_code=exit_code, quiet=quiet)\n",
      "  File \"c:\\Users\\mfaza\\AppData\\Local\\Programs\\Python\\Python311\\Lib\\site-packages\\wandb\\sdk\\wandb_run.py\", line 449, in wrapper\n",
      "    return func(self, *args, **kwargs)\n",
      "           ^^^^^^^^^^^^^^^^^^^^^^^^^^^\n",
      "  File \"c:\\Users\\mfaza\\AppData\\Local\\Programs\\Python\\Python311\\Lib\\site-packages\\wandb\\sdk\\wandb_run.py\", line 391, in wrapper\n",
      "    return func(self, *args, **kwargs)\n",
      "           ^^^^^^^^^^^^^^^^^^^^^^^^^^^\n",
      "  File \"c:\\Users\\mfaza\\AppData\\Local\\Programs\\Python\\Python311\\Lib\\site-packages\\wandb\\sdk\\wandb_run.py\", line 2106, in finish\n",
      "    return self._finish(exit_code)\n",
      "           ^^^^^^^^^^^^^^^^^^^^^^^\n",
      "  File \"c:\\Users\\mfaza\\AppData\\Local\\Programs\\Python\\Python311\\Lib\\site-packages\\wandb\\sdk\\wandb_run.py\", line 2113, in _finish\n",
      "    with telemetry.context(run=self) as tel:\n",
      "  File \"c:\\Users\\mfaza\\AppData\\Local\\Programs\\Python\\Python311\\Lib\\site-packages\\wandb\\sdk\\lib\\telemetry.py\", line 42, in __exit__\n",
      "    self._run._telemetry_callback(self._obj)\n",
      "  File \"c:\\Users\\mfaza\\AppData\\Local\\Programs\\Python\\Python311\\Lib\\site-packages\\wandb\\sdk\\wandb_run.py\", line 749, in _telemetry_callback\n",
      "    self._telemetry_flush()\n",
      "  File \"c:\\Users\\mfaza\\AppData\\Local\\Programs\\Python\\Python311\\Lib\\site-packages\\wandb\\sdk\\wandb_run.py\", line 762, in _telemetry_flush\n",
      "    self._backend.interface._publish_telemetry(self._telemetry_obj)\n",
      "  File \"c:\\Users\\mfaza\\AppData\\Local\\Programs\\Python\\Python311\\Lib\\site-packages\\wandb\\sdk\\interface\\interface_shared.py\", line 60, in _publish_telemetry\n",
      "    self._publish(rec)\n",
      "  File \"c:\\Users\\mfaza\\AppData\\Local\\Programs\\Python\\Python311\\Lib\\site-packages\\wandb\\sdk\\interface\\interface_sock.py\", line 39, in _publish\n",
      "    self._sock_client.send_record_publish(record)\n",
      "  File \"c:\\Users\\mfaza\\AppData\\Local\\Programs\\Python\\Python311\\Lib\\site-packages\\wandb\\sdk\\lib\\sock_client.py\", line 174, in send_record_publish\n",
      "    self.send_server_request(server_req)\n",
      "  File \"c:\\Users\\mfaza\\AppData\\Local\\Programs\\Python\\Python311\\Lib\\site-packages\\wandb\\sdk\\lib\\sock_client.py\", line 154, in send_server_request\n",
      "    self._send_message(msg)\n",
      "  File \"c:\\Users\\mfaza\\AppData\\Local\\Programs\\Python\\Python311\\Lib\\site-packages\\wandb\\sdk\\lib\\sock_client.py\", line 151, in _send_message\n",
      "    self._sendall_with_error_handle(header + data)\n",
      "  File \"c:\\Users\\mfaza\\AppData\\Local\\Programs\\Python\\Python311\\Lib\\site-packages\\wandb\\sdk\\lib\\sock_client.py\", line 130, in _sendall_with_error_handle\n",
      "    sent = self._sock.send(data)\n",
      "           ^^^^^^^^^^^^^^^^^^^^^\n",
      "ConnectionAbortedError: [WinError 10053] An established connection was aborted by the software in your host machine\n",
      "\u001b[34m\u001b[1mwandb\u001b[0m: Agent Starting Run: xw15elvc with config:\n",
      "\u001b[34m\u001b[1mwandb\u001b[0m: \tactivation: tanh\n",
      "\u001b[34m\u001b[1mwandb\u001b[0m: \tbatch_size: 16\n",
      "\u001b[34m\u001b[1mwandb\u001b[0m: \tepochs: 5\n",
      "\u001b[34m\u001b[1mwandb\u001b[0m: \thidden_layers: 5\n",
      "\u001b[34m\u001b[1mwandb\u001b[0m: \thidden_size: 64\n",
      "\u001b[34m\u001b[1mwandb\u001b[0m: \tlearning_rate: 0.001\n",
      "\u001b[34m\u001b[1mwandb\u001b[0m: \toptimizer: rmsprop\n",
      "\u001b[34m\u001b[1mwandb\u001b[0m: \tweight_decay: 0\n",
      "\u001b[34m\u001b[1mwandb\u001b[0m: \tweight_init: random\n",
      " 10%|█         | 1/10 [00:14<02:13, 14.88s/it]"
     ]
    },
    {
     "name": "stdout",
     "output_type": "stream",
     "text": [
      "Epoch 1/10 - Loss: 1.2770, Accuracy: 0.4724\n",
      "1.2769877369222133 0.4723852721451441\n"
     ]
    },
    {
     "name": "stderr",
     "output_type": "stream",
     "text": [
      " 20%|██        | 2/10 [00:32<02:11, 16.40s/it]"
     ]
    },
    {
     "name": "stdout",
     "output_type": "stream",
     "text": [
      "Epoch 2/10 - Loss: 1.2801, Accuracy: 0.4706\n",
      "1.2800712811645187 0.470567636072572\n"
     ]
    },
    {
     "name": "stderr",
     "output_type": "stream",
     "text": [
      " 30%|███       | 3/10 [00:48<01:53, 16.22s/it]"
     ]
    },
    {
     "name": "stdout",
     "output_type": "stream",
     "text": [
      "Epoch 3/10 - Loss: 1.2834, Accuracy: 0.4689\n",
      "1.2834254303552424 0.46893343116328706\n"
     ]
    },
    {
     "name": "stderr",
     "output_type": "stream",
     "text": [
      " 40%|████      | 4/10 [01:03<01:34, 15.70s/it]"
     ]
    },
    {
     "name": "stdout",
     "output_type": "stream",
     "text": [
      "Epoch 4/10 - Loss: 1.2875, Accuracy: 0.4671\n",
      "1.2875465053198905 0.4670824439701174\n"
     ]
    },
    {
     "name": "stderr",
     "output_type": "stream",
     "text": [
      " 50%|█████     | 5/10 [01:18<01:16, 15.37s/it]"
     ]
    },
    {
     "name": "stdout",
     "output_type": "stream",
     "text": [
      "Epoch 5/10 - Loss: 1.2910, Accuracy: 0.4655\n",
      "1.2909748762936135 0.4654815901814301\n"
     ]
    },
    {
     "name": "stderr",
     "output_type": "stream",
     "text": [
      " 60%|██████    | 6/10 [01:32<01:00, 15.08s/it]"
     ]
    },
    {
     "name": "stdout",
     "output_type": "stream",
     "text": [
      "Epoch 6/10 - Loss: 1.2961, Accuracy: 0.4632\n",
      "1.2961488353190995 0.4632303895410886\n"
     ]
    },
    {
     "name": "stderr",
     "output_type": "stream",
     "text": [
      " 70%|███████   | 7/10 [01:47<00:44, 14.99s/it]"
     ]
    },
    {
     "name": "stdout",
     "output_type": "stream",
     "text": [
      "Epoch 7/10 - Loss: 1.3008, Accuracy: 0.4614\n",
      "1.300796805611811 0.46142942902881534\n"
     ]
    },
    {
     "name": "stderr",
     "output_type": "stream",
     "text": [
      " 80%|████████  | 8/10 [02:01<00:29, 14.61s/it]"
     ]
    },
    {
     "name": "stdout",
     "output_type": "stream",
     "text": [
      "Epoch 8/10 - Loss: 1.3081, Accuracy: 0.4504\n",
      "1.3080526558350378 0.4503902081109925\n"
     ]
    },
    {
     "name": "stderr",
     "output_type": "stream",
     "text": [
      " 90%|█████████ | 9/10 [02:18<00:15, 15.38s/it]"
     ]
    },
    {
     "name": "stdout",
     "output_type": "stream",
     "text": [
      "Epoch 9/10 - Loss: 1.3138, Accuracy: 0.4444\n",
      "1.3138438576917624 0.44443703308431165\n"
     ]
    },
    {
     "name": "stderr",
     "output_type": "stream",
     "text": [
      "100%|██████████| 10/10 [02:33<00:00, 15.37s/it]"
     ]
    },
    {
     "name": "stdout",
     "output_type": "stream",
     "text": [
      "Epoch 10/10 - Loss: 1.3174, Accuracy: 0.4418\n",
      "1.3173774741235242 0.44181897011739596\n"
     ]
    },
    {
     "name": "stderr",
     "output_type": "stream",
     "text": [
      "\n",
      "Exception in thread Thread-118 (_run_job):\n",
      "Traceback (most recent call last):\n",
      "  File \"c:\\Users\\mfaza\\AppData\\Local\\Programs\\Python\\Python311\\Lib\\site-packages\\wandb\\agents\\pyagent.py\", line 307, in _run_job\n",
      "    wandb.finish()\n",
      "  File \"c:\\Users\\mfaza\\AppData\\Local\\Programs\\Python\\Python311\\Lib\\site-packages\\wandb\\sdk\\wandb_run.py\", line 4130, in finish\n",
      "    wandb.run.finish(exit_code=exit_code, quiet=quiet)\n",
      "  File \"c:\\Users\\mfaza\\AppData\\Local\\Programs\\Python\\Python311\\Lib\\site-packages\\wandb\\sdk\\wandb_run.py\", line 449, in wrapper\n",
      "    return func(self, *args, **kwargs)\n",
      "           ^^^^^^^^^^^^^^^^^^^^^^^^^^^\n",
      "  File \"c:\\Users\\mfaza\\AppData\\Local\\Programs\\Python\\Python311\\Lib\\site-packages\\wandb\\sdk\\wandb_run.py\", line 391, in wrapper\n",
      "    return func(self, *args, **kwargs)\n",
      "           ^^^^^^^^^^^^^^^^^^^^^^^^^^^\n",
      "  File \"c:\\Users\\mfaza\\AppData\\Local\\Programs\\Python\\Python311\\Lib\\site-packages\\wandb\\sdk\\wandb_run.py\", line 2106, in finish\n",
      "    return self._finish(exit_code)\n",
      "           ^^^^^^^^^^^^^^^^^^^^^^^\n",
      "  File \"c:\\Users\\mfaza\\AppData\\Local\\Programs\\Python\\Python311\\Lib\\site-packages\\wandb\\sdk\\wandb_run.py\", line 2113, in _finish\n",
      "    with telemetry.context(run=self) as tel:\n",
      "  File \"c:\\Users\\mfaza\\AppData\\Local\\Programs\\Python\\Python311\\Lib\\site-packages\\wandb\\sdk\\lib\\telemetry.py\", line 42, in __exit__\n",
      "    self._run._telemetry_callback(self._obj)\n",
      "  File \"c:\\Users\\mfaza\\AppData\\Local\\Programs\\Python\\Python311\\Lib\\site-packages\\wandb\\sdk\\wandb_run.py\", line 749, in _telemetry_callback\n",
      "    self._telemetry_flush()\n",
      "  File \"c:\\Users\\mfaza\\AppData\\Local\\Programs\\Python\\Python311\\Lib\\site-packages\\wandb\\sdk\\wandb_run.py\", line 762, in _telemetry_flush\n",
      "    self._backend.interface._publish_telemetry(self._telemetry_obj)\n",
      "  File \"c:\\Users\\mfaza\\AppData\\Local\\Programs\\Python\\Python311\\Lib\\site-packages\\wandb\\sdk\\interface\\interface_shared.py\", line 60, in _publish_telemetry\n",
      "    self._publish(rec)\n",
      "  File \"c:\\Users\\mfaza\\AppData\\Local\\Programs\\Python\\Python311\\Lib\\site-packages\\wandb\\sdk\\interface\\interface_sock.py\", line 39, in _publish\n",
      "    self._sock_client.send_record_publish(record)\n",
      "  File \"c:\\Users\\mfaza\\AppData\\Local\\Programs\\Python\\Python311\\Lib\\site-packages\\wandb\\sdk\\lib\\sock_client.py\", line 174, in send_record_publish\n",
      "    self.send_server_request(server_req)\n",
      "  File \"c:\\Users\\mfaza\\AppData\\Local\\Programs\\Python\\Python311\\Lib\\site-packages\\wandb\\sdk\\lib\\sock_client.py\", line 154, in send_server_request\n",
      "    self._send_message(msg)\n",
      "  File \"c:\\Users\\mfaza\\AppData\\Local\\Programs\\Python\\Python311\\Lib\\site-packages\\wandb\\sdk\\lib\\sock_client.py\", line 151, in _send_message\n",
      "    self._sendall_with_error_handle(header + data)\n",
      "  File \"c:\\Users\\mfaza\\AppData\\Local\\Programs\\Python\\Python311\\Lib\\site-packages\\wandb\\sdk\\lib\\sock_client.py\", line 130, in _sendall_with_error_handle\n",
      "    sent = self._sock.send(data)\n",
      "           ^^^^^^^^^^^^^^^^^^^^^\n",
      "ConnectionAbortedError: [WinError 10053] An established connection was aborted by the software in your host machine\n",
      "\n",
      "During handling of the above exception, another exception occurred:\n",
      "\n",
      "Traceback (most recent call last):\n",
      "  File \"c:\\Users\\mfaza\\AppData\\Local\\Programs\\Python\\Python311\\Lib\\threading.py\", line 1038, in _bootstrap_inner\n",
      "    self.run()\n",
      "  File \"C:\\Users\\mfaza\\AppData\\Roaming\\Python\\Python311\\site-packages\\ipykernel\\ipkernel.py\", line 766, in run_closure\n",
      "    _threading_Thread_run(self)\n",
      "  File \"c:\\Users\\mfaza\\AppData\\Local\\Programs\\Python\\Python311\\Lib\\threading.py\", line 975, in run\n",
      "    self._target(*self._args, **self._kwargs)\n",
      "  File \"c:\\Users\\mfaza\\AppData\\Local\\Programs\\Python\\Python311\\Lib\\site-packages\\wandb\\agents\\pyagent.py\", line 311, in _run_job\n",
      "    wandb.finish(exit_code=1)\n",
      "  File \"c:\\Users\\mfaza\\AppData\\Local\\Programs\\Python\\Python311\\Lib\\site-packages\\wandb\\sdk\\wandb_run.py\", line 4130, in finish\n",
      "    wandb.run.finish(exit_code=exit_code, quiet=quiet)\n",
      "  File \"c:\\Users\\mfaza\\AppData\\Local\\Programs\\Python\\Python311\\Lib\\site-packages\\wandb\\sdk\\wandb_run.py\", line 449, in wrapper\n",
      "    return func(self, *args, **kwargs)\n",
      "           ^^^^^^^^^^^^^^^^^^^^^^^^^^^\n",
      "  File \"c:\\Users\\mfaza\\AppData\\Local\\Programs\\Python\\Python311\\Lib\\site-packages\\wandb\\sdk\\wandb_run.py\", line 391, in wrapper\n",
      "    return func(self, *args, **kwargs)\n",
      "           ^^^^^^^^^^^^^^^^^^^^^^^^^^^\n",
      "  File \"c:\\Users\\mfaza\\AppData\\Local\\Programs\\Python\\Python311\\Lib\\site-packages\\wandb\\sdk\\wandb_run.py\", line 2106, in finish\n",
      "    return self._finish(exit_code)\n",
      "           ^^^^^^^^^^^^^^^^^^^^^^^\n",
      "  File \"c:\\Users\\mfaza\\AppData\\Local\\Programs\\Python\\Python311\\Lib\\site-packages\\wandb\\sdk\\wandb_run.py\", line 2113, in _finish\n",
      "    with telemetry.context(run=self) as tel:\n",
      "  File \"c:\\Users\\mfaza\\AppData\\Local\\Programs\\Python\\Python311\\Lib\\site-packages\\wandb\\sdk\\lib\\telemetry.py\", line 42, in __exit__\n",
      "    self._run._telemetry_callback(self._obj)\n",
      "  File \"c:\\Users\\mfaza\\AppData\\Local\\Programs\\Python\\Python311\\Lib\\site-packages\\wandb\\sdk\\wandb_run.py\", line 749, in _telemetry_callback\n",
      "    self._telemetry_flush()\n",
      "  File \"c:\\Users\\mfaza\\AppData\\Local\\Programs\\Python\\Python311\\Lib\\site-packages\\wandb\\sdk\\wandb_run.py\", line 762, in _telemetry_flush\n",
      "    self._backend.interface._publish_telemetry(self._telemetry_obj)\n",
      "  File \"c:\\Users\\mfaza\\AppData\\Local\\Programs\\Python\\Python311\\Lib\\site-packages\\wandb\\sdk\\interface\\interface_shared.py\", line 60, in _publish_telemetry\n",
      "    self._publish(rec)\n",
      "  File \"c:\\Users\\mfaza\\AppData\\Local\\Programs\\Python\\Python311\\Lib\\site-packages\\wandb\\sdk\\interface\\interface_sock.py\", line 39, in _publish\n",
      "    self._sock_client.send_record_publish(record)\n",
      "  File \"c:\\Users\\mfaza\\AppData\\Local\\Programs\\Python\\Python311\\Lib\\site-packages\\wandb\\sdk\\lib\\sock_client.py\", line 174, in send_record_publish\n",
      "    self.send_server_request(server_req)\n",
      "  File \"c:\\Users\\mfaza\\AppData\\Local\\Programs\\Python\\Python311\\Lib\\site-packages\\wandb\\sdk\\lib\\sock_client.py\", line 154, in send_server_request\n",
      "    self._send_message(msg)\n",
      "  File \"c:\\Users\\mfaza\\AppData\\Local\\Programs\\Python\\Python311\\Lib\\site-packages\\wandb\\sdk\\lib\\sock_client.py\", line 151, in _send_message\n",
      "    self._sendall_with_error_handle(header + data)\n",
      "  File \"c:\\Users\\mfaza\\AppData\\Local\\Programs\\Python\\Python311\\Lib\\site-packages\\wandb\\sdk\\lib\\sock_client.py\", line 130, in _sendall_with_error_handle\n",
      "    sent = self._sock.send(data)\n",
      "           ^^^^^^^^^^^^^^^^^^^^^\n",
      "ConnectionAbortedError: [WinError 10053] An established connection was aborted by the software in your host machine\n",
      "\u001b[34m\u001b[1mwandb\u001b[0m: Agent Starting Run: b73za1oo with config:\n",
      "\u001b[34m\u001b[1mwandb\u001b[0m: \tactivation: ReLU\n",
      "\u001b[34m\u001b[1mwandb\u001b[0m: \tbatch_size: 32\n",
      "\u001b[34m\u001b[1mwandb\u001b[0m: \tepochs: 5\n",
      "\u001b[34m\u001b[1mwandb\u001b[0m: \thidden_layers: 3\n",
      "\u001b[34m\u001b[1mwandb\u001b[0m: \thidden_size: 128\n",
      "\u001b[34m\u001b[1mwandb\u001b[0m: \tlearning_rate: 0.0001\n",
      "\u001b[34m\u001b[1mwandb\u001b[0m: \toptimizer: sgd\n",
      "\u001b[34m\u001b[1mwandb\u001b[0m: \tweight_decay: 0.0005\n",
      "\u001b[34m\u001b[1mwandb\u001b[0m: \tweight_init: random\n",
      " 10%|█         | 1/10 [00:13<02:05, 13.90s/it]"
     ]
    },
    {
     "name": "stdout",
     "output_type": "stream",
     "text": [
      "Epoch 1/10 - Loss: 1.3195, Accuracy: 0.4390\n",
      "1.3195356076978009 0.4389841248665955\n"
     ]
    },
    {
     "name": "stderr",
     "output_type": "stream",
     "text": [
      " 20%|██        | 2/10 [00:27<01:51, 13.93s/it]"
     ]
    },
    {
     "name": "stdout",
     "output_type": "stream",
     "text": [
      "Epoch 2/10 - Loss: 1.3218, Accuracy: 0.4372\n",
      "1.321767861692417 0.4372331910352188\n"
     ]
    },
    {
     "name": "stderr",
     "output_type": "stream",
     "text": [
      " 30%|███       | 3/10 [00:42<01:38, 14.08s/it]"
     ]
    },
    {
     "name": "stdout",
     "output_type": "stream",
     "text": [
      "Epoch 3/10 - Loss: 1.3246, Accuracy: 0.4356\n",
      "1.3245788380438228 0.43561566168623267\n"
     ]
    },
    {
     "name": "stderr",
     "output_type": "stream",
     "text": [
      " 40%|████      | 4/10 [00:55<01:23, 13.92s/it]"
     ]
    },
    {
     "name": "stdout",
     "output_type": "stream",
     "text": [
      "Epoch 4/10 - Loss: 1.3267, Accuracy: 0.4333\n",
      "1.3266602285477849 0.43331443436499467\n"
     ]
    },
    {
     "name": "stderr",
     "output_type": "stream",
     "text": [
      " 50%|█████     | 5/10 [01:09<01:09, 13.86s/it]"
     ]
    },
    {
     "name": "stdout",
     "output_type": "stream",
     "text": [
      "Epoch 5/10 - Loss: 1.3290, Accuracy: 0.4322\n",
      "1.3289886909637485 0.43221384738527213\n"
     ]
    },
    {
     "name": "stderr",
     "output_type": "stream",
     "text": [
      " 60%|██████    | 6/10 [01:23<00:55, 13.79s/it]"
     ]
    },
    {
     "name": "stdout",
     "output_type": "stream",
     "text": [
      "Epoch 6/10 - Loss: 1.3322, Accuracy: 0.4353\n",
      "1.3321660834787994 0.43528215048025615\n"
     ]
    },
    {
     "name": "stderr",
     "output_type": "stream",
     "text": [
      " 70%|███████   | 7/10 [01:39<00:43, 14.47s/it]"
     ]
    },
    {
     "name": "stdout",
     "output_type": "stream",
     "text": [
      "Epoch 7/10 - Loss: 1.3355, Accuracy: 0.4381\n",
      "1.3354936531759694 0.43811699573105656\n"
     ]
    },
    {
     "name": "stderr",
     "output_type": "stream",
     "text": [
      " 80%|████████  | 8/10 [01:54<00:29, 14.75s/it]"
     ]
    },
    {
     "name": "stdout",
     "output_type": "stream",
     "text": [
      "Epoch 8/10 - Loss: 1.3376, Accuracy: 0.4384\n",
      "1.3375517140147657 0.4383504535752401\n"
     ]
    },
    {
     "name": "stderr",
     "output_type": "stream",
     "text": [
      " 90%|█████████ | 9/10 [02:09<00:14, 14.92s/it]"
     ]
    },
    {
     "name": "stdout",
     "output_type": "stream",
     "text": [
      "Epoch 9/10 - Loss: 1.3400, Accuracy: 0.4390\n",
      "1.3400204716914637 0.43901747598719315\n"
     ]
    },
    {
     "name": "stderr",
     "output_type": "stream",
     "text": [
      "100%|██████████| 10/10 [02:24<00:00, 14.44s/it]"
     ]
    },
    {
     "name": "stdout",
     "output_type": "stream",
     "text": [
      "Epoch 10/10 - Loss: 1.3404, Accuracy: 0.4391\n",
      "1.3403717667362203 0.43908417822838847\n"
     ]
    },
    {
     "name": "stderr",
     "output_type": "stream",
     "text": [
      "\n",
      "Exception in thread Thread-119 (_run_job):\n",
      "Traceback (most recent call last):\n",
      "  File \"c:\\Users\\mfaza\\AppData\\Local\\Programs\\Python\\Python311\\Lib\\site-packages\\wandb\\agents\\pyagent.py\", line 307, in _run_job\n",
      "    wandb.finish()\n",
      "  File \"c:\\Users\\mfaza\\AppData\\Local\\Programs\\Python\\Python311\\Lib\\site-packages\\wandb\\sdk\\wandb_run.py\", line 4130, in finish\n",
      "    wandb.run.finish(exit_code=exit_code, quiet=quiet)\n",
      "  File \"c:\\Users\\mfaza\\AppData\\Local\\Programs\\Python\\Python311\\Lib\\site-packages\\wandb\\sdk\\wandb_run.py\", line 449, in wrapper\n",
      "    return func(self, *args, **kwargs)\n",
      "           ^^^^^^^^^^^^^^^^^^^^^^^^^^^\n",
      "  File \"c:\\Users\\mfaza\\AppData\\Local\\Programs\\Python\\Python311\\Lib\\site-packages\\wandb\\sdk\\wandb_run.py\", line 391, in wrapper\n",
      "    return func(self, *args, **kwargs)\n",
      "           ^^^^^^^^^^^^^^^^^^^^^^^^^^^\n",
      "  File \"c:\\Users\\mfaza\\AppData\\Local\\Programs\\Python\\Python311\\Lib\\site-packages\\wandb\\sdk\\wandb_run.py\", line 2106, in finish\n",
      "    return self._finish(exit_code)\n",
      "           ^^^^^^^^^^^^^^^^^^^^^^^\n",
      "  File \"c:\\Users\\mfaza\\AppData\\Local\\Programs\\Python\\Python311\\Lib\\site-packages\\wandb\\sdk\\wandb_run.py\", line 2113, in _finish\n",
      "    with telemetry.context(run=self) as tel:\n",
      "  File \"c:\\Users\\mfaza\\AppData\\Local\\Programs\\Python\\Python311\\Lib\\site-packages\\wandb\\sdk\\lib\\telemetry.py\", line 42, in __exit__\n",
      "    self._run._telemetry_callback(self._obj)\n",
      "  File \"c:\\Users\\mfaza\\AppData\\Local\\Programs\\Python\\Python311\\Lib\\site-packages\\wandb\\sdk\\wandb_run.py\", line 749, in _telemetry_callback\n",
      "    self._telemetry_flush()\n",
      "  File \"c:\\Users\\mfaza\\AppData\\Local\\Programs\\Python\\Python311\\Lib\\site-packages\\wandb\\sdk\\wandb_run.py\", line 762, in _telemetry_flush\n",
      "    self._backend.interface._publish_telemetry(self._telemetry_obj)\n",
      "  File \"c:\\Users\\mfaza\\AppData\\Local\\Programs\\Python\\Python311\\Lib\\site-packages\\wandb\\sdk\\interface\\interface_shared.py\", line 60, in _publish_telemetry\n",
      "    self._publish(rec)\n",
      "  File \"c:\\Users\\mfaza\\AppData\\Local\\Programs\\Python\\Python311\\Lib\\site-packages\\wandb\\sdk\\interface\\interface_sock.py\", line 39, in _publish\n",
      "    self._sock_client.send_record_publish(record)\n",
      "  File \"c:\\Users\\mfaza\\AppData\\Local\\Programs\\Python\\Python311\\Lib\\site-packages\\wandb\\sdk\\lib\\sock_client.py\", line 174, in send_record_publish\n",
      "    self.send_server_request(server_req)\n",
      "  File \"c:\\Users\\mfaza\\AppData\\Local\\Programs\\Python\\Python311\\Lib\\site-packages\\wandb\\sdk\\lib\\sock_client.py\", line 154, in send_server_request\n",
      "    self._send_message(msg)\n",
      "  File \"c:\\Users\\mfaza\\AppData\\Local\\Programs\\Python\\Python311\\Lib\\site-packages\\wandb\\sdk\\lib\\sock_client.py\", line 151, in _send_message\n",
      "    self._sendall_with_error_handle(header + data)\n",
      "  File \"c:\\Users\\mfaza\\AppData\\Local\\Programs\\Python\\Python311\\Lib\\site-packages\\wandb\\sdk\\lib\\sock_client.py\", line 130, in _sendall_with_error_handle\n",
      "    sent = self._sock.send(data)\n",
      "           ^^^^^^^^^^^^^^^^^^^^^\n",
      "ConnectionAbortedError: [WinError 10053] An established connection was aborted by the software in your host machine\n",
      "\n",
      "During handling of the above exception, another exception occurred:\n",
      "\n",
      "Traceback (most recent call last):\n",
      "  File \"c:\\Users\\mfaza\\AppData\\Local\\Programs\\Python\\Python311\\Lib\\threading.py\", line 1038, in _bootstrap_inner\n",
      "    self.run()\n",
      "  File \"C:\\Users\\mfaza\\AppData\\Roaming\\Python\\Python311\\site-packages\\ipykernel\\ipkernel.py\", line 766, in run_closure\n",
      "    _threading_Thread_run(self)\n",
      "  File \"c:\\Users\\mfaza\\AppData\\Local\\Programs\\Python\\Python311\\Lib\\threading.py\", line 975, in run\n",
      "    self._target(*self._args, **self._kwargs)\n",
      "  File \"c:\\Users\\mfaza\\AppData\\Local\\Programs\\Python\\Python311\\Lib\\site-packages\\wandb\\agents\\pyagent.py\", line 311, in _run_job\n",
      "    wandb.finish(exit_code=1)\n",
      "  File \"c:\\Users\\mfaza\\AppData\\Local\\Programs\\Python\\Python311\\Lib\\site-packages\\wandb\\sdk\\wandb_run.py\", line 4130, in finish\n",
      "    wandb.run.finish(exit_code=exit_code, quiet=quiet)\n",
      "  File \"c:\\Users\\mfaza\\AppData\\Local\\Programs\\Python\\Python311\\Lib\\site-packages\\wandb\\sdk\\wandb_run.py\", line 449, in wrapper\n",
      "    return func(self, *args, **kwargs)\n",
      "           ^^^^^^^^^^^^^^^^^^^^^^^^^^^\n",
      "  File \"c:\\Users\\mfaza\\AppData\\Local\\Programs\\Python\\Python311\\Lib\\site-packages\\wandb\\sdk\\wandb_run.py\", line 391, in wrapper\n",
      "    return func(self, *args, **kwargs)\n",
      "           ^^^^^^^^^^^^^^^^^^^^^^^^^^^\n",
      "  File \"c:\\Users\\mfaza\\AppData\\Local\\Programs\\Python\\Python311\\Lib\\site-packages\\wandb\\sdk\\wandb_run.py\", line 2106, in finish\n",
      "    return self._finish(exit_code)\n",
      "           ^^^^^^^^^^^^^^^^^^^^^^^\n",
      "  File \"c:\\Users\\mfaza\\AppData\\Local\\Programs\\Python\\Python311\\Lib\\site-packages\\wandb\\sdk\\wandb_run.py\", line 2113, in _finish\n",
      "    with telemetry.context(run=self) as tel:\n",
      "  File \"c:\\Users\\mfaza\\AppData\\Local\\Programs\\Python\\Python311\\Lib\\site-packages\\wandb\\sdk\\lib\\telemetry.py\", line 42, in __exit__\n",
      "    self._run._telemetry_callback(self._obj)\n",
      "  File \"c:\\Users\\mfaza\\AppData\\Local\\Programs\\Python\\Python311\\Lib\\site-packages\\wandb\\sdk\\wandb_run.py\", line 749, in _telemetry_callback\n",
      "    self._telemetry_flush()\n",
      "  File \"c:\\Users\\mfaza\\AppData\\Local\\Programs\\Python\\Python311\\Lib\\site-packages\\wandb\\sdk\\wandb_run.py\", line 762, in _telemetry_flush\n",
      "    self._backend.interface._publish_telemetry(self._telemetry_obj)\n",
      "  File \"c:\\Users\\mfaza\\AppData\\Local\\Programs\\Python\\Python311\\Lib\\site-packages\\wandb\\sdk\\interface\\interface_shared.py\", line 60, in _publish_telemetry\n",
      "    self._publish(rec)\n",
      "  File \"c:\\Users\\mfaza\\AppData\\Local\\Programs\\Python\\Python311\\Lib\\site-packages\\wandb\\sdk\\interface\\interface_sock.py\", line 39, in _publish\n",
      "    self._sock_client.send_record_publish(record)\n",
      "  File \"c:\\Users\\mfaza\\AppData\\Local\\Programs\\Python\\Python311\\Lib\\site-packages\\wandb\\sdk\\lib\\sock_client.py\", line 174, in send_record_publish\n",
      "    self.send_server_request(server_req)\n",
      "  File \"c:\\Users\\mfaza\\AppData\\Local\\Programs\\Python\\Python311\\Lib\\site-packages\\wandb\\sdk\\lib\\sock_client.py\", line 154, in send_server_request\n",
      "    self._send_message(msg)\n",
      "  File \"c:\\Users\\mfaza\\AppData\\Local\\Programs\\Python\\Python311\\Lib\\site-packages\\wandb\\sdk\\lib\\sock_client.py\", line 151, in _send_message\n",
      "    self._sendall_with_error_handle(header + data)\n",
      "  File \"c:\\Users\\mfaza\\AppData\\Local\\Programs\\Python\\Python311\\Lib\\site-packages\\wandb\\sdk\\lib\\sock_client.py\", line 130, in _sendall_with_error_handle\n",
      "    sent = self._sock.send(data)\n",
      "           ^^^^^^^^^^^^^^^^^^^^^\n",
      "ConnectionAbortedError: [WinError 10053] An established connection was aborted by the software in your host machine\n",
      "\u001b[34m\u001b[1mwandb\u001b[0m: Agent Starting Run: ofojjf0r with config:\n",
      "\u001b[34m\u001b[1mwandb\u001b[0m: \tactivation: ReLU\n",
      "\u001b[34m\u001b[1mwandb\u001b[0m: \tbatch_size: 32\n",
      "\u001b[34m\u001b[1mwandb\u001b[0m: \tepochs: 10\n",
      "\u001b[34m\u001b[1mwandb\u001b[0m: \thidden_layers: 3\n",
      "\u001b[34m\u001b[1mwandb\u001b[0m: \thidden_size: 128\n",
      "\u001b[34m\u001b[1mwandb\u001b[0m: \tlearning_rate: 0.0001\n",
      "\u001b[34m\u001b[1mwandb\u001b[0m: \toptimizer: adam\n",
      "\u001b[34m\u001b[1mwandb\u001b[0m: \tweight_decay: 0.0005\n",
      "\u001b[34m\u001b[1mwandb\u001b[0m: \tweight_init: random\n",
      " 10%|█         | 1/10 [00:15<02:22, 15.85s/it]"
     ]
    },
    {
     "name": "stdout",
     "output_type": "stream",
     "text": [
      "Epoch 1/10 - Loss: 1.3382, Accuracy: 0.4421\n",
      "1.3382114156041403 0.44213580576307365\n"
     ]
    },
    {
     "name": "stderr",
     "output_type": "stream",
     "text": [
      " 20%|██        | 2/10 [04:06<18:55, 141.93s/it]"
     ]
    },
    {
     "name": "stdout",
     "output_type": "stream",
     "text": [
      "Epoch 2/10 - Loss: 1.3376, Accuracy: 0.4445\n",
      "1.3376033274962424 0.4444537086446105\n"
     ]
    },
    {
     "name": "stderr",
     "output_type": "stream",
     "text": [
      " 30%|███       | 3/10 [04:26<10:04, 86.37s/it] "
     ]
    },
    {
     "name": "stdout",
     "output_type": "stream",
     "text": [
      "Epoch 3/10 - Loss: 1.3335, Accuracy: 0.4493\n",
      "1.333522500750827 0.4492729455709712\n"
     ]
    },
    {
     "name": "stderr",
     "output_type": "stream",
     "text": [
      " 40%|████      | 4/10 [04:46<06:01, 60.19s/it]"
     ]
    },
    {
     "name": "stdout",
     "output_type": "stream",
     "text": [
      "Epoch 4/10 - Loss: 1.3271, Accuracy: 0.4530\n",
      "1.3271146459269707 0.45304162219850586\n"
     ]
    },
    {
     "name": "stderr",
     "output_type": "stream",
     "text": [
      " 50%|█████     | 5/10 [05:05<03:47, 45.45s/it]"
     ]
    },
    {
     "name": "stdout",
     "output_type": "stream",
     "text": [
      "Epoch 5/10 - Loss: 1.3148, Accuracy: 0.4591\n",
      "1.3147837223709995 0.4591282017075774\n"
     ]
    },
    {
     "name": "stderr",
     "output_type": "stream",
     "text": [
      " 60%|██████    | 6/10 [05:19<02:19, 34.84s/it]"
     ]
    },
    {
     "name": "stdout",
     "output_type": "stream",
     "text": [
      "Epoch 6/10 - Loss: 1.3153, Accuracy: 0.4607\n",
      "1.3153420084802845 0.4607290554962647\n"
     ]
    },
    {
     "name": "stderr",
     "output_type": "stream",
     "text": [
      " 70%|███████   | 7/10 [05:33<01:23, 27.93s/it]"
     ]
    },
    {
     "name": "stdout",
     "output_type": "stream",
     "text": [
      "Epoch 7/10 - Loss: 1.3195, Accuracy: 0.4612\n",
      "1.3195059292329796 0.46116262006403413\n"
     ]
    },
    {
     "name": "stderr",
     "output_type": "stream",
     "text": [
      " 80%|████████  | 8/10 [05:47<00:46, 23.44s/it]"
     ]
    },
    {
     "name": "stdout",
     "output_type": "stream",
     "text": [
      "Epoch 8/10 - Loss: 1.3055, Accuracy: 0.4710\n",
      "1.3055375665298954 0.470951173959445\n"
     ]
    },
    {
     "name": "stderr",
     "output_type": "stream",
     "text": [
      " 90%|█████████ | 9/10 [06:00<00:20, 20.27s/it]"
     ]
    },
    {
     "name": "stdout",
     "output_type": "stream",
     "text": [
      "Epoch 9/10 - Loss: 1.2900, Accuracy: 0.4762\n",
      "1.2900125798007975 0.4762373265741729\n"
     ]
    },
    {
     "name": "stderr",
     "output_type": "stream",
     "text": [
      "100%|██████████| 10/10 [06:15<00:00, 37.54s/it]"
     ]
    },
    {
     "name": "stdout",
     "output_type": "stream",
     "text": [
      "Epoch 10/10 - Loss: 1.2741, Accuracy: 0.4732\n",
      "1.2741263830917011 0.4731856990394877\n"
     ]
    },
    {
     "name": "stderr",
     "output_type": "stream",
     "text": [
      "\n",
      "Exception in thread Thread-120 (_run_job):\n",
      "Traceback (most recent call last):\n",
      "  File \"c:\\Users\\mfaza\\AppData\\Local\\Programs\\Python\\Python311\\Lib\\site-packages\\wandb\\agents\\pyagent.py\", line 307, in _run_job\n",
      "    wandb.finish()\n",
      "  File \"c:\\Users\\mfaza\\AppData\\Local\\Programs\\Python\\Python311\\Lib\\site-packages\\wandb\\sdk\\wandb_run.py\", line 4130, in finish\n",
      "    wandb.run.finish(exit_code=exit_code, quiet=quiet)\n",
      "  File \"c:\\Users\\mfaza\\AppData\\Local\\Programs\\Python\\Python311\\Lib\\site-packages\\wandb\\sdk\\wandb_run.py\", line 449, in wrapper\n",
      "    return func(self, *args, **kwargs)\n",
      "           ^^^^^^^^^^^^^^^^^^^^^^^^^^^\n",
      "  File \"c:\\Users\\mfaza\\AppData\\Local\\Programs\\Python\\Python311\\Lib\\site-packages\\wandb\\sdk\\wandb_run.py\", line 391, in wrapper\n",
      "    return func(self, *args, **kwargs)\n",
      "           ^^^^^^^^^^^^^^^^^^^^^^^^^^^\n",
      "  File \"c:\\Users\\mfaza\\AppData\\Local\\Programs\\Python\\Python311\\Lib\\site-packages\\wandb\\sdk\\wandb_run.py\", line 2106, in finish\n",
      "    return self._finish(exit_code)\n",
      "           ^^^^^^^^^^^^^^^^^^^^^^^\n",
      "  File \"c:\\Users\\mfaza\\AppData\\Local\\Programs\\Python\\Python311\\Lib\\site-packages\\wandb\\sdk\\wandb_run.py\", line 2113, in _finish\n",
      "    with telemetry.context(run=self) as tel:\n",
      "  File \"c:\\Users\\mfaza\\AppData\\Local\\Programs\\Python\\Python311\\Lib\\site-packages\\wandb\\sdk\\lib\\telemetry.py\", line 42, in __exit__\n",
      "    self._run._telemetry_callback(self._obj)\n",
      "  File \"c:\\Users\\mfaza\\AppData\\Local\\Programs\\Python\\Python311\\Lib\\site-packages\\wandb\\sdk\\wandb_run.py\", line 749, in _telemetry_callback\n",
      "    self._telemetry_flush()\n",
      "  File \"c:\\Users\\mfaza\\AppData\\Local\\Programs\\Python\\Python311\\Lib\\site-packages\\wandb\\sdk\\wandb_run.py\", line 762, in _telemetry_flush\n",
      "    self._backend.interface._publish_telemetry(self._telemetry_obj)\n",
      "  File \"c:\\Users\\mfaza\\AppData\\Local\\Programs\\Python\\Python311\\Lib\\site-packages\\wandb\\sdk\\interface\\interface_shared.py\", line 60, in _publish_telemetry\n",
      "    self._publish(rec)\n",
      "  File \"c:\\Users\\mfaza\\AppData\\Local\\Programs\\Python\\Python311\\Lib\\site-packages\\wandb\\sdk\\interface\\interface_sock.py\", line 39, in _publish\n",
      "    self._sock_client.send_record_publish(record)\n",
      "  File \"c:\\Users\\mfaza\\AppData\\Local\\Programs\\Python\\Python311\\Lib\\site-packages\\wandb\\sdk\\lib\\sock_client.py\", line 174, in send_record_publish\n",
      "    self.send_server_request(server_req)\n",
      "  File \"c:\\Users\\mfaza\\AppData\\Local\\Programs\\Python\\Python311\\Lib\\site-packages\\wandb\\sdk\\lib\\sock_client.py\", line 154, in send_server_request\n",
      "    self._send_message(msg)\n",
      "  File \"c:\\Users\\mfaza\\AppData\\Local\\Programs\\Python\\Python311\\Lib\\site-packages\\wandb\\sdk\\lib\\sock_client.py\", line 151, in _send_message\n",
      "    self._sendall_with_error_handle(header + data)\n",
      "  File \"c:\\Users\\mfaza\\AppData\\Local\\Programs\\Python\\Python311\\Lib\\site-packages\\wandb\\sdk\\lib\\sock_client.py\", line 130, in _sendall_with_error_handle\n",
      "    sent = self._sock.send(data)\n",
      "           ^^^^^^^^^^^^^^^^^^^^^\n",
      "ConnectionAbortedError: [WinError 10053] An established connection was aborted by the software in your host machine\n",
      "\n",
      "During handling of the above exception, another exception occurred:\n",
      "\n",
      "Traceback (most recent call last):\n",
      "  File \"c:\\Users\\mfaza\\AppData\\Local\\Programs\\Python\\Python311\\Lib\\threading.py\", line 1038, in _bootstrap_inner\n",
      "    self.run()\n",
      "  File \"C:\\Users\\mfaza\\AppData\\Roaming\\Python\\Python311\\site-packages\\ipykernel\\ipkernel.py\", line 766, in run_closure\n",
      "    _threading_Thread_run(self)\n",
      "  File \"c:\\Users\\mfaza\\AppData\\Local\\Programs\\Python\\Python311\\Lib\\threading.py\", line 975, in run\n",
      "    self._target(*self._args, **self._kwargs)\n",
      "  File \"c:\\Users\\mfaza\\AppData\\Local\\Programs\\Python\\Python311\\Lib\\site-packages\\wandb\\agents\\pyagent.py\", line 311, in _run_job\n",
      "    wandb.finish(exit_code=1)\n",
      "  File \"c:\\Users\\mfaza\\AppData\\Local\\Programs\\Python\\Python311\\Lib\\site-packages\\wandb\\sdk\\wandb_run.py\", line 4130, in finish\n",
      "    wandb.run.finish(exit_code=exit_code, quiet=quiet)\n",
      "  File \"c:\\Users\\mfaza\\AppData\\Local\\Programs\\Python\\Python311\\Lib\\site-packages\\wandb\\sdk\\wandb_run.py\", line 449, in wrapper\n",
      "    return func(self, *args, **kwargs)\n",
      "           ^^^^^^^^^^^^^^^^^^^^^^^^^^^\n",
      "  File \"c:\\Users\\mfaza\\AppData\\Local\\Programs\\Python\\Python311\\Lib\\site-packages\\wandb\\sdk\\wandb_run.py\", line 391, in wrapper\n",
      "    return func(self, *args, **kwargs)\n",
      "           ^^^^^^^^^^^^^^^^^^^^^^^^^^^\n",
      "  File \"c:\\Users\\mfaza\\AppData\\Local\\Programs\\Python\\Python311\\Lib\\site-packages\\wandb\\sdk\\wandb_run.py\", line 2106, in finish\n",
      "    return self._finish(exit_code)\n",
      "           ^^^^^^^^^^^^^^^^^^^^^^^\n",
      "  File \"c:\\Users\\mfaza\\AppData\\Local\\Programs\\Python\\Python311\\Lib\\site-packages\\wandb\\sdk\\wandb_run.py\", line 2113, in _finish\n",
      "    with telemetry.context(run=self) as tel:\n",
      "  File \"c:\\Users\\mfaza\\AppData\\Local\\Programs\\Python\\Python311\\Lib\\site-packages\\wandb\\sdk\\lib\\telemetry.py\", line 42, in __exit__\n",
      "    self._run._telemetry_callback(self._obj)\n",
      "  File \"c:\\Users\\mfaza\\AppData\\Local\\Programs\\Python\\Python311\\Lib\\site-packages\\wandb\\sdk\\wandb_run.py\", line 749, in _telemetry_callback\n",
      "    self._telemetry_flush()\n",
      "  File \"c:\\Users\\mfaza\\AppData\\Local\\Programs\\Python\\Python311\\Lib\\site-packages\\wandb\\sdk\\wandb_run.py\", line 762, in _telemetry_flush\n",
      "    self._backend.interface._publish_telemetry(self._telemetry_obj)\n",
      "  File \"c:\\Users\\mfaza\\AppData\\Local\\Programs\\Python\\Python311\\Lib\\site-packages\\wandb\\sdk\\interface\\interface_shared.py\", line 60, in _publish_telemetry\n",
      "    self._publish(rec)\n",
      "  File \"c:\\Users\\mfaza\\AppData\\Local\\Programs\\Python\\Python311\\Lib\\site-packages\\wandb\\sdk\\interface\\interface_sock.py\", line 39, in _publish\n",
      "    self._sock_client.send_record_publish(record)\n",
      "  File \"c:\\Users\\mfaza\\AppData\\Local\\Programs\\Python\\Python311\\Lib\\site-packages\\wandb\\sdk\\lib\\sock_client.py\", line 174, in send_record_publish\n",
      "    self.send_server_request(server_req)\n",
      "  File \"c:\\Users\\mfaza\\AppData\\Local\\Programs\\Python\\Python311\\Lib\\site-packages\\wandb\\sdk\\lib\\sock_client.py\", line 154, in send_server_request\n",
      "    self._send_message(msg)\n",
      "  File \"c:\\Users\\mfaza\\AppData\\Local\\Programs\\Python\\Python311\\Lib\\site-packages\\wandb\\sdk\\lib\\sock_client.py\", line 151, in _send_message\n",
      "    self._sendall_with_error_handle(header + data)\n",
      "  File \"c:\\Users\\mfaza\\AppData\\Local\\Programs\\Python\\Python311\\Lib\\site-packages\\wandb\\sdk\\lib\\sock_client.py\", line 130, in _sendall_with_error_handle\n",
      "    sent = self._sock.send(data)\n",
      "           ^^^^^^^^^^^^^^^^^^^^^\n",
      "ConnectionAbortedError: [WinError 10053] An established connection was aborted by the software in your host machine\n",
      "\u001b[34m\u001b[1mwandb\u001b[0m: Agent Starting Run: hsx34v62 with config:\n",
      "\u001b[34m\u001b[1mwandb\u001b[0m: \tactivation: tanh\n",
      "\u001b[34m\u001b[1mwandb\u001b[0m: \tbatch_size: 32\n",
      "\u001b[34m\u001b[1mwandb\u001b[0m: \tepochs: 10\n",
      "\u001b[34m\u001b[1mwandb\u001b[0m: \thidden_layers: 3\n",
      "\u001b[34m\u001b[1mwandb\u001b[0m: \thidden_size: 128\n",
      "\u001b[34m\u001b[1mwandb\u001b[0m: \tlearning_rate: 0.0001\n",
      "\u001b[34m\u001b[1mwandb\u001b[0m: \toptimizer: rmsprop\n",
      "\u001b[34m\u001b[1mwandb\u001b[0m: \tweight_decay: 0.5\n",
      "\u001b[34m\u001b[1mwandb\u001b[0m: \tweight_init: random\n",
      " 10%|█         | 1/10 [00:13<01:57, 13.08s/it]"
     ]
    },
    {
     "name": "stdout",
     "output_type": "stream",
     "text": [
      "Epoch 1/10 - Loss: 1.2606, Accuracy: 0.4743\n",
      "1.260609631532243 0.4742529348986126\n"
     ]
    },
    {
     "name": "stderr",
     "output_type": "stream",
     "text": [
      " 20%|██        | 2/10 [00:31<02:09, 16.18s/it]"
     ]
    },
    {
     "name": "stdout",
     "output_type": "stream",
     "text": [
      "Epoch 2/10 - Loss: 1.2510, Accuracy: 0.4854\n",
      "1.2510133764775877 0.4854422358591249\n"
     ]
    },
    {
     "name": "stderr",
     "output_type": "stream",
     "text": [
      " 30%|███       | 3/10 [00:58<02:28, 21.19s/it]"
     ]
    },
    {
     "name": "stdout",
     "output_type": "stream",
     "text": [
      "Epoch 3/10 - Loss: 1.2420, Accuracy: 0.4954\n",
      "1.241965118119698 0.49536419423692635\n"
     ]
    },
    {
     "name": "stderr",
     "output_type": "stream",
     "text": [
      " 40%|████      | 4/10 [03:22<06:56, 69.47s/it]"
     ]
    },
    {
     "name": "stdout",
     "output_type": "stream",
     "text": [
      "Epoch 4/10 - Loss: 1.2341, Accuracy: 0.5014\n",
      "1.2340875101196531 0.5013507203842049\n"
     ]
    },
    {
     "name": "stderr",
     "output_type": "stream",
     "text": [
      " 50%|█████     | 5/10 [03:49<04:32, 54.41s/it]"
     ]
    },
    {
     "name": "stdout",
     "output_type": "stream",
     "text": [
      "Epoch 5/10 - Loss: 1.2271, Accuracy: 0.5052\n",
      "1.2270818174739229 0.5052027748132337\n"
     ]
    },
    {
     "name": "stderr",
     "output_type": "stream",
     "text": [
      " 60%|██████    | 6/10 [04:16<02:59, 44.87s/it]"
     ]
    },
    {
     "name": "stdout",
     "output_type": "stream",
     "text": [
      "Epoch 6/10 - Loss: 1.2251, Accuracy: 0.5037\n",
      "1.2251174182916638 0.5036686232657417\n"
     ]
    },
    {
     "name": "stderr",
     "output_type": "stream",
     "text": [
      " 70%|███████   | 7/10 [04:42<01:56, 38.95s/it]"
     ]
    },
    {
     "name": "stdout",
     "output_type": "stream",
     "text": [
      "Epoch 7/10 - Loss: 1.2205, Accuracy: 0.5066\n",
      "1.220486832436911 0.5065868463180363\n"
     ]
    },
    {
     "name": "stderr",
     "output_type": "stream",
     "text": [
      " 80%|████████  | 8/10 [05:09<01:10, 35.14s/it]"
     ]
    },
    {
     "name": "stdout",
     "output_type": "stream",
     "text": [
      "Epoch 8/10 - Loss: 1.2175, Accuracy: 0.5092\n",
      "1.2175075919164582 0.5091715581643543\n"
     ]
    },
    {
     "name": "stderr",
     "output_type": "stream",
     "text": [
      " 90%|█████████ | 9/10 [05:36<00:32, 32.60s/it]"
     ]
    },
    {
     "name": "stdout",
     "output_type": "stream",
     "text": [
      "Epoch 9/10 - Loss: 1.2122, Accuracy: 0.5116\n",
      "1.2121880735629391 0.5115561632870864\n"
     ]
    },
    {
     "name": "stderr",
     "output_type": "stream",
     "text": [
      "100%|██████████| 10/10 [06:02<00:00, 36.28s/it]"
     ]
    },
    {
     "name": "stdout",
     "output_type": "stream",
     "text": [
      "Epoch 10/10 - Loss: 1.2128, Accuracy: 0.5077\n",
      "1.2128435681676208 0.5076540821771611\n"
     ]
    },
    {
     "name": "stderr",
     "output_type": "stream",
     "text": [
      "\n",
      "Exception in thread Thread-121 (_run_job):\n",
      "Traceback (most recent call last):\n",
      "  File \"c:\\Users\\mfaza\\AppData\\Local\\Programs\\Python\\Python311\\Lib\\site-packages\\wandb\\agents\\pyagent.py\", line 307, in _run_job\n",
      "    wandb.finish()\n",
      "  File \"c:\\Users\\mfaza\\AppData\\Local\\Programs\\Python\\Python311\\Lib\\site-packages\\wandb\\sdk\\wandb_run.py\", line 4130, in finish\n",
      "    wandb.run.finish(exit_code=exit_code, quiet=quiet)\n",
      "  File \"c:\\Users\\mfaza\\AppData\\Local\\Programs\\Python\\Python311\\Lib\\site-packages\\wandb\\sdk\\wandb_run.py\", line 449, in wrapper\n",
      "    return func(self, *args, **kwargs)\n",
      "           ^^^^^^^^^^^^^^^^^^^^^^^^^^^\n",
      "  File \"c:\\Users\\mfaza\\AppData\\Local\\Programs\\Python\\Python311\\Lib\\site-packages\\wandb\\sdk\\wandb_run.py\", line 391, in wrapper\n",
      "    return func(self, *args, **kwargs)\n",
      "           ^^^^^^^^^^^^^^^^^^^^^^^^^^^\n",
      "  File \"c:\\Users\\mfaza\\AppData\\Local\\Programs\\Python\\Python311\\Lib\\site-packages\\wandb\\sdk\\wandb_run.py\", line 2106, in finish\n",
      "    return self._finish(exit_code)\n",
      "           ^^^^^^^^^^^^^^^^^^^^^^^\n",
      "  File \"c:\\Users\\mfaza\\AppData\\Local\\Programs\\Python\\Python311\\Lib\\site-packages\\wandb\\sdk\\wandb_run.py\", line 2113, in _finish\n",
      "    with telemetry.context(run=self) as tel:\n",
      "  File \"c:\\Users\\mfaza\\AppData\\Local\\Programs\\Python\\Python311\\Lib\\site-packages\\wandb\\sdk\\lib\\telemetry.py\", line 42, in __exit__\n",
      "    self._run._telemetry_callback(self._obj)\n",
      "  File \"c:\\Users\\mfaza\\AppData\\Local\\Programs\\Python\\Python311\\Lib\\site-packages\\wandb\\sdk\\wandb_run.py\", line 749, in _telemetry_callback\n",
      "    self._telemetry_flush()\n",
      "  File \"c:\\Users\\mfaza\\AppData\\Local\\Programs\\Python\\Python311\\Lib\\site-packages\\wandb\\sdk\\wandb_run.py\", line 762, in _telemetry_flush\n",
      "    self._backend.interface._publish_telemetry(self._telemetry_obj)\n",
      "  File \"c:\\Users\\mfaza\\AppData\\Local\\Programs\\Python\\Python311\\Lib\\site-packages\\wandb\\sdk\\interface\\interface_shared.py\", line 60, in _publish_telemetry\n",
      "    self._publish(rec)\n",
      "  File \"c:\\Users\\mfaza\\AppData\\Local\\Programs\\Python\\Python311\\Lib\\site-packages\\wandb\\sdk\\interface\\interface_sock.py\", line 39, in _publish\n",
      "    self._sock_client.send_record_publish(record)\n",
      "  File \"c:\\Users\\mfaza\\AppData\\Local\\Programs\\Python\\Python311\\Lib\\site-packages\\wandb\\sdk\\lib\\sock_client.py\", line 174, in send_record_publish\n",
      "    self.send_server_request(server_req)\n",
      "  File \"c:\\Users\\mfaza\\AppData\\Local\\Programs\\Python\\Python311\\Lib\\site-packages\\wandb\\sdk\\lib\\sock_client.py\", line 154, in send_server_request\n",
      "    self._send_message(msg)\n",
      "  File \"c:\\Users\\mfaza\\AppData\\Local\\Programs\\Python\\Python311\\Lib\\site-packages\\wandb\\sdk\\lib\\sock_client.py\", line 151, in _send_message\n",
      "    self._sendall_with_error_handle(header + data)\n",
      "  File \"c:\\Users\\mfaza\\AppData\\Local\\Programs\\Python\\Python311\\Lib\\site-packages\\wandb\\sdk\\lib\\sock_client.py\", line 130, in _sendall_with_error_handle\n",
      "    sent = self._sock.send(data)\n",
      "           ^^^^^^^^^^^^^^^^^^^^^\n",
      "ConnectionAbortedError: [WinError 10053] An established connection was aborted by the software in your host machine\n",
      "\n",
      "During handling of the above exception, another exception occurred:\n",
      "\n",
      "Traceback (most recent call last):\n",
      "  File \"c:\\Users\\mfaza\\AppData\\Local\\Programs\\Python\\Python311\\Lib\\threading.py\", line 1038, in _bootstrap_inner\n",
      "    self.run()\n",
      "  File \"C:\\Users\\mfaza\\AppData\\Roaming\\Python\\Python311\\site-packages\\ipykernel\\ipkernel.py\", line 766, in run_closure\n",
      "    _threading_Thread_run(self)\n",
      "  File \"c:\\Users\\mfaza\\AppData\\Local\\Programs\\Python\\Python311\\Lib\\threading.py\", line 975, in run\n",
      "    self._target(*self._args, **self._kwargs)\n",
      "  File \"c:\\Users\\mfaza\\AppData\\Local\\Programs\\Python\\Python311\\Lib\\site-packages\\wandb\\agents\\pyagent.py\", line 311, in _run_job\n",
      "    wandb.finish(exit_code=1)\n",
      "  File \"c:\\Users\\mfaza\\AppData\\Local\\Programs\\Python\\Python311\\Lib\\site-packages\\wandb\\sdk\\wandb_run.py\", line 4130, in finish\n",
      "    wandb.run.finish(exit_code=exit_code, quiet=quiet)\n",
      "  File \"c:\\Users\\mfaza\\AppData\\Local\\Programs\\Python\\Python311\\Lib\\site-packages\\wandb\\sdk\\wandb_run.py\", line 449, in wrapper\n",
      "    return func(self, *args, **kwargs)\n",
      "           ^^^^^^^^^^^^^^^^^^^^^^^^^^^\n",
      "  File \"c:\\Users\\mfaza\\AppData\\Local\\Programs\\Python\\Python311\\Lib\\site-packages\\wandb\\sdk\\wandb_run.py\", line 391, in wrapper\n",
      "    return func(self, *args, **kwargs)\n",
      "           ^^^^^^^^^^^^^^^^^^^^^^^^^^^\n",
      "  File \"c:\\Users\\mfaza\\AppData\\Local\\Programs\\Python\\Python311\\Lib\\site-packages\\wandb\\sdk\\wandb_run.py\", line 2106, in finish\n",
      "    return self._finish(exit_code)\n",
      "           ^^^^^^^^^^^^^^^^^^^^^^^\n",
      "  File \"c:\\Users\\mfaza\\AppData\\Local\\Programs\\Python\\Python311\\Lib\\site-packages\\wandb\\sdk\\wandb_run.py\", line 2113, in _finish\n",
      "    with telemetry.context(run=self) as tel:\n",
      "  File \"c:\\Users\\mfaza\\AppData\\Local\\Programs\\Python\\Python311\\Lib\\site-packages\\wandb\\sdk\\lib\\telemetry.py\", line 42, in __exit__\n",
      "    self._run._telemetry_callback(self._obj)\n",
      "  File \"c:\\Users\\mfaza\\AppData\\Local\\Programs\\Python\\Python311\\Lib\\site-packages\\wandb\\sdk\\wandb_run.py\", line 749, in _telemetry_callback\n",
      "    self._telemetry_flush()\n",
      "  File \"c:\\Users\\mfaza\\AppData\\Local\\Programs\\Python\\Python311\\Lib\\site-packages\\wandb\\sdk\\wandb_run.py\", line 762, in _telemetry_flush\n",
      "    self._backend.interface._publish_telemetry(self._telemetry_obj)\n",
      "  File \"c:\\Users\\mfaza\\AppData\\Local\\Programs\\Python\\Python311\\Lib\\site-packages\\wandb\\sdk\\interface\\interface_shared.py\", line 60, in _publish_telemetry\n",
      "    self._publish(rec)\n",
      "  File \"c:\\Users\\mfaza\\AppData\\Local\\Programs\\Python\\Python311\\Lib\\site-packages\\wandb\\sdk\\interface\\interface_sock.py\", line 39, in _publish\n",
      "    self._sock_client.send_record_publish(record)\n",
      "  File \"c:\\Users\\mfaza\\AppData\\Local\\Programs\\Python\\Python311\\Lib\\site-packages\\wandb\\sdk\\lib\\sock_client.py\", line 174, in send_record_publish\n",
      "    self.send_server_request(server_req)\n",
      "  File \"c:\\Users\\mfaza\\AppData\\Local\\Programs\\Python\\Python311\\Lib\\site-packages\\wandb\\sdk\\lib\\sock_client.py\", line 154, in send_server_request\n",
      "    self._send_message(msg)\n",
      "  File \"c:\\Users\\mfaza\\AppData\\Local\\Programs\\Python\\Python311\\Lib\\site-packages\\wandb\\sdk\\lib\\sock_client.py\", line 151, in _send_message\n",
      "    self._sendall_with_error_handle(header + data)\n",
      "  File \"c:\\Users\\mfaza\\AppData\\Local\\Programs\\Python\\Python311\\Lib\\site-packages\\wandb\\sdk\\lib\\sock_client.py\", line 130, in _sendall_with_error_handle\n",
      "    sent = self._sock.send(data)\n",
      "           ^^^^^^^^^^^^^^^^^^^^^\n",
      "ConnectionAbortedError: [WinError 10053] An established connection was aborted by the software in your host machine\n",
      "\u001b[34m\u001b[1mwandb\u001b[0m: Sweep Agent: Waiting for job.\n",
      "\u001b[34m\u001b[1mwandb\u001b[0m: Job received.\n",
      "\u001b[34m\u001b[1mwandb\u001b[0m: Agent Starting Run: 050g4m9b with config:\n",
      "\u001b[34m\u001b[1mwandb\u001b[0m: \tactivation: ReLU\n",
      "\u001b[34m\u001b[1mwandb\u001b[0m: \tbatch_size: 16\n",
      "\u001b[34m\u001b[1mwandb\u001b[0m: \tepochs: 10\n",
      "\u001b[34m\u001b[1mwandb\u001b[0m: \thidden_layers: 4\n",
      "\u001b[34m\u001b[1mwandb\u001b[0m: \thidden_size: 32\n",
      "\u001b[34m\u001b[1mwandb\u001b[0m: \tlearning_rate: 0.0001\n",
      "\u001b[34m\u001b[1mwandb\u001b[0m: \toptimizer: nesterov\n",
      "\u001b[34m\u001b[1mwandb\u001b[0m: \tweight_decay: 0.5\n",
      "\u001b[34m\u001b[1mwandb\u001b[0m: \tweight_init: random\n",
      " 10%|█         | 1/10 [00:22<03:25, 22.85s/it]"
     ]
    },
    {
     "name": "stdout",
     "output_type": "stream",
     "text": [
      "Epoch 1/10 - Loss: 1.2161, Accuracy: 0.5032\n",
      "1.2160634059973947 0.5031850320170758\n"
     ]
    },
    {
     "name": "stderr",
     "output_type": "stream",
     "text": [
      " 20%|██        | 2/10 [15:30<1:12:26, 543.32s/it]"
     ]
    },
    {
     "name": "stdout",
     "output_type": "stream",
     "text": [
      "Epoch 2/10 - Loss: 1.2097, Accuracy: 0.5061\n",
      "1.2097198062569554 0.5060865795090715\n"
     ]
    },
    {
     "name": "stderr",
     "output_type": "stream",
     "text": [
      "\u001b[34m\u001b[1mwandb\u001b[0m: Network error (ConnectionError), entering retry loop.\n",
      " 30%|███       | 3/10 [16:12<36:40, 314.41s/it]  "
     ]
    },
    {
     "name": "stdout",
     "output_type": "stream",
     "text": [
      "Epoch 3/10 - Loss: 1.2052, Accuracy: 0.5073\n",
      "1.205202263374892 0.5073205709711847\n"
     ]
    },
    {
     "name": "stderr",
     "output_type": "stream",
     "text": [
      " 40%|████      | 4/10 [16:48<20:27, 204.53s/it]"
     ]
    },
    {
     "name": "stdout",
     "output_type": "stream",
     "text": [
      "Epoch 4/10 - Loss: 1.2020, Accuracy: 0.5085\n",
      "1.2019971272580845 0.5085212113127001\n"
     ]
    },
    {
     "name": "stderr",
     "output_type": "stream",
     "text": [
      " 50%|█████     | 5/10 [17:28<12:06, 145.24s/it]"
     ]
    },
    {
     "name": "stdout",
     "output_type": "stream",
     "text": [
      "Epoch 5/10 - Loss: 1.1977, Accuracy: 0.5091\n",
      "1.1977039123944915 0.5091215314834578\n"
     ]
    },
    {
     "name": "stderr",
     "output_type": "stream",
     "text": [
      " 60%|██████    | 6/10 [18:00<07:06, 106.61s/it]"
     ]
    },
    {
     "name": "stdout",
     "output_type": "stream",
     "text": [
      "Epoch 6/10 - Loss: 1.1939, Accuracy: 0.5101\n",
      "1.1938951945314835 0.5101387406616862\n"
     ]
    },
    {
     "name": "stderr",
     "output_type": "stream",
     "text": [
      " 70%|███████   | 7/10 [18:20<03:54, 78.33s/it] "
     ]
    },
    {
     "name": "stdout",
     "output_type": "stream",
     "text": [
      "Epoch 7/10 - Loss: 1.1894, Accuracy: 0.5121\n",
      "1.1893768053767584 0.5120897812166488\n"
     ]
    },
    {
     "name": "stderr",
     "output_type": "stream",
     "text": [
      " 80%|████████  | 8/10 [18:42<02:00, 60.41s/it]"
     ]
    },
    {
     "name": "stdout",
     "output_type": "stream",
     "text": [
      "Epoch 8/10 - Loss: 1.1859, Accuracy: 0.5138\n",
      "1.1859186123979348 0.5137740128068303\n"
     ]
    },
    {
     "name": "stderr",
     "output_type": "stream",
     "text": [
      " 90%|█████████ | 9/10 [18:59<00:46, 46.94s/it]"
     ]
    },
    {
     "name": "stdout",
     "output_type": "stream",
     "text": [
      "Epoch 9/10 - Loss: 1.1815, Accuracy: 0.5176\n",
      "1.1814622502476755 0.5175927161152615\n"
     ]
    },
    {
     "name": "stderr",
     "output_type": "stream",
     "text": [
      "100%|██████████| 10/10 [19:16<00:00, 115.69s/it]"
     ]
    },
    {
     "name": "stdout",
     "output_type": "stream",
     "text": [
      "Epoch 10/10 - Loss: 1.1765, Accuracy: 0.5201\n",
      "1.1764685258015153 0.5200940501600854\n"
     ]
    },
    {
     "name": "stderr",
     "output_type": "stream",
     "text": [
      "\n",
      "Exception in thread Thread-122 (_run_job):\n",
      "Traceback (most recent call last):\n",
      "  File \"c:\\Users\\mfaza\\AppData\\Local\\Programs\\Python\\Python311\\Lib\\site-packages\\wandb\\agents\\pyagent.py\", line 307, in _run_job\n",
      "    wandb.finish()\n",
      "  File \"c:\\Users\\mfaza\\AppData\\Local\\Programs\\Python\\Python311\\Lib\\site-packages\\wandb\\sdk\\wandb_run.py\", line 4130, in finish\n",
      "    wandb.run.finish(exit_code=exit_code, quiet=quiet)\n",
      "  File \"c:\\Users\\mfaza\\AppData\\Local\\Programs\\Python\\Python311\\Lib\\site-packages\\wandb\\sdk\\wandb_run.py\", line 449, in wrapper\n",
      "    return func(self, *args, **kwargs)\n",
      "           ^^^^^^^^^^^^^^^^^^^^^^^^^^^\n",
      "  File \"c:\\Users\\mfaza\\AppData\\Local\\Programs\\Python\\Python311\\Lib\\site-packages\\wandb\\sdk\\wandb_run.py\", line 391, in wrapper\n",
      "    return func(self, *args, **kwargs)\n",
      "           ^^^^^^^^^^^^^^^^^^^^^^^^^^^\n",
      "  File \"c:\\Users\\mfaza\\AppData\\Local\\Programs\\Python\\Python311\\Lib\\site-packages\\wandb\\sdk\\wandb_run.py\", line 2106, in finish\n",
      "    return self._finish(exit_code)\n",
      "           ^^^^^^^^^^^^^^^^^^^^^^^\n",
      "  File \"c:\\Users\\mfaza\\AppData\\Local\\Programs\\Python\\Python311\\Lib\\site-packages\\wandb\\sdk\\wandb_run.py\", line 2113, in _finish\n",
      "    with telemetry.context(run=self) as tel:\n",
      "  File \"c:\\Users\\mfaza\\AppData\\Local\\Programs\\Python\\Python311\\Lib\\site-packages\\wandb\\sdk\\lib\\telemetry.py\", line 42, in __exit__\n",
      "    self._run._telemetry_callback(self._obj)\n",
      "  File \"c:\\Users\\mfaza\\AppData\\Local\\Programs\\Python\\Python311\\Lib\\site-packages\\wandb\\sdk\\wandb_run.py\", line 749, in _telemetry_callback\n",
      "    self._telemetry_flush()\n",
      "  File \"c:\\Users\\mfaza\\AppData\\Local\\Programs\\Python\\Python311\\Lib\\site-packages\\wandb\\sdk\\wandb_run.py\", line 762, in _telemetry_flush\n",
      "    self._backend.interface._publish_telemetry(self._telemetry_obj)\n",
      "  File \"c:\\Users\\mfaza\\AppData\\Local\\Programs\\Python\\Python311\\Lib\\site-packages\\wandb\\sdk\\interface\\interface_shared.py\", line 60, in _publish_telemetry\n",
      "    self._publish(rec)\n",
      "  File \"c:\\Users\\mfaza\\AppData\\Local\\Programs\\Python\\Python311\\Lib\\site-packages\\wandb\\sdk\\interface\\interface_sock.py\", line 39, in _publish\n",
      "    self._sock_client.send_record_publish(record)\n",
      "  File \"c:\\Users\\mfaza\\AppData\\Local\\Programs\\Python\\Python311\\Lib\\site-packages\\wandb\\sdk\\lib\\sock_client.py\", line 174, in send_record_publish\n",
      "    self.send_server_request(server_req)\n",
      "  File \"c:\\Users\\mfaza\\AppData\\Local\\Programs\\Python\\Python311\\Lib\\site-packages\\wandb\\sdk\\lib\\sock_client.py\", line 154, in send_server_request\n",
      "    self._send_message(msg)\n",
      "  File \"c:\\Users\\mfaza\\AppData\\Local\\Programs\\Python\\Python311\\Lib\\site-packages\\wandb\\sdk\\lib\\sock_client.py\", line 151, in _send_message\n",
      "    self._sendall_with_error_handle(header + data)\n",
      "  File \"c:\\Users\\mfaza\\AppData\\Local\\Programs\\Python\\Python311\\Lib\\site-packages\\wandb\\sdk\\lib\\sock_client.py\", line 130, in _sendall_with_error_handle\n",
      "    sent = self._sock.send(data)\n",
      "           ^^^^^^^^^^^^^^^^^^^^^\n",
      "ConnectionAbortedError: [WinError 10053] An established connection was aborted by the software in your host machine\n",
      "\n",
      "During handling of the above exception, another exception occurred:\n",
      "\n",
      "Traceback (most recent call last):\n",
      "  File \"c:\\Users\\mfaza\\AppData\\Local\\Programs\\Python\\Python311\\Lib\\threading.py\", line 1038, in _bootstrap_inner\n",
      "    self.run()\n",
      "  File \"C:\\Users\\mfaza\\AppData\\Roaming\\Python\\Python311\\site-packages\\ipykernel\\ipkernel.py\", line 766, in run_closure\n",
      "    _threading_Thread_run(self)\n",
      "  File \"c:\\Users\\mfaza\\AppData\\Local\\Programs\\Python\\Python311\\Lib\\threading.py\", line 975, in run\n",
      "    self._target(*self._args, **self._kwargs)\n",
      "  File \"c:\\Users\\mfaza\\AppData\\Local\\Programs\\Python\\Python311\\Lib\\site-packages\\wandb\\agents\\pyagent.py\", line 311, in _run_job\n",
      "    wandb.finish(exit_code=1)\n",
      "  File \"c:\\Users\\mfaza\\AppData\\Local\\Programs\\Python\\Python311\\Lib\\site-packages\\wandb\\sdk\\wandb_run.py\", line 4130, in finish\n",
      "    wandb.run.finish(exit_code=exit_code, quiet=quiet)\n",
      "  File \"c:\\Users\\mfaza\\AppData\\Local\\Programs\\Python\\Python311\\Lib\\site-packages\\wandb\\sdk\\wandb_run.py\", line 449, in wrapper\n",
      "    return func(self, *args, **kwargs)\n",
      "           ^^^^^^^^^^^^^^^^^^^^^^^^^^^\n",
      "  File \"c:\\Users\\mfaza\\AppData\\Local\\Programs\\Python\\Python311\\Lib\\site-packages\\wandb\\sdk\\wandb_run.py\", line 391, in wrapper\n",
      "    return func(self, *args, **kwargs)\n",
      "           ^^^^^^^^^^^^^^^^^^^^^^^^^^^\n",
      "  File \"c:\\Users\\mfaza\\AppData\\Local\\Programs\\Python\\Python311\\Lib\\site-packages\\wandb\\sdk\\wandb_run.py\", line 2106, in finish\n",
      "    return self._finish(exit_code)\n",
      "           ^^^^^^^^^^^^^^^^^^^^^^^\n",
      "  File \"c:\\Users\\mfaza\\AppData\\Local\\Programs\\Python\\Python311\\Lib\\site-packages\\wandb\\sdk\\wandb_run.py\", line 2113, in _finish\n",
      "    with telemetry.context(run=self) as tel:\n",
      "  File \"c:\\Users\\mfaza\\AppData\\Local\\Programs\\Python\\Python311\\Lib\\site-packages\\wandb\\sdk\\lib\\telemetry.py\", line 42, in __exit__\n",
      "    self._run._telemetry_callback(self._obj)\n",
      "  File \"c:\\Users\\mfaza\\AppData\\Local\\Programs\\Python\\Python311\\Lib\\site-packages\\wandb\\sdk\\wandb_run.py\", line 749, in _telemetry_callback\n",
      "    self._telemetry_flush()\n",
      "  File \"c:\\Users\\mfaza\\AppData\\Local\\Programs\\Python\\Python311\\Lib\\site-packages\\wandb\\sdk\\wandb_run.py\", line 762, in _telemetry_flush\n",
      "    self._backend.interface._publish_telemetry(self._telemetry_obj)\n",
      "  File \"c:\\Users\\mfaza\\AppData\\Local\\Programs\\Python\\Python311\\Lib\\site-packages\\wandb\\sdk\\interface\\interface_shared.py\", line 60, in _publish_telemetry\n",
      "    self._publish(rec)\n",
      "  File \"c:\\Users\\mfaza\\AppData\\Local\\Programs\\Python\\Python311\\Lib\\site-packages\\wandb\\sdk\\interface\\interface_sock.py\", line 39, in _publish\n",
      "    self._sock_client.send_record_publish(record)\n",
      "  File \"c:\\Users\\mfaza\\AppData\\Local\\Programs\\Python\\Python311\\Lib\\site-packages\\wandb\\sdk\\lib\\sock_client.py\", line 174, in send_record_publish\n",
      "    self.send_server_request(server_req)\n",
      "  File \"c:\\Users\\mfaza\\AppData\\Local\\Programs\\Python\\Python311\\Lib\\site-packages\\wandb\\sdk\\lib\\sock_client.py\", line 154, in send_server_request\n",
      "    self._send_message(msg)\n",
      "  File \"c:\\Users\\mfaza\\AppData\\Local\\Programs\\Python\\Python311\\Lib\\site-packages\\wandb\\sdk\\lib\\sock_client.py\", line 151, in _send_message\n",
      "    self._sendall_with_error_handle(header + data)\n",
      "  File \"c:\\Users\\mfaza\\AppData\\Local\\Programs\\Python\\Python311\\Lib\\site-packages\\wandb\\sdk\\lib\\sock_client.py\", line 130, in _sendall_with_error_handle\n",
      "    sent = self._sock.send(data)\n",
      "           ^^^^^^^^^^^^^^^^^^^^^\n",
      "ConnectionAbortedError: [WinError 10053] An established connection was aborted by the software in your host machine\n",
      "\u001b[34m\u001b[1mwandb\u001b[0m: Sweep Agent: Waiting for job.\n",
      "\u001b[34m\u001b[1mwandb\u001b[0m: Ctrl + C detected. Stopping sweep.\n"
     ]
    },
    {
     "name": "stdout",
     "output_type": "stream",
     "text": [
      "Error in callback <bound method _WandbInit._pause_backend of <wandb.sdk.wandb_init._WandbInit object at 0x000002870D796D10>> (for post_run_cell):\n"
     ]
    },
    {
     "ename": "ConnectionAbortedError",
     "evalue": "[WinError 10053] An established connection was aborted by the software in your host machine",
     "output_type": "error",
     "traceback": [
      "\u001b[1;31m---------------------------------------------------------------------------\u001b[0m",
      "\u001b[1;31mConnectionAbortedError\u001b[0m                    Traceback (most recent call last)",
      "File \u001b[1;32mc:\\Users\\mfaza\\AppData\\Local\\Programs\\Python\\Python311\\Lib\\site-packages\\wandb\\sdk\\wandb_init.py:565\u001b[0m, in \u001b[0;36m_WandbInit._pause_backend\u001b[1;34m(self, *args, **kwargs)\u001b[0m\n\u001b[0;32m    563\u001b[0m \u001b[38;5;28;01mif\u001b[39;00m \u001b[38;5;28mself\u001b[39m\u001b[38;5;241m.\u001b[39mbackend\u001b[38;5;241m.\u001b[39minterface \u001b[38;5;129;01mis\u001b[39;00m \u001b[38;5;129;01mnot\u001b[39;00m \u001b[38;5;28;01mNone\u001b[39;00m:\n\u001b[0;32m    564\u001b[0m     \u001b[38;5;28mself\u001b[39m\u001b[38;5;241m.\u001b[39m_logger\u001b[38;5;241m.\u001b[39minfo(\u001b[38;5;124m\"\u001b[39m\u001b[38;5;124mpausing backend\u001b[39m\u001b[38;5;124m\"\u001b[39m)  \u001b[38;5;66;03m# type: ignore\u001b[39;00m\n\u001b[1;32m--> 565\u001b[0m     \u001b[38;5;28;43mself\u001b[39;49m\u001b[38;5;241;43m.\u001b[39;49m\u001b[43mbackend\u001b[49m\u001b[38;5;241;43m.\u001b[39;49m\u001b[43minterface\u001b[49m\u001b[38;5;241;43m.\u001b[39;49m\u001b[43mpublish_pause\u001b[49m\u001b[43m(\u001b[49m\u001b[43m)\u001b[49m\n",
      "File \u001b[1;32mc:\\Users\\mfaza\\AppData\\Local\\Programs\\Python\\Python311\\Lib\\site-packages\\wandb\\sdk\\interface\\interface.py:769\u001b[0m, in \u001b[0;36mInterfaceBase.publish_pause\u001b[1;34m(self)\u001b[0m\n\u001b[0;32m    767\u001b[0m \u001b[38;5;28;01mdef\u001b[39;00m \u001b[38;5;21mpublish_pause\u001b[39m(\u001b[38;5;28mself\u001b[39m) \u001b[38;5;241m-\u001b[39m\u001b[38;5;241m>\u001b[39m \u001b[38;5;28;01mNone\u001b[39;00m:\n\u001b[0;32m    768\u001b[0m     pause \u001b[38;5;241m=\u001b[39m pb\u001b[38;5;241m.\u001b[39mPauseRequest()\n\u001b[1;32m--> 769\u001b[0m     \u001b[38;5;28;43mself\u001b[39;49m\u001b[38;5;241;43m.\u001b[39;49m\u001b[43m_publish_pause\u001b[49m\u001b[43m(\u001b[49m\u001b[43mpause\u001b[49m\u001b[43m)\u001b[49m\n",
      "File \u001b[1;32mc:\\Users\\mfaza\\AppData\\Local\\Programs\\Python\\Python311\\Lib\\site-packages\\wandb\\sdk\\interface\\interface_shared.py:289\u001b[0m, in \u001b[0;36mInterfaceShared._publish_pause\u001b[1;34m(self, pause)\u001b[0m\n\u001b[0;32m    287\u001b[0m \u001b[38;5;28;01mdef\u001b[39;00m \u001b[38;5;21m_publish_pause\u001b[39m(\u001b[38;5;28mself\u001b[39m, pause: pb\u001b[38;5;241m.\u001b[39mPauseRequest) \u001b[38;5;241m-\u001b[39m\u001b[38;5;241m>\u001b[39m \u001b[38;5;28;01mNone\u001b[39;00m:\n\u001b[0;32m    288\u001b[0m     rec \u001b[38;5;241m=\u001b[39m \u001b[38;5;28mself\u001b[39m\u001b[38;5;241m.\u001b[39m_make_request(pause\u001b[38;5;241m=\u001b[39mpause)\n\u001b[1;32m--> 289\u001b[0m     \u001b[38;5;28;43mself\u001b[39;49m\u001b[38;5;241;43m.\u001b[39;49m\u001b[43m_publish\u001b[49m\u001b[43m(\u001b[49m\u001b[43mrec\u001b[49m\u001b[43m)\u001b[49m\n",
      "File \u001b[1;32mc:\\Users\\mfaza\\AppData\\Local\\Programs\\Python\\Python311\\Lib\\site-packages\\wandb\\sdk\\interface\\interface_sock.py:39\u001b[0m, in \u001b[0;36mInterfaceSock._publish\u001b[1;34m(self, record, local)\u001b[0m\n\u001b[0;32m     37\u001b[0m \u001b[38;5;28;01mdef\u001b[39;00m \u001b[38;5;21m_publish\u001b[39m(\u001b[38;5;28mself\u001b[39m, record: \u001b[38;5;124m\"\u001b[39m\u001b[38;5;124mpb.Record\u001b[39m\u001b[38;5;124m\"\u001b[39m, local: Optional[\u001b[38;5;28mbool\u001b[39m] \u001b[38;5;241m=\u001b[39m \u001b[38;5;28;01mNone\u001b[39;00m) \u001b[38;5;241m-\u001b[39m\u001b[38;5;241m>\u001b[39m \u001b[38;5;28;01mNone\u001b[39;00m:\n\u001b[0;32m     38\u001b[0m     \u001b[38;5;28mself\u001b[39m\u001b[38;5;241m.\u001b[39m_assign(record)\n\u001b[1;32m---> 39\u001b[0m     \u001b[38;5;28;43mself\u001b[39;49m\u001b[38;5;241;43m.\u001b[39;49m\u001b[43m_sock_client\u001b[49m\u001b[38;5;241;43m.\u001b[39;49m\u001b[43msend_record_publish\u001b[49m\u001b[43m(\u001b[49m\u001b[43mrecord\u001b[49m\u001b[43m)\u001b[49m\n",
      "File \u001b[1;32mc:\\Users\\mfaza\\AppData\\Local\\Programs\\Python\\Python311\\Lib\\site-packages\\wandb\\sdk\\lib\\sock_client.py:174\u001b[0m, in \u001b[0;36mSockClient.send_record_publish\u001b[1;34m(self, record)\u001b[0m\n\u001b[0;32m    172\u001b[0m server_req\u001b[38;5;241m.\u001b[39mrequest_id \u001b[38;5;241m=\u001b[39m record\u001b[38;5;241m.\u001b[39mcontrol\u001b[38;5;241m.\u001b[39mmailbox_slot\n\u001b[0;32m    173\u001b[0m server_req\u001b[38;5;241m.\u001b[39mrecord_publish\u001b[38;5;241m.\u001b[39mCopyFrom(record)\n\u001b[1;32m--> 174\u001b[0m \u001b[38;5;28;43mself\u001b[39;49m\u001b[38;5;241;43m.\u001b[39;49m\u001b[43msend_server_request\u001b[49m\u001b[43m(\u001b[49m\u001b[43mserver_req\u001b[49m\u001b[43m)\u001b[49m\n",
      "File \u001b[1;32mc:\\Users\\mfaza\\AppData\\Local\\Programs\\Python\\Python311\\Lib\\site-packages\\wandb\\sdk\\lib\\sock_client.py:154\u001b[0m, in \u001b[0;36mSockClient.send_server_request\u001b[1;34m(self, msg)\u001b[0m\n\u001b[0;32m    153\u001b[0m \u001b[38;5;28;01mdef\u001b[39;00m \u001b[38;5;21msend_server_request\u001b[39m(\u001b[38;5;28mself\u001b[39m, msg: spb\u001b[38;5;241m.\u001b[39mServerRequest) \u001b[38;5;241m-\u001b[39m\u001b[38;5;241m>\u001b[39m \u001b[38;5;28;01mNone\u001b[39;00m:\n\u001b[1;32m--> 154\u001b[0m     \u001b[38;5;28;43mself\u001b[39;49m\u001b[38;5;241;43m.\u001b[39;49m\u001b[43m_send_message\u001b[49m\u001b[43m(\u001b[49m\u001b[43mmsg\u001b[49m\u001b[43m)\u001b[49m\n",
      "File \u001b[1;32mc:\\Users\\mfaza\\AppData\\Local\\Programs\\Python\\Python311\\Lib\\site-packages\\wandb\\sdk\\lib\\sock_client.py:151\u001b[0m, in \u001b[0;36mSockClient._send_message\u001b[1;34m(self, msg)\u001b[0m\n\u001b[0;32m    149\u001b[0m header \u001b[38;5;241m=\u001b[39m struct\u001b[38;5;241m.\u001b[39mpack(\u001b[38;5;124m\"\u001b[39m\u001b[38;5;124m<BI\u001b[39m\u001b[38;5;124m\"\u001b[39m, \u001b[38;5;28mord\u001b[39m(\u001b[38;5;124m\"\u001b[39m\u001b[38;5;124mW\u001b[39m\u001b[38;5;124m\"\u001b[39m), raw_size)\n\u001b[0;32m    150\u001b[0m \u001b[38;5;28;01mwith\u001b[39;00m \u001b[38;5;28mself\u001b[39m\u001b[38;5;241m.\u001b[39m_lock:\n\u001b[1;32m--> 151\u001b[0m     \u001b[38;5;28;43mself\u001b[39;49m\u001b[38;5;241;43m.\u001b[39;49m\u001b[43m_sendall_with_error_handle\u001b[49m\u001b[43m(\u001b[49m\u001b[43mheader\u001b[49m\u001b[43m \u001b[49m\u001b[38;5;241;43m+\u001b[39;49m\u001b[43m \u001b[49m\u001b[43mdata\u001b[49m\u001b[43m)\u001b[49m\n",
      "File \u001b[1;32mc:\\Users\\mfaza\\AppData\\Local\\Programs\\Python\\Python311\\Lib\\site-packages\\wandb\\sdk\\lib\\sock_client.py:130\u001b[0m, in \u001b[0;36mSockClient._sendall_with_error_handle\u001b[1;34m(self, data)\u001b[0m\n\u001b[0;32m    128\u001b[0m start_time \u001b[38;5;241m=\u001b[39m time\u001b[38;5;241m.\u001b[39mmonotonic()\n\u001b[0;32m    129\u001b[0m \u001b[38;5;28;01mtry\u001b[39;00m:\n\u001b[1;32m--> 130\u001b[0m     sent \u001b[38;5;241m=\u001b[39m \u001b[38;5;28;43mself\u001b[39;49m\u001b[38;5;241;43m.\u001b[39;49m\u001b[43m_sock\u001b[49m\u001b[38;5;241;43m.\u001b[39;49m\u001b[43msend\u001b[49m\u001b[43m(\u001b[49m\u001b[43mdata\u001b[49m\u001b[43m)\u001b[49m\n\u001b[0;32m    131\u001b[0m     \u001b[38;5;66;03m# sent equal to 0 indicates a closed socket\u001b[39;00m\n\u001b[0;32m    132\u001b[0m     \u001b[38;5;28;01mif\u001b[39;00m sent \u001b[38;5;241m==\u001b[39m \u001b[38;5;241m0\u001b[39m:\n",
      "\u001b[1;31mConnectionAbortedError\u001b[0m: [WinError 10053] An established connection was aborted by the software in your host machine"
     ]
    }
   ],
   "source": [
    "epochs = 10\n",
    "batch_size = 64\n",
    "\n",
    "num_samples = train_images.shape[0]\n",
    "num_batches = (num_samples )// batch_size\n",
    "def train():\n",
    "    for epoch in tqdm(range(epochs)):\n",
    "    # indices = np.arange(num_samples)\n",
    "    # np.random.shuffle(indices)\n",
    "    # X_train = train_images[indices]\n",
    "    # print(X_train[0][0])\n",
    "    # y_train = y_true[indices]\n",
    "\n",
    "        train_loss, train_acc = [], []\n",
    "        for batch in range(num_batches):\n",
    "    \n",
    "            start = batch * batch_size\n",
    "            end = start + batch_size\n",
    "\n",
    "            X_batch = train_images[start:end]\n",
    "    \n",
    "            y_batch = one_hot_encode(train_labels[start:end],10)\n",
    "\n",
    "        \n",
    "            for i in range(batch_size):\n",
    "                X_batch[i]=X_batch[i].reshape(1,784)\n",
    "                z1 = layer1.forward(X_batch[i])\n",
    "                a1=activ.sgm(z1)\n",
    "                z2=layer2.forward(a1)\n",
    "                a2=activ.sgm(z2)\n",
    "                z3=layer3.forward(a2)\n",
    "                a3=activ.sftmx(z3)\n",
    "                a3=np.clip(a3,1e-7,1-1e-7)\n",
    "\n",
    "                train_probs = a3\n",
    "       \n",
    "        \n",
    "       \n",
    "                train_loss.append(cost.cross_entropy(train_probs, y_batch[i]))\n",
    "                train_acc.append(np.mean( np.argmax(train_probs) == np.argmax(y_batch[i])))\n",
    "\n",
    "                dL_dz3 = train_probs - y_batch[i]\n",
    "                dL_da2=np.dot(dL_dz3, layer3.weights.T)\n",
    "                dL_dz2=dL_da2*(z2>0)\n",
    "                dL_da1=np.dot(dL_dz2, layer2.weights.T)\n",
    "                dL_dz1=dL_da1*(z1>0)\n",
    "            \n",
    "\n",
    "                dw3=np.dot(a2.T,dL_dz3)\n",
    "                dw2=np.dot(a1.T,dL_dz2)\n",
    "                dw1=np.dot(X_batch[i].reshape(1,784).T, dL_dz1)\n",
    "\n",
    "                db3=np.sum(dL_dz3,axis=0,keepdims=True)\n",
    "                db2=np.sum(dL_dz2,axis=0,keepdims=True)\n",
    "                db1=np.sum(dL_dz1,axis=0,keepdims=True)\n",
    "           \n",
    "\n",
    "            # layer3_update=optimzer(layer3.weights,layer3.biases,0.001,dw3,db3).adagrad()\n",
    "            # layer2_update=optimzer(layer2.weights,layer2.biases,0.001,dw2,db2).adagrad()\n",
    "            # layer1_update=optimzer(layer1.weights,layer1.biases,0.001,dw1,db1).adagrad()\n",
    "\n",
    "                layer3.weights-=(learning_rate*dw3)\n",
    "                layer2.weights-=(learning_rate*dw2)\n",
    "                layer1.weights-=(learning_rate*dw1)\n",
    "                layer3.biases-=(learning_rate*db3)\n",
    "                layer2.biases-=(learning_rate*db2)\n",
    "                layer1.biases-=(learning_rate*db1)\n",
    "            \n",
    "           \n",
    "                l=cost.cross_entropy(a3,y_true[i])\n",
    "        \n",
    "        train_acc = np.mean(train_acc)\n",
    "        train_loss = np.mean(train_loss)\n",
    "        print(f\"Epoch {epoch+1}/{epochs} - Loss: {train_loss:.4f}, Accuracy: {train_acc:.4f}\")\n",
    "\n",
    "        print(train_loss, train_acc)\n",
    "\n",
    "\n",
    "sweep_config = {\n",
    "    \"method\": \"bayes\",  # Bayesian optimization for efficiency\n",
    "    \"metric\": {\"name\": \"test_accuracy\", \"goal\": \"maximize\"},\n",
    "    \"parameters\": {\n",
    "        \"epochs\": {\"values\": [5, 10]},\n",
    "        \"hidden_layers\": {\"values\": [3, 4, 5]},\n",
    "        \"hidden_size\": {\"values\": [32, 64, 128]},\n",
    "        \"weight_decay\": {\"values\": [0, 0.0005, 0.5]},\n",
    "        \"learning_rate\": {\"values\": [1e-3, 1e-4]},\n",
    "        \"optimizer\": {\"values\": [\"sgd\", \"momentum\", \"nesterov\", \"rmsprop\", \"adam\", \"nadam\"]},\n",
    "        \"batch_size\": {\"values\": [16, 32, 64]},\n",
    "        \"weight_init\": {\"values\": [\"random\"]},\n",
    "        \"activation\": {\"values\": [\"sigmoid\", \"tanh\", \"ReLU\"]}\n",
    "    }\n",
    "}\n",
    "\n",
    "sweep_id = wandb.sweep(sweep_config, project=\"deep learing assignment1 \")\n",
    "wandb.agent(sweep_id, function=train, count=20)\n",
    "\n",
    "\n"
   ]
  },
  {
   "cell_type": "code",
   "execution_count": null,
   "metadata": {},
   "outputs": [],
   "source": []
  }
 ],
 "metadata": {
  "kernelspec": {
   "display_name": "Python 3",
   "language": "python",
   "name": "python3"
  },
  "language_info": {
   "codemirror_mode": {
    "name": "ipython",
    "version": 3
   },
   "file_extension": ".py",
   "mimetype": "text/x-python",
   "name": "python",
   "nbconvert_exporter": "python",
   "pygments_lexer": "ipython3",
   "version": "3.11.0"
  }
 },
 "nbformat": 4,
 "nbformat_minor": 2
}
